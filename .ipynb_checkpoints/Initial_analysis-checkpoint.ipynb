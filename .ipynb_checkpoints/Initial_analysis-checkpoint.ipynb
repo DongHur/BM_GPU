{
 "cells": [
  {
   "cell_type": "code",
   "execution_count": 2,
   "metadata": {},
   "outputs": [
    {
     "data": {
      "text/html": [
       "\n",
       "<style>\n",
       ".output_png {\n",
       "    display: table-cell;\n",
       "    text-align: center;\n",
       "    vertical-align: middle;\n",
       "}\n",
       "</style>\n"
      ],
      "text/plain": [
       "<IPython.core.display.HTML object>"
      ]
     },
     "execution_count": 2,
     "metadata": {},
     "output_type": "execute_result"
    }
   ],
   "source": [
    "from IPython.core.display import HTML\n",
    "HTML(\"\"\"\n",
    "<style>\n",
    ".output_png {\n",
    "    display: table-cell;\n",
    "    text-align: center;\n",
    "    vertical-align: middle;\n",
    "}\n",
    "</style>\n",
    "\"\"\")"
   ]
  },
  {
   "cell_type": "code",
   "execution_count": 4,
   "metadata": {},
   "outputs": [],
   "source": [
    "import random\n",
    "import numpy as np\n",
    "import matplotlib\n",
    "import matplotlib.pyplot as plt\n",
    "from matplotlib.colors import ListedColormap\n",
    "import seaborn as sns\n",
    "from glob2 import glob\n",
    "\n",
    "from sklearn.mixture import GaussianMixture\n",
    "from sklearn.preprocessing import OneHotEncoder"
   ]
  },
  {
   "cell_type": "code",
   "execution_count": 8,
   "metadata": {},
   "outputs": [],
   "source": [
    "results_path = \"results/test\"\n",
    "\n",
    "tot_bp = np.load(f\"{results_path}/bodypoints.npy\")\n",
    "tot_angles = np.load(f\"{results_path}/angles.npy\")\n",
    "embed = np.load(f\"{results_path}/embeddings.npy\")\n",
    "tot_pwr = np.load(f\"{results_path}/power.npy\")"
   ]
  },
  {
   "cell_type": "markdown",
   "metadata": {},
   "source": [
    "# Analyze Embeddings"
   ]
  },
  {
   "cell_type": "code",
   "execution_count": null,
   "metadata": {},
   "outputs": [],
   "source": [
    "fig, ax = plt.subplots(figsize=(5, 5))\n",
    "ax = sns.kdeplot(embed[:,0], embed[:,1], \n",
    "                 shade=True, shade_lowest=True, gridsize=80, levels=30, cmap='jet',cbar=False)\n",
    "ax.set(xlabel='Component 1', ylabel='Component 2', title=\"UMAP Training Density Plot\")\n",
    "# ax.grid(True)\n",
    "plt.show()"
   ]
  },
  {
   "cell_type": "code",
   "execution_count": null,
   "metadata": {},
   "outputs": [],
   "source": [
    "max_cluster = 40\n",
    "cluster_list = range(1, max_cluster)\n",
    "bic_list = []\n",
    "for i in tqdm(cluster_list):\n",
    "    gmm = GaussianMixture(n_components=i)\n",
    "    gmm.fit(embed)\n",
    "    bic_list.append(gmm.bic(embed))\n",
    "    \n",
    "min_idx = np.argmin(bic_list)\n",
    "# plot\n",
    "plt.plot(cluster_list, bic_list, marker=\"o\", c='k', markersize=5)\n",
    "plt.scatter(min_idx+1, bic_list[min_idx], s=120, edgecolors='r', facecolors='none')\n",
    "plt.xlabel(\"Number of Clusters\"); plt.ylabel(\"BIC\"); plt.title(\"Bayesian information criterion\")\n",
    "plt.show()"
   ]
  },
  {
   "cell_type": "code",
   "execution_count": null,
   "metadata": {},
   "outputs": [],
   "source": [
    "# Gaussian Mixture Model\n",
    "gmm = GaussianMixture(n_components=11)\n",
    "gmm_label = gmm.fit_predict(embed)"
   ]
  },
  {
   "cell_type": "code",
   "execution_count": null,
   "metadata": {},
   "outputs": [],
   "source": [
    "num_clusters = np.max(gmm_label) + 1\n",
    "# compute probability\n",
    "prob = np.max(gmm.predict_proba(embed), axis=1)\n",
    "\n",
    "# choose color palette\n",
    "color_palette = sns.color_palette('hls', num_clusters)\n",
    "cluster_colors = [color_palette[x] for x in gmm_label]\n",
    "cluster_member_colors = np.array([sns.desaturate(x, p) for x, p in zip(cluster_colors, prob)])\n",
    "\n",
    "# create figures\n",
    "plt.subplots(figsize=(5, 5))\n",
    "for i in range(num_clusters):\n",
    "    idx = (gmm_label==i)\n",
    "    plt.scatter(embed[idx,0], embed[idx,1], \n",
    "                c=cluster_member_colors[idx], \n",
    "                alpha=1, s=7, label=i)\n",
    "    plt.annotate(i, gmm.means_[i], fontsize=14, fontweight='bold')\n",
    "    \n",
    "plt.legend(bbox_to_anchor=(1.05, 1), loc='upper left', markerscale=3)\n",
    "plt.xlabel(\"Component 1\"); plt.xlabel(\"Component 2\"); plt.title(\"Behavioral Manifold\")\n",
    "plt.show()"
   ]
  }
 ],
 "metadata": {
  "kernelspec": {
   "display_name": "Python 3",
   "language": "python",
   "name": "python3"
  },
  "language_info": {
   "codemirror_mode": {
    "name": "ipython",
    "version": 3
   },
   "file_extension": ".py",
   "mimetype": "text/x-python",
   "name": "python",
   "nbconvert_exporter": "python",
   "pygments_lexer": "ipython3",
   "version": "3.7.3"
  }
 },
 "nbformat": 4,
 "nbformat_minor": 4
}
