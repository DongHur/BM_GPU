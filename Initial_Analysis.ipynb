{
 "cells": [
  {
   "cell_type": "code",
   "execution_count": 26,
   "metadata": {},
   "outputs": [
    {
     "data": {
      "text/html": [
       "\n",
       "<style>\n",
       ".output_png {\n",
       "    display: table-cell;\n",
       "    text-align: center;\n",
       "    vertical-align: middle;\n",
       "}\n",
       "</style>\n"
      ],
      "text/plain": [
       "<IPython.core.display.HTML object>"
      ]
     },
     "execution_count": 26,
     "metadata": {},
     "output_type": "execute_result"
    }
   ],
   "source": [
    "from IPython.core.display import HTML\n",
    "HTML(\"\"\"\n",
    "<style>\n",
    ".output_png {\n",
    "    display: table-cell;\n",
    "    text-align: center;\n",
    "    vertical-align: middle;\n",
    "}\n",
    "</style>\n",
    "\"\"\")"
   ]
  },
  {
   "cell_type": "code",
   "execution_count": 43,
   "metadata": {},
   "outputs": [],
   "source": [
    "import yaml, matplotlib, random, pickle, time\n",
    "import numpy as np\n",
    "import pandas as pd\n",
    "from glob import glob\n",
    "from tqdm.notebook import tqdm\n",
    "\n",
    "import matplotlib.pyplot as plt\n",
    "import seaborn as sns\n",
    "from scipy.signal import morlet2, cwt\n",
    "from sklearn.mixture import GaussianMixture\n",
    "\n",
    "from helper import _rotational, angle_calc"
   ]
  },
  {
   "cell_type": "markdown",
   "metadata": {},
   "source": [
    "# Start Analysis"
   ]
  },
  {
   "cell_type": "code",
   "execution_count": 4,
   "metadata": {},
   "outputs": [],
   "source": [
    "with open(\"config.yaml\") as f:\n",
    "    config = yaml.load(f, Loader=yaml.FullLoader)"
   ]
  },
  {
   "cell_type": "code",
   "execution_count": 99,
   "metadata": {
    "scrolled": true
   },
   "outputs": [
    {
     "data": {
      "application/vnd.jupyter.widget-view+json": {
       "model_id": "217e9a8612e945ffa82e438f046a0aab",
       "version_major": 2,
       "version_minor": 0
      },
      "text/plain": [
       "HBox(children=(FloatProgress(value=0.0, max=58.0), HTML(value='')))"
      ]
     },
     "metadata": {},
     "output_type": "display_data"
    },
    {
     "name": "stdout",
     "output_type": "stream",
     "text": [
      "\n"
     ]
    }
   ],
   "source": [
    "bp_list, scale_list, angles_list = [], [], []\n",
    "for path in tqdm(glob(f\"{config['input_data_path']}/**/*.h5\")):\n",
    "    # Import\n",
    "    store = pd.HDFStore(path, mode='a')\n",
    "    df = store['df_with_missing']\n",
    "    x_data = df.xs('x', level=\"coords\", axis=1).to_numpy()\n",
    "    y_data = df.xs('y', level=\"coords\", axis=1).to_numpy()\n",
    "    store.close()\n",
    "    \n",
    "    # Center\n",
    "    x_center = x_data[:,config['bp_center']]\n",
    "    y_center = y_data[:,config['bp_center']]\n",
    "    x_data -= x_center[:,np.newaxis]\n",
    "    y_data -= y_center[:,np.newaxis]\n",
    "        \n",
    "    # Format\n",
    "    DLC_data = np.concatenate((\n",
    "        np.expand_dims(x_data, axis=-1), \n",
    "        np.expand_dims(y_data, axis=-1)), axis=-1)\n",
    "    \n",
    "    # Scale\n",
    "    x_d = DLC_data[:,config['bp_scale'][0],0] - DLC_data[:,config['bp_scale'][1],0]\n",
    "    y_d = DLC_data[:,config['bp_scale'][0],1] - DLC_data[:,config['bp_scale'][1],1]\n",
    "    dist = np.sqrt(x_d**2+y_d**2)\n",
    "    norm = np.median(dist)\n",
    "    scale_list.append(norm)\n",
    "    DLC_data /= norm\n",
    "    \n",
    "    # Rotate\n",
    "    ROT_data, body_angle = _rotational(data=DLC_data, axis_bp=config['bp_rotate'])\n",
    "    bp_list.append(ROT_data)\n",
    "    \n",
    "    # Angles\n",
    "    angles = angle_calc(ROT_data, config['angles'])\n",
    "    angles_list.append(angles)\n",
    "    \n",
    "tot_bp = np.concatenate(bp_list, axis=0)\n",
    "tot_angles = np.concatenate(angles_list, axis=0)"
   ]
  },
  {
   "cell_type": "code",
   "execution_count": 102,
   "metadata": {},
   "outputs": [],
   "source": [
    "tot_angles -= "
   ]
  },
  {
   "cell_type": "code",
   "execution_count": 105,
   "metadata": {},
   "outputs": [
    {
     "data": {
      "text/plain": [
       "array([-1.35419470e-15,  2.40364750e-15, -2.17902341e-15,  7.56037565e-15])"
      ]
     },
     "execution_count": 105,
     "metadata": {},
     "output_type": "execute_result"
    }
   ],
   "source": [
    "np.mean(tot_angles, axis=0)"
   ]
  },
  {
   "cell_type": "code",
   "execution_count": 110,
   "metadata": {},
   "outputs": [
    {
     "name": "stdout",
     "output_type": "stream",
     "text": [
      "(88, 4)\n",
      "(7051, 4)\n",
      "(1666, 4)\n",
      "(1974, 4)\n",
      "(2962, 4)\n",
      "(3442, 4)\n",
      "(694, 4)\n",
      "(1411, 4)\n",
      "(479, 4)\n",
      "(831, 4)\n",
      "(3702, 4)\n",
      "(1241, 4)\n",
      "(1966, 4)\n",
      "(326, 4)\n",
      "(841, 4)\n",
      "(1309, 4)\n",
      "(1613, 4)\n",
      "(811, 4)\n",
      "(395, 4)\n",
      "(827, 4)\n",
      "(191, 4)\n",
      "(1102, 4)\n",
      "(1228, 4)\n",
      "(792, 4)\n",
      "(1653, 4)\n",
      "(477, 4)\n",
      "(2680, 4)\n",
      "(580, 4)\n",
      "(1284, 4)\n",
      "(6347, 4)\n",
      "(324, 4)\n",
      "(202, 4)\n",
      "(1165, 4)\n",
      "(405, 4)\n",
      "(1387, 4)\n",
      "(2074, 4)\n",
      "(354, 4)\n",
      "(889, 4)\n",
      "(1733, 4)\n",
      "(179, 4)\n",
      "(609, 4)\n",
      "(249, 4)\n",
      "(628, 4)\n",
      "(3920, 4)\n",
      "(776, 4)\n",
      "(779, 4)\n",
      "(715, 4)\n",
      "(1251, 4)\n",
      "(558, 4)\n",
      "(2430, 4)\n",
      "(628, 4)\n",
      "(1922, 4)\n",
      "(1378, 4)\n",
      "(210, 4)\n",
      "(137, 4)\n",
      "(1000, 4)\n",
      "(178, 4)\n",
      "(483, 4)\n"
     ]
    }
   ],
   "source": [
    "\n",
    "    print(angles.shape)"
   ]
  },
  {
   "cell_type": "code",
   "execution_count": null,
   "metadata": {},
   "outputs": [],
   "source": []
  }
 ],
 "metadata": {
  "kernelspec": {
   "display_name": "Python 3",
   "language": "python",
   "name": "python3"
  },
  "language_info": {
   "codemirror_mode": {
    "name": "ipython",
    "version": 3
   },
   "file_extension": ".py",
   "mimetype": "text/x-python",
   "name": "python",
   "nbconvert_exporter": "python",
   "pygments_lexer": "ipython3",
   "version": "3.7.3"
  }
 },
 "nbformat": 4,
 "nbformat_minor": 4
}
