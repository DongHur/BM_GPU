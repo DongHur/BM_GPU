{
 "cells": [
  {
   "cell_type": "code",
   "execution_count": 1,
   "metadata": {},
   "outputs": [
    {
     "data": {
      "text/html": [
       "\n",
       "<style>\n",
       ".output_png {\n",
       "    display: table-cell;\n",
       "    text-align: center;\n",
       "    vertical-align: middle;\n",
       "}\n",
       "</style>\n"
      ],
      "text/plain": [
       "<IPython.core.display.HTML object>"
      ]
     },
     "execution_count": 1,
     "metadata": {},
     "output_type": "execute_result"
    }
   ],
   "source": [
    "from IPython.core.display import HTML\n",
    "HTML(\"\"\"\n",
    "<style>\n",
    ".output_png {\n",
    "    display: table-cell;\n",
    "    text-align: center;\n",
    "    vertical-align: middle;\n",
    "}\n",
    "</style>\n",
    "\"\"\")"
   ]
  },
  {
   "cell_type": "code",
   "execution_count": 2,
   "metadata": {},
   "outputs": [],
   "source": [
    "import yaml, matplotlib, random, pickle, time\n",
    "import numpy as np\n",
    "import pandas as pd\n",
    "from glob import glob\n",
    "from tqdm.notebook import tqdm\n",
    "\n",
    "import matplotlib.pyplot as plt\n",
    "import seaborn as sns\n",
    "from scipy.signal import morlet2, cwt\n",
    "from sklearn.mixture import GaussianMixture\n",
    "\n",
    "from helper import _rotational, angle_calc"
   ]
  },
  {
   "cell_type": "markdown",
   "metadata": {},
   "source": [
    "# Start Analysis"
   ]
  },
  {
   "cell_type": "code",
   "execution_count": 3,
   "metadata": {},
   "outputs": [],
   "source": [
    "with open(\"config.yaml\") as f:\n",
    "    config = yaml.load(f, Loader=yaml.FullLoader)"
   ]
  },
  {
   "cell_type": "code",
   "execution_count": 112,
   "metadata": {
    "scrolled": true
   },
   "outputs": [
    {
     "data": {
      "application/vnd.jupyter.widget-view+json": {
       "model_id": "09b30ba4128d4420b4ec0d9dfa099136",
       "version_major": 2,
       "version_minor": 0
      },
      "text/plain": [
       "HBox(children=(FloatProgress(value=0.0, max=58.0), HTML(value='')))"
      ]
     },
     "metadata": {},
     "output_type": "display_data"
    },
    {
     "name": "stdout",
     "output_type": "stream",
     "text": [
      "\n"
     ]
    }
   ],
   "source": [
    "# Initialize\n",
    "files_ref, bad_frames_ref = {}, {}\n",
    "frame_start = 0\n",
    "bp_list, scale_list, angles_list, power_list = [], [], [], []\n",
    "\n",
    "# Bodypoints Used for Analysis\n",
    "bp_analyze = []\n",
    "for angle_points in config[\"angles\"]:\n",
    "    bp_analyze.extend(angle_points.values())\n",
    "bp_analyze.append(config[\"bp_rotate\"])\n",
    "bp_analyze.extend(config[\"bp_scale\"])\n",
    "bp_analyze.append(config[\"bp_center\"])\n",
    "bp_analyze = np.unique(bp_analyze)\n",
    "\n",
    "for path in tqdm(glob(f\"{config['input_data_path']}/**/*.h5\")):\n",
    "    # Import\n",
    "    store = pd.HDFStore(path, mode='a')\n",
    "    df = store['df_with_missing']\n",
    "    x_data = df.xs('x', level=\"coords\", axis=1).to_numpy()\n",
    "    y_data = df.xs('y', level=\"coords\", axis=1).to_numpy()\n",
    "    likelihood = df.xs('likelihood', level=\"coords\", axis=1).to_numpy()\n",
    "    store.close()\n",
    "    \n",
    "    # Check Likelihood\n",
    "    below_thresh = np.where(likelihood[:, bp_analyze] < .2)\n",
    "    fr_bad = np.unique(below_thresh[0])\n",
    "    bad_frames_ref[path] = fr_bad\n",
    "\n",
    "    # Center\n",
    "    x_center = x_data[:,config['bp_center']]\n",
    "    y_center = y_data[:,config['bp_center']]\n",
    "    x_data -= x_center[:,np.newaxis]\n",
    "    y_data -= y_center[:,np.newaxis]\n",
    "        \n",
    "    # Format\n",
    "    DLC_data = np.concatenate((\n",
    "        np.expand_dims(x_data, axis=-1), \n",
    "        np.expand_dims(y_data, axis=-1)), axis=-1)\n",
    "    num_fr,_,_ = DLC_data.shape\n",
    "    \n",
    "    # Scale\n",
    "    x_d = DLC_data[:,config['bp_scale'][0],0] - DLC_data[:,config['bp_scale'][1],0]\n",
    "    y_d = DLC_data[:,config['bp_scale'][0],1] - DLC_data[:,config['bp_scale'][1],1]\n",
    "    dist = np.sqrt(x_d**2+y_d**2)\n",
    "    norm = np.median(dist)\n",
    "    scale_list.append(norm)\n",
    "    DLC_data /= norm\n",
    "\n",
    "    # Rotate\n",
    "    ROT_data, body_angle = _rotational(data=DLC_data, axis_bp=config['bp_rotate'])\n",
    "    bp_list.append(ROT_data)\n",
    "\n",
    "    # Angles\n",
    "    angles = angle_calc(ROT_data, config['angles'])\n",
    "    angles -= np.mean(angles, axis=0)\n",
    "    angles_list.append(angles)\n",
    "\n",
    "    # Record Files\n",
    "    files_ref[path] = (frame_start, frame_start+num_fr)\n",
    "    frame_start += num_fr\n",
    "\n",
    "# Combine Bodypoints and Angles Data\n",
    "tot_bp = np.concatenate(bp_list, axis=0)\n",
    "tot_angles = np.concatenate(angles_list, axis=0)  \n",
    "\n",
    "for angles in angles_list:\n",
    "    # Normalize Angles\n",
    "    angles -= np.mean(tot_angles, axis=0)\n",
    "    \n",
    "    # Morlet Wavelet\n",
    "    num_fr, num_ang = angles.shape\n",
    "    power = np.zeros((num_ang, config['f_bin'], num_fr))\n",
    "    max_freq, min_freq = config['fps']/2, 1 # Nyquist Frequency\n",
    "    freq = max_freq*2**(-1*np.log2(max_freq/min_freq)*\n",
    "        (np.arange(config['f_bin'],0,-1)-1)/(config['f_bin']-1))\n",
    "    widths = config['w']*config['fps'] / (2*freq*np.pi)\n",
    "    \n",
    "    # Normalization Factor\n",
    "    s = (config['w'] + np.sqrt(2+config['w']**2))/(4*np.pi*freq)\n",
    "    C = np.pi**(-0.25)*np.exp(0.25*(config['w']-np.sqrt(config['w']**2+2))**2)/np.sqrt(2*s)\n",
    "\n",
    "    for i in range(num_ang):\n",
    "        cwtm = cwt(angles[:,i], morlet2, widths, dtype=None, w=config['w'])\n",
    "        # power[i] = np.abs(cwtm)**2\n",
    "        power[i] = (np.abs(cwtm/np.expand_dims(np.sqrt(s),1)))/np.expand_dims(C, axis=(0,2))\n",
    "    power_list.append(power)\n",
    "\n",
    "tot_pwr = np.concatenate(power_list, axis=2)\n",
    "\n",
    "# Take Out Bad Frames\n",
    "tot_fr_bad = []\n",
    "num_ang, num_freq, num_fr = tot_pwr.shape\n",
    "for path, fr_range in files_ref.items():\n",
    "    tot_fr_bad.extend(bad_frames_ref[path]+fr_range[0])\n",
    "tot_fr_good = np.delete(np.arange(num_fr), tot_fr_bad)\n",
    "good_tot_pwr = np.delete(tot_pwr, tot_fr_bad, axis=2)\n",
    "\n",
    "# Dimensional Reduction\n",
    "num_angles, num_freq, num_good_fr = good_tot_pwr.shape\n",
    "power_mod = good_tot_pwr.reshape((num_angles*num_freq, num_good_fr)).T"
   ]
  },
  {
   "cell_type": "code",
   "execution_count": 138,
   "metadata": {},
   "outputs": [],
   "source": [
    "import os"
   ]
  },
  {
   "cell_type": "code",
   "execution_count": 145,
   "metadata": {},
   "outputs": [
    {
     "ename": "NameError",
     "evalue": "name 'np_embed' is not defined",
     "output_type": "error",
     "traceback": [
      "\u001b[0;31m---------------------------------------------------------------------------\u001b[0m",
      "\u001b[0;31mNameError\u001b[0m                                 Traceback (most recent call last)",
      "\u001b[0;32m<ipython-input-145-c2e07913f58a>\u001b[0m in \u001b[0;36m<module>\u001b[0;34m\u001b[0m\n\u001b[0;32m----> 1\u001b[0;31m \u001b[0mnp_embed\u001b[0m\u001b[0;34m.\u001b[0m\u001b[0mshape\u001b[0m\u001b[0;34m\u001b[0m\u001b[0;34m\u001b[0m\u001b[0m\n\u001b[0m",
      "\u001b[0;31mNameError\u001b[0m: name 'np_embed' is not defined"
     ]
    }
   ],
   "source": [
    "np_embed.shape"
   ]
  },
  {
   "cell_type": "code",
   "execution_count": 137,
   "metadata": {
    "scrolled": true
   },
   "outputs": [
    {
     "data": {
      "text/plain": [
       "array([[[-5.63538396e-02,  2.15802390e+00],\n",
       "        [-5.55111512e-17,  1.00591116e+00],\n",
       "        [ 0.00000000e+00,  0.00000000e+00],\n",
       "        ...,\n",
       "        [-1.95039306e+00, -3.21638279e+00],\n",
       "        [-6.99798077e-01, -5.98947134e-01],\n",
       "        [-1.65348812e-01, -5.98785161e-01]],\n",
       "\n",
       "       [[-1.34454807e-01,  2.14554048e+00],\n",
       "        [ 2.77555756e-17,  9.90965760e-01],\n",
       "        [ 0.00000000e+00,  0.00000000e+00],\n",
       "        ...,\n",
       "        [-1.76421906e+00, -4.00727230e+00],\n",
       "        [-8.62660491e-01, -1.31930830e+00],\n",
       "        [-2.81797968e-01, -7.40630232e-01]],\n",
       "\n",
       "       [[-3.64752869e-02,  2.13309850e+00],\n",
       "        [ 5.20417043e-17,  9.74703865e-01],\n",
       "        [ 0.00000000e+00,  0.00000000e+00],\n",
       "        ...,\n",
       "        [-2.25651798e+00, -4.36505033e+00],\n",
       "        [-1.21874824e+00, -1.73118647e+00],\n",
       "        [-3.43831963e-01, -6.27632117e-01]],\n",
       "\n",
       "       ...,\n",
       "\n",
       "       [[ 4.68174817e-01,  2.03519666e+00],\n",
       "        [ 5.55111512e-17,  1.08140041e+00],\n",
       "        [ 0.00000000e+00,  0.00000000e+00],\n",
       "        ...,\n",
       "        [-2.88631212e+00, -2.61369814e+00],\n",
       "        [-1.17571840e+00, -7.11284972e-01],\n",
       "        [-4.29894005e-01, -4.33111007e-01]],\n",
       "\n",
       "       [[ 3.53027552e-01,  2.08208468e+00],\n",
       "        [ 1.11022302e-16,  1.12529710e+00],\n",
       "        [ 0.00000000e+00,  0.00000000e+00],\n",
       "        ...,\n",
       "        [-2.75047761e+00, -2.93544240e+00],\n",
       "        [-1.33743116e+00, -7.25278047e-01],\n",
       "        [-4.36651438e-01, -4.14692872e-01]],\n",
       "\n",
       "       [[ 8.22358326e-02,  2.20454816e+00],\n",
       "        [ 1.11022302e-16,  1.10354459e+00],\n",
       "        [ 0.00000000e+00,  0.00000000e+00],\n",
       "        ...,\n",
       "        [-2.31094577e+00, -4.12452897e+00],\n",
       "        [-1.30560353e+00, -1.57963450e+00],\n",
       "        [-2.89665080e-01, -4.55653834e-01]]])"
      ]
     },
     "execution_count": 137,
     "metadata": {},
     "output_type": "execute_result"
    }
   ],
   "source": [
    "tot_bp"
   ]
  },
  {
   "cell_type": "code",
   "execution_count": null,
   "metadata": {},
   "outputs": [],
   "source": []
  }
 ],
 "metadata": {
  "kernelspec": {
   "display_name": "Python 3",
   "language": "python",
   "name": "python3"
  },
  "language_info": {
   "codemirror_mode": {
    "name": "ipython",
    "version": 3
   },
   "file_extension": ".py",
   "mimetype": "text/x-python",
   "name": "python",
   "nbconvert_exporter": "python",
   "pygments_lexer": "ipython3",
   "version": "3.7.3"
  }
 },
 "nbformat": 4,
 "nbformat_minor": 4
}
