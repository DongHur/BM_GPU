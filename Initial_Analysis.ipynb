{
 "cells": [
  {
   "cell_type": "code",
   "execution_count": 1,
   "metadata": {},
   "outputs": [
    {
     "data": {
      "text/html": [
       "\n",
       "<style>\n",
       ".output_png {\n",
       "    display: table-cell;\n",
       "    text-align: center;\n",
       "    vertical-align: middle;\n",
       "}\n",
       "</style>\n"
      ],
      "text/plain": [
       "<IPython.core.display.HTML object>"
      ]
     },
     "execution_count": 1,
     "metadata": {},
     "output_type": "execute_result"
    }
   ],
   "source": [
    "from IPython.core.display import HTML\n",
    "HTML(\"\"\"\n",
    "<style>\n",
    ".output_png {\n",
    "    display: table-cell;\n",
    "    text-align: center;\n",
    "    vertical-align: middle;\n",
    "}\n",
    "</style>\n",
    "\"\"\")"
   ]
  },
  {
   "cell_type": "code",
   "execution_count": 2,
   "metadata": {},
   "outputs": [],
   "source": [
    "import yaml, matplotlib, random, pickle, time\n",
    "import numpy as np\n",
    "import pandas as pd\n",
    "from glob import glob\n",
    "from tqdm.notebook import tqdm\n",
    "\n",
    "import matplotlib.pyplot as plt\n",
    "import seaborn as sns\n",
    "from scipy.signal import morlet2, cwt\n",
    "from sklearn.mixture import GaussianMixture\n",
    "\n",
    "from helper import _rotational, angle_calc"
   ]
  },
  {
   "cell_type": "markdown",
   "metadata": {},
   "source": [
    "# Start Analysis"
   ]
  },
  {
   "cell_type": "code",
   "execution_count": 3,
   "metadata": {},
   "outputs": [],
   "source": [
    "with open(\"config.yaml\") as f:\n",
    "    config = yaml.load(f, Loader=yaml.FullLoader)"
   ]
  },
  {
   "cell_type": "code",
   "execution_count": 5,
   "metadata": {
    "scrolled": true
   },
   "outputs": [
    {
     "data": {
      "application/vnd.jupyter.widget-view+json": {
       "model_id": "888b0c8fb158446e86a96b813603449b",
       "version_major": 2,
       "version_minor": 0
      },
      "text/plain": [
       "HBox(children=(FloatProgress(value=0.0, max=58.0), HTML(value='')))"
      ]
     },
     "metadata": {},
     "output_type": "display_data"
    },
    {
     "name": "stdout",
     "output_type": "stream",
     "text": [
      "(88, 30)\n",
      "(88, 30)\n",
      "(7051, 30)\n",
      "(7051, 30)\n",
      "(1666, 30)\n",
      "(1666, 30)\n",
      "(1974, 30)\n",
      "(1974, 30)\n",
      "(2962, 30)\n",
      "(2962, 30)\n",
      "(3442, 30)\n",
      "(3442, 30)\n",
      "(694, 30)\n",
      "(694, 30)\n",
      "(1411, 30)\n",
      "(1411, 30)\n",
      "(479, 30)\n",
      "(479, 30)\n",
      "(831, 30)\n",
      "(831, 30)\n",
      "(3702, 30)\n",
      "(3702, 30)\n",
      "(1241, 30)\n",
      "(1241, 30)\n",
      "(1966, 30)\n",
      "(1966, 30)\n",
      "(326, 30)\n",
      "(326, 30)\n",
      "(841, 30)\n",
      "(841, 30)\n",
      "(1309, 30)\n",
      "(1309, 30)\n",
      "(1613, 30)\n",
      "(1613, 30)\n",
      "(811, 30)\n",
      "(811, 30)\n",
      "(395, 30)\n",
      "(395, 30)\n",
      "(827, 30)\n",
      "(827, 30)\n",
      "(191, 30)\n",
      "(191, 30)\n",
      "(1102, 30)\n",
      "(1102, 30)\n",
      "(1228, 30)\n",
      "(1228, 30)\n",
      "(792, 30)\n",
      "(792, 30)\n",
      "(1653, 30)\n",
      "(1653, 30)\n",
      "(477, 30)\n",
      "(477, 30)\n",
      "(2680, 30)\n",
      "(2680, 30)\n",
      "(580, 30)\n",
      "(580, 30)\n",
      "(1284, 30)\n",
      "(1284, 30)\n",
      "(6347, 30)\n",
      "(6347, 30)\n",
      "(324, 30)\n",
      "(324, 30)\n",
      "(202, 30)\n",
      "(202, 30)\n",
      "(1165, 30)\n",
      "(1165, 30)\n",
      "(405, 30)\n",
      "(405, 30)\n",
      "(1387, 30)\n",
      "(1387, 30)\n",
      "(2074, 30)\n",
      "(2074, 30)\n",
      "(354, 30)\n",
      "(354, 30)\n",
      "(889, 30)\n",
      "(889, 30)\n",
      "(1733, 30)\n",
      "(1733, 30)\n",
      "(179, 30)\n",
      "(179, 30)\n",
      "(609, 30)\n",
      "(609, 30)\n",
      "(249, 30)\n",
      "(249, 30)\n",
      "(628, 30)\n",
      "(628, 30)\n",
      "(3920, 30)\n",
      "(3920, 30)\n",
      "(776, 30)\n",
      "(776, 30)\n",
      "(779, 30)\n",
      "(779, 30)\n",
      "(715, 30)\n",
      "(715, 30)\n",
      "(1251, 30)\n",
      "(1251, 30)\n",
      "(558, 30)\n",
      "(558, 30)\n",
      "(2430, 30)\n",
      "(2430, 30)\n",
      "(628, 30)\n",
      "(628, 30)\n",
      "(1922, 30)\n",
      "(1922, 30)\n",
      "(1378, 30)\n",
      "(1378, 30)\n",
      "(210, 30)\n",
      "(210, 30)\n",
      "(137, 30)\n",
      "(137, 30)\n",
      "(1000, 30)\n",
      "(1000, 30)\n",
      "(178, 30)\n",
      "(178, 30)\n",
      "(483, 30)\n",
      "(483, 30)\n",
      "\n"
     ]
    }
   ],
   "source": [
    "# Initialize\n",
    "files_ref, bad_frames_ref = {}, {}\n",
    "frame_start = 0\n",
    "bp_list, scale_list, angles_list, power_list = [], [], [], []\n",
    "\n",
    "# Bodypoints Used for Analysis\n",
    "bp_analyze = []\n",
    "for angle_points in config[\"angles\"]:\n",
    "    bp_analyze.extend(angle_points.values())\n",
    "bp_analyze.append(config[\"bp_rotate\"])\n",
    "bp_analyze.extend(config[\"bp_scale\"])\n",
    "bp_analyze.append(config[\"bp_center\"])\n",
    "bp_analyze = np.unique(bp_analyze)\n",
    "\n",
    "for path in tqdm(glob(f\"{config['input_data_path']}/**/*.h5\")):\n",
    "    # Import\n",
    "    store = pd.HDFStore(path, mode='a')\n",
    "    df = store['df_with_missing']\n",
    "    x_data = df.xs('x', level=\"coords\", axis=1).to_numpy()\n",
    "    y_data = df.xs('y', level=\"coords\", axis=1).to_numpy()\n",
    "    likelihood = df.xs('likelihood', level=\"coords\", axis=1).to_numpy()\n",
    "    store.close()\n",
    "    \n",
    "    # Check Likelihood\n",
    "    below_thresh = np.where(likelihood[:, bp_analyze] < .2)\n",
    "    fr_bad = np.unique(below_thresh[0])\n",
    "    bad_frames_ref[path] = fr_bad\n",
    "\n",
    "    # Center\n",
    "    x_center = x_data[:,config['bp_center']]\n",
    "    y_center = y_data[:,config['bp_center']]\n",
    "    x_data -= x_center[:,np.newaxis]\n",
    "    y_data -= y_center[:,np.newaxis]\n",
    "        \n",
    "    # Format\n",
    "    DLC_data = np.concatenate((\n",
    "        np.expand_dims(x_data, axis=-1), \n",
    "        np.expand_dims(y_data, axis=-1)), axis=-1)\n",
    "    num_fr,_,_ = DLC_data.shape\n",
    "    \n",
    "    # Scale\n",
    "    x_d = DLC_data[:,config['bp_scale'][0],0] - DLC_data[:,config['bp_scale'][1],0]\n",
    "    y_d = DLC_data[:,config['bp_scale'][0],1] - DLC_data[:,config['bp_scale'][1],1]\n",
    "    dist = np.sqrt(x_d**2+y_d**2)\n",
    "    norm = np.median(dist)\n",
    "    scale_list.append(norm)\n",
    "    DLC_data /= norm\n",
    "\n",
    "    # Rotate\n",
    "    ROT_data, body_angle = _rotational(data=DLC_data, axis_bp=config['bp_rotate'])\n",
    "    bp_list.append(ROT_data)\n",
    "\n",
    "    # Angles\n",
    "    angles = angle_calc(ROT_data, config['angles'])\n",
    "    angles -= np.mean(angles, axis=0)\n",
    "    angles_list.append(angles)\n",
    "\n",
    "    # Record Files\n",
    "    files_ref[path] = (frame_start, frame_start+num_fr)\n",
    "    frame_start += num_fr\n",
    "\n",
    "# Combine Bodypoints and Angles Data\n",
    "tot_bp = np.concatenate(bp_list, axis=0)\n",
    "tot_angles = np.concatenate(angles_list, axis=0)  \n",
    "\n",
    "for angles in angles_list:\n",
    "    # Normalize Angles\n",
    "    angles -= np.mean(tot_angles, axis=0)\n",
    "    \n",
    "    # Morlet Wavelet\n",
    "    num_fr, num_ang = angles.shape\n",
    "    power = np.zeros((num_ang, config['f_bin'], num_fr))\n",
    "    max_freq, min_freq = config['fps']/2, 1 # Nyquist Frequency\n",
    "    freq = max_freq*2**(-1*np.log2(max_freq/min_freq)*\n",
    "        (np.arange(config['f_bin'],0,-1)-1)/(config['f_bin']-1))\n",
    "    widths = config['w']*config['fps'] / (2*freq*np.pi)\n",
    "    \n",
    "    # Normalization Factor\n",
    "    s = (config['w'] + np.sqrt(2+config['w']**2))/(4*np.pi*freq)\n",
    "    C = np.pi**(-0.25)*np.exp(0.25*(config['w']-np.sqrt(config['w']**2+2))**2)/np.sqrt(2*s)\n",
    "\n",
    "    for i in range(num_ang):\n",
    "        cwtm = cwt(angles[:,i], morlet2, widths, dtype=None, w=config['w'])\n",
    "        # power[i] = np.abs(cwtm)**2\n",
    "        power[i] = (np.abs(cwtm/np.expand_dims(np.sqrt(s),1)))/np.expand_dims(C, axis=(0,2))\n",
    "    power_list.append(power)\n",
    "\n",
    "tot_pwr = np.concatenate(power_list, axis=2)\n",
    "\n",
    "# Take Out Bad Frames\n",
    "tot_fr_bad = []\n",
    "for path, fr_range in files_ref.items():\n",
    "    tot_fr_bad.extend(bad_frames_ref[path]+fr_range[0])\n",
    "good_tot_pwr = np.delete(tot_pwr, tot_fr_bad, axis=2).shape\n",
    "\n",
    "# Dimensional Reduction\n",
    "num_angles, num_freq, num_good_fr = good_tot_pwr.shape\n",
    "power_mod = good_tot_pwr.reshape((num_angles*num_freq, num_good_fr)).T"
   ]
  },
  {
   "cell_type": "code",
   "execution_count": 8,
   "metadata": {},
   "outputs": [],
   "source": []
  },
  {
   "cell_type": "code",
   "execution_count": 18,
   "metadata": {},
   "outputs": [
    {
     "data": {
      "text/plain": [
       "(2, 20, 76526)"
      ]
     },
     "execution_count": 18,
     "metadata": {},
     "output_type": "execute_result"
    }
   ],
   "source": [
    "tot_pwr.shape"
   ]
  },
  {
   "cell_type": "code",
   "execution_count": 19,
   "metadata": {},
   "outputs": [
    {
     "data": {
      "text/plain": [
       "(2, 20, 75463)"
      ]
     },
     "execution_count": 19,
     "metadata": {},
     "output_type": "execute_result"
    }
   ],
   "source": []
  },
  {
   "cell_type": "code",
   "execution_count": 20,
   "metadata": {},
   "outputs": [
    {
     "data": {
      "text/plain": [
       "75463"
      ]
     },
     "execution_count": 20,
     "metadata": {},
     "output_type": "execute_result"
    }
   ],
   "source": [
    "76526-len(tot_fr_bad)"
   ]
  },
  {
   "cell_type": "code",
   "execution_count": 5,
   "metadata": {
    "scrolled": true
   },
   "outputs": [
    {
     "name": "stdout",
     "output_type": "stream",
     "text": [
      "data/clean_data/mid_20181018_ant5_food2_2458-2940/mid_20181018_ant5_food2_2458-2940DeepCut_resnet50_small_arenaJun18shuffle1_1030000.h5\n",
      "[ 951  952  952  953  954  956  958  960  962  963  963  964  993 1023\n",
      " 1023 1024 1024 1025 1025 1026 1028 1029 1030 1031 1242 1243 1339 1344\n",
      " 1385 1386 1387 1388 1388 1390 1391 1391 1392 1393 1394 1423 1424 1424\n",
      " 1433 1434 1442 1443 1444 1445 1446 1484 1485 1486 1501 1505 1507 1508\n",
      " 1509 1509 1510 1510 1511 1512 1514 1541 1542 1542 1543 1567 1568 1569\n",
      " 1573 1574 1575 1607 1608 1609 1609 1610 1610 1611 1611 1612 1612 1613\n",
      " 1614 1615 1616 1617 1619 1619 1620 1651 1685 1686 1689 1695 1697 1698\n",
      " 1699 1700 1700 1701 1701 1702 1702 1703 1703 1704 1704 1705 1705 1706\n",
      " 1706 1707 1707 1708 1709 1710 1711 1712 1712 1713 1714 1715 1716 1717\n",
      " 1718 1719 1720 1721 1723 1724 1725 1726 1727 1728 1729 1730 1731 1732\n",
      " 1733 1734 1735 1736 1738 1739 1740 1741 1742 1743 1744 1745 1746 1747\n",
      " 1748 1749 1750 1751 1752 1753 1754 1755 1756 1757 1758 1759 1760 1761\n",
      " 1762 1763 1764 1765 1766 1767 1768 1769 1770 1771 1772 1773 1774 1775\n",
      " 1776 1777 1778 1779 1780 1781 1782 1783 1784 1785 1786 1787 1788 1789\n",
      " 1790 1791 1792 1793 1794 1795 1796 1797 1798 1799 1800 1809 1810 1811\n",
      " 1812 1813 1814 1819 1820 1821 1822 1823 1824 1825 1826 1827 1828 1829\n",
      " 1830 1831 1832 1833 1834 1835 1836 1837 1838 1839 1840 1841 1842 1843\n",
      " 1844 1845 1846 1847 1848 1857 1862 1863 1866 1873 1874 1878 1879 1880\n",
      " 1881 1882 1883 1886 1887 1888 1889 1890 1891 1892 1893 1894 1895 1896\n",
      " 1897 1899 1900 1901 1902 1903 1904 1905 1906 1907 1908 1909 1910 1911\n",
      " 1912 1913 1914 1916 1919 1920 1921 1922 1923 1924 1925 1926 1927 1928\n",
      " 1929 1930 1931 1932 1933 1934 1935 1936 1937 1938 1939 1940 1941 1942\n",
      " 1943 1944 1945 1947 1948 1949 1952 1953 1954 1955 1956 1957 1958 1959\n",
      " 1960 1961 1962 1963 1964 1965 1966 1967 1968 1969 1970 1971 1972 1973\n",
      " 1974 1975 1976 1977 1978 1979 1980 1981 1983 1984 1989 1990 2243 2337\n",
      " 2582 2584 2585 2587 2678 2691 2692 2693 2728 2732 2732 2734 2785 2786\n",
      " 2787 2789 2826 2827 2828 2832 2833 2835 2836 2837 2838 2839 2840 2851\n",
      " 2852 2853 2854 2860 2862 2863 2875 2875 2876 2876 2877 2895 2896 2897\n",
      " 2898 2899 2900 2901 2902 2903 2903 2904 2905 2906 2908 2909 2909 2910\n",
      " 2910 2911 2912 2913 2919 2920 2921 2922 2923 2949 2950 2951 2951 2954\n",
      " 2972 2973 3059 3060 3061 3062 3064 3065 3066 3067 3069 3070 3072 3090\n",
      " 3091 3128]\n",
      "[ 9  8  9  8  8  9  9  8  9  8  9  8  9  8  9  8  9  8  9  8  9  9  9  9\n",
      "  8  8  8  8  8  8  8  8  9  9  8  9  9  9  9  8  8  9 21 21  8  8  8  8\n",
      "  8  8  8  8  8  9  9  8  8  9  8  9  8  8  8  9  9 21 21  8  8  8  8  8\n",
      "  8  8  8  8  9  8  9  8  9  8  9  9  9  9  9  9  8  9  8  8  8  8  8  8\n",
      "  9  9  9  8  9  8  9  8  9  8  9  8  9  8  9  8  9  8  9  9  9  9  9  8\n",
      "  9  9  9  9  9  9  9  9  9  9  9  9  9  9  9  9  9  9  9  9  9  9  9  9\n",
      "  9  9  9  9  9  9  9  9  9  9  9  9  9  9  9  9  9  9  9  9  9  9  9  9\n",
      "  9  9  9  9  9  9  9  9  9  9  9  9  9  9  9  9  9  9  9  9  9  9  9  9\n",
      "  9  9  9  9  9  9  9  9  9  9  9  9  9  9  9  9  9  9  9  9  9  9  9  9\n",
      "  9  9  9  9  9  9  9  9  9  9  9  9  9  9  9  9  9  9  9  9  9  9  9  9\n",
      "  9  9  9  9  9  9  9  9  9  9  9  9  9  9  9  9  9  9  9  9  9  9  9  9\n",
      "  9  9  9  9  9  9  9  9  9  9  9  9  9  9  9  9  9  9  9  9  9  9  9  9\n",
      "  9  9  9  9  9  9  9  9  9  9  9  9  9  9  9  9  9  9  9  9  9  9  9  9\n",
      "  9  9  9  9  9  9  9  9  9  9  9  9  9  9  9  9  9  9  9  9  9  9  9  9\n",
      "  9  9  9  9  9  9  9  9  9  9  9  9 21  8 21 21 21 21 22 21 21 21 22 21\n",
      " 22 21 22 22 22 21 21 21 21 21 21 21 21 21 21 21 21 21 21 21 21 21 21 21\n",
      " 21 22 21 22 22 22 22 22 22 22 22 22 22 21 22 22 22 22 22 21 22 21 22 22\n",
      " 21 21 22 22 22 22 22 22 22 21 22 21 21 21 21 21 21 21 21 21 21 21 21 21\n",
      " 21 21 21 21]\n"
     ]
    }
   ],
   "source": [
    "filename = \"data/clean_data/maj_20181101_XX_trail2_7933-14983/maj_20181101_XX_trail2_7933-14983DeepCut_resnet50_small_arenaJun18shuffle1_1030000.h5\"\n",
    "\n",
    "# Import\n",
    "store = pd.HDFStore(filename, mode='a')\n",
    "df = store['df_with_missing']\n",
    "x_data = df.xs('x', level=\"coords\", axis=1).to_numpy()\n",
    "y_data = df.xs('y', level=\"coords\", axis=1).to_numpy()\n",
    "likelihood = df.xs('likelihood', level=\"coords\", axis=1).to_numpy()\n",
    "store.close()\n",
    "\n",
    "# Bodypoints Used for Analysis\n",
    "bp_analyze = []\n",
    "for angle_points in config[\"angles\"]:\n",
    "    bp_analyze.extend(angle_points.values())\n",
    "bp_analyze.append(config[\"bp_rotate\"])\n",
    "bp_analyze.extend(config[\"bp_scale\"])\n",
    "bp_analyze.append(config[\"bp_center\"])\n",
    "bp_analyze = np.unique(bp_analyze)\n",
    "\n",
    "# Check Likelihood\n",
    "below_thresh = np.where(likelihood[:, bp_analyze] < .2)\n",
    "fr_bad = np.unique(below_thresh[0])\n",
    "print(path)\n",
    "print(bp_analyze[below_thresh[1]])\n",
    "\n",
    "# Center\n",
    "x_center = x_data[:,config['bp_center']]\n",
    "y_center = y_data[:,config['bp_center']]\n",
    "x_data -= x_center[:,np.newaxis]\n",
    "y_data -= y_center[:,np.newaxis]\n",
    "\n",
    "# Format\n",
    "DLC_data = np.concatenate((\n",
    "    np.expand_dims(x_data, axis=-1), \n",
    "    np.expand_dims(y_data, axis=-1)), axis=-1)\n",
    "\n",
    "# Scale\n",
    "x_d = DLC_data[:,config['bp_scale'][0],0] - DLC_data[:,config['bp_scale'][1],0]\n",
    "y_d = DLC_data[:,config['bp_scale'][0],1] - DLC_data[:,config['bp_scale'][1],1]\n",
    "dist = np.sqrt(x_d**2+y_d**2)\n",
    "norm = np.median(dist)\n",
    "scale_list.append(norm)\n",
    "DLC_data /= norm\n",
    "\n",
    "# Rotate\n",
    "ROT_data, body_angle = _rotational(data=DLC_data, axis_bp=config['bp_rotate'])\n",
    "bp_list.append(ROT_data)\n",
    "\n",
    "# Angles\n",
    "angles = angle_calc(ROT_data, config['angles'])\n",
    "angles -= np.mean(angles, axis=0)\n",
    "angles_list.append(angles)"
   ]
  },
  {
   "cell_type": "code",
   "execution_count": 220,
   "metadata": {},
   "outputs": [
    {
     "data": {
      "text/plain": [
       "545"
      ]
     },
     "execution_count": 220,
     "metadata": {},
     "output_type": "execute_result"
    }
   ],
   "source": [
    "len(np.where(likelihood[:, bp_analyze] < .5)[0])"
   ]
  },
  {
   "cell_type": "code",
   "execution_count": 199,
   "metadata": {},
   "outputs": [
    {
     "data": {
      "text/plain": [
       "(7051, 30, 2)"
      ]
     },
     "execution_count": 199,
     "metadata": {},
     "output_type": "execute_result"
    }
   ],
   "source": [
    "DLC_data.shape"
   ]
  },
  {
   "cell_type": "code",
   "execution_count": 232,
   "metadata": {},
   "outputs": [
    {
     "data": {
      "image/png": "[encoded data removed]",
      "text/plain": [
       "<Figure size 360x576 with 1 Axes>"
      ]
     },
     "metadata": {
      "needs_background": "light"
     },
     "output_type": "display_data"
    }
   ],
   "source": [
    "frame=3060\n",
    "\n",
    "fig, ax = plt.subplots(figsize=(5,8))\n",
    "ax.scatter(ROT_data[frame,:,0], ROT_data[frame,:,1], s=15, c='k')\n",
    "plt.plot(ROT_data[frame,0:4,0], ROT_data[frame,0:4,1])\n",
    "plt.plot(ROT_data[frame,4:8,0], ROT_data[frame,4:8,1])\n",
    "plt.plot(ROT_data[frame,8:11,0], ROT_data[frame,8:11,1])\n",
    "plt.plot(ROT_data[frame,11:14,0], ROT_data[frame,11:14,1])\n",
    "plt.plot(ROT_data[frame,14:17,0], ROT_data[frame,14:17,1])\n",
    "plt.plot(ROT_data[frame,17:21,0], ROT_data[frame,17:21,1])\n",
    "plt.plot(ROT_data[frame,21:24,0], ROT_data[frame,21:24,1])\n",
    "plt.plot(ROT_data[frame,24:27,0], ROT_data[frame,24:27,1])\n",
    "plt.plot(ROT_data[frame,27:30,0], ROT_data[frame,27:30,1])\n",
    "ax.set(xlim=(-7,7), ylim=(-9,9))\n",
    "plt.show()"
   ]
  },
  {
   "cell_type": "code",
   "execution_count": null,
   "metadata": {},
   "outputs": [],
   "source": []
  },
  {
   "cell_type": "code",
   "execution_count": null,
   "metadata": {},
   "outputs": [],
   "source": []
  },
  {
   "cell_type": "code",
   "execution_count": null,
   "metadata": {},
   "outputs": [],
   "source": []
  },
  {
   "cell_type": "code",
   "execution_count": null,
   "metadata": {},
   "outputs": [],
   "source": [
    "for angles in angles_list:\n",
    "    # Normalize Angles\n",
    "    angles -= np.mean(tot_angles, axis=0)\n",
    "    # Morlet Wavelet\n",
    "    num_fr, num_ang = angles.shape\n",
    "    power = np.zeros((num_ang, config['f_bin'], num_fr))\n",
    "    max_freq, min_freq = config['fps']/2, 1 # Nyquist Frequency\n",
    "    freq = max_freq*2**(-1*np.log2(max_freq/min_freq)*\n",
    "        (np.arange(config['f_bin'],0,-1)-1)/(config['f_bin']-1))\n",
    "    widths = config['w']*config['fps'] / (2*freq*np.pi)\n",
    "    # Normalization Factor\n",
    "    s = (config['w'] + np.sqrt(2+config['w']**2))/(4*np.pi*freq)\n",
    "    C = np.pi**(-0.25)*np.exp(0.25*(config['w']-np.sqrt(config['w']**2+2))**2)/np.sqrt(2*s)\n",
    "    for i in range(num_ang):\n",
    "        cwtm = cwt(angles[:,i], morlet2, widths, dtype=None, w=config['w'])\n",
    "        power[i] = (np.abs(cwtm)**2)\n",
    "#         power[i] = np.abs(cwtm/np.expand_dims(np.sqrt(s),1))\n",
    "        power[i] = (np.abs(cwtm/np.expand_dims(np.sqrt(s),1)))/np.expand_dims(C, axis=(0,2))\n",
    "    power_list.append(power)\n",
    "\n",
    "tot_pwr = np.concatenate(power_list, axis=2)"
   ]
  },
  {
   "cell_type": "code",
   "execution_count": null,
   "metadata": {},
   "outputs": [],
   "source": []
  },
  {
   "cell_type": "code",
   "execution_count": 128,
   "metadata": {},
   "outputs": [],
   "source": [
    "min_trail, min_food, min_free = 0,0,0\n",
    "mid_trail, mid_food, mid_free = 0,0,0\n",
    "maj_trail, maj_food, maj_free = 0,0,0\n",
    "\n",
    "for key, fr_range in files_ref.items():\n",
    "    # Caste Condition\n",
    "    if key.find(\"min_\") is not -1:\n",
    "        # Environmental Conditions\n",
    "        if key.find(\"trail\") is not -1:\n",
    "            min_trail += fr_range[1]-fr_range[0]\n",
    "        if key.find(\"food\") is not -1:\n",
    "            min_food += fr_range[1]-fr_range[0]\n",
    "        if key.find(\"free\") is not -1:\n",
    "            min_free += fr_range[1]-fr_range[0]\n",
    "    \n",
    "    if key.find(\"mid_\") is not -1:\n",
    "        caste_data[\"mid\"].extend(range(fr_range[0], fr_range[1]))\n",
    "        # Environmental Conditions\n",
    "        if key.find(\"trail\") is not -1:\n",
    "            mid_trail += fr_range[1]-fr_range[0]\n",
    "        if key.find(\"food\") is not -1:\n",
    "            mid_food += fr_range[1]-fr_range[0]\n",
    "        if key.find(\"free\") is not -1:\n",
    "            mid_free += fr_range[1]-fr_range[0]\n",
    "            \n",
    "    if key.find(\"maj_\") is not -1:\n",
    "        caste_data[\"maj\"].extend(range(fr_range[0], fr_range[1]))\n",
    "        # Environmental Conditions\n",
    "        if key.find(\"trail\") is not -1:\n",
    "            maj_trail += fr_range[1]-fr_range[0]\n",
    "        if key.find(\"food\") is not -1:\n",
    "            maj_food += fr_range[1]-fr_range[0]\n",
    "        if key.find(\"free\") is not -1:\n",
    "            maj_free += fr_range[1]-fr_range[0]\n",
    "    \n",
    "    "
   ]
  },
  {
   "cell_type": "code",
   "execution_count": 145,
   "metadata": {},
   "outputs": [
    {
     "data": {
      "text/plain": [
       "25.508666666666667"
      ]
     },
     "execution_count": 145,
     "metadata": {},
     "output_type": "execute_result"
    }
   ],
   "source": [
    "76526/50/60"
   ]
  },
  {
   "cell_type": "code",
   "execution_count": 144,
   "metadata": {},
   "outputs": [
    {
     "data": {
      "text/plain": [
       "(2, 20, 76526)"
      ]
     },
     "execution_count": 144,
     "metadata": {},
     "output_type": "execute_result"
    }
   ],
   "source": [
    "tot_pwr.shape"
   ]
  },
  {
   "cell_type": "code",
   "execution_count": null,
   "metadata": {},
   "outputs": [],
   "source": []
  }
 ],
 "metadata": {
  "kernelspec": {
   "display_name": "Python 3",
   "language": "python",
   "name": "python3"
  },
  "language_info": {
   "codemirror_mode": {
    "name": "ipython",
    "version": 3
   },
   "file_extension": ".py",
   "mimetype": "text/x-python",
   "name": "python",
   "nbconvert_exporter": "python",
   "pygments_lexer": "ipython3",
   "version": "3.7.3"
  }
 },
 "nbformat": 4,
 "nbformat_minor": 4
}
