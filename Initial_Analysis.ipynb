{
 "cells": [
  {
   "cell_type": "code",
   "execution_count": 1,
   "metadata": {},
   "outputs": [
    {
     "data": {
      "text/html": [
       "\n",
       "<style>\n",
       ".output_png {\n",
       "    display: table-cell;\n",
       "    text-align: center;\n",
       "    vertical-align: middle;\n",
       "}\n",
       "</style>\n"
      ],
      "text/plain": [
       "<IPython.core.display.HTML object>"
      ]
     },
     "execution_count": 1,
     "metadata": {},
     "output_type": "execute_result"
    }
   ],
   "source": [
    "from IPython.core.display import HTML\n",
    "HTML(\"\"\"\n",
    "<style>\n",
    ".output_png {\n",
    "    display: table-cell;\n",
    "    text-align: center;\n",
    "    vertical-align: middle;\n",
    "}\n",
    "</style>\n",
    "\"\"\")"
   ]
  },
  {
   "cell_type": "code",
   "execution_count": 2,
   "metadata": {},
   "outputs": [],
   "source": [
    "import yaml, matplotlib, random, pickle, time\n",
    "import numpy as np\n",
    "import pandas as pd\n",
    "from glob import glob\n",
    "from tqdm.notebook import tqdm\n",
    "\n",
    "import matplotlib.pyplot as plt\n",
    "import seaborn as sns\n",
    "from scipy.signal import morlet2, cwt\n",
    "from sklearn.mixture import GaussianMixture\n",
    "\n",
    "from helper import _rotational, angle_calc"
   ]
  },
  {
   "cell_type": "markdown",
   "metadata": {},
   "source": [
    "# Start Analysis"
   ]
  },
  {
   "cell_type": "code",
   "execution_count": 3,
   "metadata": {},
   "outputs": [],
   "source": [
    "with open(\"config.yaml\") as f:\n",
    "    config = yaml.load(f, Loader=yaml.FullLoader)"
   ]
  },
  {
   "cell_type": "code",
   "execution_count": 112,
   "metadata": {
    "scrolled": true
   },
   "outputs": [
    {
     "data": {
      "application/vnd.jupyter.widget-view+json": {
       "model_id": "09b30ba4128d4420b4ec0d9dfa099136",
       "version_major": 2,
       "version_minor": 0
      },
      "text/plain": [
       "HBox(children=(FloatProgress(value=0.0, max=58.0), HTML(value='')))"
      ]
     },
     "metadata": {},
     "output_type": "display_data"
    },
    {
     "name": "stdout",
     "output_type": "stream",
     "text": [
      "\n"
     ]
    }
   ],
   "source": [
    "# Initialize\n",
    "files_ref, bad_frames_ref = {}, {}\n",
    "frame_start = 0\n",
    "bp_list, scale_list, angles_list, power_list = [], [], [], []\n",
    "\n",
    "# Bodypoints Used for Analysis\n",
    "bp_analyze = []\n",
    "for angle_points in config[\"angles\"]:\n",
    "    bp_analyze.extend(angle_points.values())\n",
    "bp_analyze.append(config[\"bp_rotate\"])\n",
    "bp_analyze.extend(config[\"bp_scale\"])\n",
    "bp_analyze.append(config[\"bp_center\"])\n",
    "bp_analyze = np.unique(bp_analyze)\n",
    "\n",
    "for path in tqdm(glob(f\"{config['input_data_path']}/**/*.h5\")):\n",
    "    # Import\n",
    "    store = pd.HDFStore(path, mode='a')\n",
    "    df = store['df_with_missing']\n",
    "    x_data = df.xs('x', level=\"coords\", axis=1).to_numpy()\n",
    "    y_data = df.xs('y', level=\"coords\", axis=1).to_numpy()\n",
    "    likelihood = df.xs('likelihood', level=\"coords\", axis=1).to_numpy()\n",
    "    store.close()\n",
    "    \n",
    "    # Check Likelihood\n",
    "    below_thresh = np.where(likelihood[:, bp_analyze] < .2)\n",
    "    fr_bad = np.unique(below_thresh[0])\n",
    "    bad_frames_ref[path] = fr_bad\n",
    "\n",
    "    # Center\n",
    "    x_center = x_data[:,config['bp_center']]\n",
    "    y_center = y_data[:,config['bp_center']]\n",
    "    x_data -= x_center[:,np.newaxis]\n",
    "    y_data -= y_center[:,np.newaxis]\n",
    "        \n",
    "    # Format\n",
    "    DLC_data = np.concatenate((\n",
    "        np.expand_dims(x_data, axis=-1), \n",
    "        np.expand_dims(y_data, axis=-1)), axis=-1)\n",
    "    num_fr,_,_ = DLC_data.shape\n",
    "    \n",
    "    # Scale\n",
    "    x_d = DLC_data[:,config['bp_scale'][0],0] - DLC_data[:,config['bp_scale'][1],0]\n",
    "    y_d = DLC_data[:,config['bp_scale'][0],1] - DLC_data[:,config['bp_scale'][1],1]\n",
    "    dist = np.sqrt(x_d**2+y_d**2)\n",
    "    norm = np.median(dist)\n",
    "    scale_list.append(norm)\n",
    "    DLC_data /= norm\n",
    "\n",
    "    # Rotate\n",
    "    ROT_data, body_angle = _rotational(data=DLC_data, axis_bp=config['bp_rotate'])\n",
    "    bp_list.append(ROT_data)\n",
    "\n",
    "    # Angles\n",
    "    angles = angle_calc(ROT_data, config['angles'])\n",
    "    angles -= np.mean(angles, axis=0)\n",
    "    angles_list.append(angles)\n",
    "\n",
    "    # Record Files\n",
    "    files_ref[path] = (frame_start, frame_start+num_fr)\n",
    "    frame_start += num_fr\n",
    "\n",
    "# Combine Bodypoints and Angles Data\n",
    "tot_bp = np.concatenate(bp_list, axis=0)\n",
    "tot_angles = np.concatenate(angles_list, axis=0)  \n",
    "\n",
    "for angles in angles_list:\n",
    "    # Normalize Angles\n",
    "    angles -= np.mean(tot_angles, axis=0)\n",
    "    \n",
    "    # Morlet Wavelet\n",
    "    num_fr, num_ang = angles.shape\n",
    "    power = np.zeros((num_ang, config['f_bin'], num_fr))\n",
    "    max_freq, min_freq = config['fps']/2, 1 # Nyquist Frequency\n",
    "    freq = max_freq*2**(-1*np.log2(max_freq/min_freq)*\n",
    "        (np.arange(config['f_bin'],0,-1)-1)/(config['f_bin']-1))\n",
    "    widths = config['w']*config['fps'] / (2*freq*np.pi)\n",
    "    \n",
    "    # Normalization Factor\n",
    "    s = (config['w'] + np.sqrt(2+config['w']**2))/(4*np.pi*freq)\n",
    "    C = np.pi**(-0.25)*np.exp(0.25*(config['w']-np.sqrt(config['w']**2+2))**2)/np.sqrt(2*s)\n",
    "\n",
    "    for i in range(num_ang):\n",
    "        cwtm = cwt(angles[:,i], morlet2, widths, dtype=None, w=config['w'])\n",
    "        # power[i] = np.abs(cwtm)**2\n",
    "        power[i] = (np.abs(cwtm/np.expand_dims(np.sqrt(s),1)))/np.expand_dims(C, axis=(0,2))\n",
    "    power_list.append(power)\n",
    "\n",
    "tot_pwr = np.concatenate(power_list, axis=2)\n",
    "\n",
    "# Take Out Bad Frames\n",
    "tot_fr_bad = []\n",
    "num_ang, num_freq, num_fr = tot_pwr.shape\n",
    "for path, fr_range in files_ref.items():\n",
    "    tot_fr_bad.extend(bad_frames_ref[path]+fr_range[0])\n",
    "tot_fr_good = np.delete(np.arange(num_fr), tot_fr_bad)\n",
    "good_tot_pwr = np.delete(tot_pwr, tot_fr_bad, axis=2)\n",
    "\n",
    "# Dimensional Reduction\n",
    "num_angles, num_freq, num_good_fr = good_tot_pwr.shape\n",
    "power_mod = good_tot_pwr.reshape((num_angles*num_freq, num_good_fr)).T"
   ]
  },
  {
   "cell_type": "code",
   "execution_count": 110,
   "metadata": {},
   "outputs": [
    {
     "data": {
      "text/plain": [
       "(2, 20, 76526)"
      ]
     },
     "execution_count": 110,
     "metadata": {},
     "output_type": "execute_result"
    }
   ],
   "source": [
    "tot_pwr.shape"
   ]
  },
  {
   "cell_type": "code",
   "execution_count": 121,
   "metadata": {},
   "outputs": [],
   "source": [
    "test = np.empty((num_ang, num_freq, num_fr))\n",
    "test[:] = np.nan\n",
    "test[:, :, tot_fr_good] = good_tot_pwr"
   ]
  },
  {
   "cell_type": "code",
   "execution_count": 128,
   "metadata": {},
   "outputs": [
    {
     "data": {
      "text/plain": [
       "array([[nan, nan, nan, nan, nan, nan, nan, nan, nan, nan, nan, nan, nan,\n",
       "        nan, nan, nan, nan, nan, nan, nan],\n",
       "       [nan, nan, nan, nan, nan, nan, nan, nan, nan, nan, nan, nan, nan,\n",
       "        nan, nan, nan, nan, nan, nan, nan]])"
      ]
     },
     "execution_count": 128,
     "metadata": {},
     "output_type": "execute_result"
    }
   ],
   "source": [
    "test[:,:,1039]"
   ]
  },
  {
   "cell_type": "code",
   "execution_count": 83,
   "metadata": {},
   "outputs": [
    {
     "data": {
      "text/plain": [
       "{'data/clean_data/min_20181029_PP_trail1_1833-1920/min_20181029_PP_trail1_1833-1920DeepCut_resnet50_small_arenaJun18shuffle1_1030000.h5': array([73, 80]),\n",
       " 'data/clean_data/maj_20181101_XX_trail2_7933-14983/maj_20181101_XX_trail2_7933-14983DeepCut_resnet50_small_arenaJun18shuffle1_1030000.h5': array([ 951,  952,  953,  954,  956,  958,  960,  962,  963,  964,  993,\n",
       "        1023, 1024, 1025, 1026, 1028, 1029, 1030, 1031, 1242, 1243, 1339,\n",
       "        1344, 1385, 1386, 1387, 1388, 1390, 1391, 1392, 1393, 1394, 1423,\n",
       "        1424, 1433, 1434, 1442, 1443, 1444, 1445, 1446, 1484, 1485, 1486,\n",
       "        1501, 1505, 1507, 1508, 1509, 1510, 1511, 1512, 1514, 1541, 1542,\n",
       "        1543, 1567, 1568, 1569, 1573, 1574, 1575, 1607, 1608, 1609, 1610,\n",
       "        1611, 1612, 1613, 1614, 1615, 1616, 1617, 1619, 1620, 1651, 1685,\n",
       "        1686, 1689, 1695, 1697, 1698, 1699, 1700, 1701, 1702, 1703, 1704,\n",
       "        1705, 1706, 1707, 1708, 1709, 1710, 1711, 1712, 1713, 1714, 1715,\n",
       "        1716, 1717, 1718, 1719, 1720, 1721, 1723, 1724, 1725, 1726, 1727,\n",
       "        1728, 1729, 1730, 1731, 1732, 1733, 1734, 1735, 1736, 1738, 1739,\n",
       "        1740, 1741, 1742, 1743, 1744, 1745, 1746, 1747, 1748, 1749, 1750,\n",
       "        1751, 1752, 1753, 1754, 1755, 1756, 1757, 1758, 1759, 1760, 1761,\n",
       "        1762, 1763, 1764, 1765, 1766, 1767, 1768, 1769, 1770, 1771, 1772,\n",
       "        1773, 1774, 1775, 1776, 1777, 1778, 1779, 1780, 1781, 1782, 1783,\n",
       "        1784, 1785, 1786, 1787, 1788, 1789, 1790, 1791, 1792, 1793, 1794,\n",
       "        1795, 1796, 1797, 1798, 1799, 1800, 1809, 1810, 1811, 1812, 1813,\n",
       "        1814, 1819, 1820, 1821, 1822, 1823, 1824, 1825, 1826, 1827, 1828,\n",
       "        1829, 1830, 1831, 1832, 1833, 1834, 1835, 1836, 1837, 1838, 1839,\n",
       "        1840, 1841, 1842, 1843, 1844, 1845, 1846, 1847, 1848, 1857, 1862,\n",
       "        1863, 1866, 1873, 1874, 1878, 1879, 1880, 1881, 1882, 1883, 1886,\n",
       "        1887, 1888, 1889, 1890, 1891, 1892, 1893, 1894, 1895, 1896, 1897,\n",
       "        1899, 1900, 1901, 1902, 1903, 1904, 1905, 1906, 1907, 1908, 1909,\n",
       "        1910, 1911, 1912, 1913, 1914, 1916, 1919, 1920, 1921, 1922, 1923,\n",
       "        1924, 1925, 1926, 1927, 1928, 1929, 1930, 1931, 1932, 1933, 1934,\n",
       "        1935, 1936, 1937, 1938, 1939, 1940, 1941, 1942, 1943, 1944, 1945,\n",
       "        1947, 1948, 1949, 1952, 1953, 1954, 1955, 1956, 1957, 1958, 1959,\n",
       "        1960, 1961, 1962, 1963, 1964, 1965, 1966, 1967, 1968, 1969, 1970,\n",
       "        1971, 1972, 1973, 1974, 1975, 1976, 1977, 1978, 1979, 1980, 1981,\n",
       "        1983, 1984, 1989, 1990, 2243, 2337, 2582, 2584, 2585, 2587, 2678,\n",
       "        2691, 2692, 2693, 2728, 2732, 2734, 2785, 2786, 2787, 2789, 2826,\n",
       "        2827, 2828, 2832, 2833, 2835, 2836, 2837, 2838, 2839, 2840, 2851,\n",
       "        2852, 2853, 2854, 2860, 2862, 2863, 2875, 2876, 2877, 2895, 2896,\n",
       "        2897, 2898, 2899, 2900, 2901, 2902, 2903, 2904, 2905, 2906, 2908,\n",
       "        2909, 2910, 2911, 2912, 2913, 2919, 2920, 2921, 2922, 2923, 2949,\n",
       "        2950, 2951, 2954, 2972, 2973, 3059, 3060, 3061, 3062, 3064, 3065,\n",
       "        3066, 3067, 3069, 3070, 3072, 3090, 3091, 3128]),\n",
       " 'data/clean_data/maj_20181018_ant3_trail1_4345-6010/maj_20181018_ant3_trail1_4345-6010DeepCut_resnet50_small_arenaJun18shuffle1_1030000.h5': array([], dtype=int64),\n",
       " 'data/clean_data/maj_20181018_ant3_trail1_233-2206/maj_20181018_ant3_trail1_233-2206DeepCut_resnet50_small_arenaJun18shuffle1_1030000.h5': array([], dtype=int64),\n",
       " 'data/clean_data/mid_20181005_PP_trail1_3400-6361/mid_20181005_PP_trail1_3400-6361DeepCut_resnet50_small_arenaJun18shuffle1_1030000.h5': array([  44, 1641]),\n",
       " 'data/clean_data/mid_20181022_ant2_trail_food_530-3971/mid_20181022_ant2_trail_food_530-3971DeepCut_resnet50_small_arenaJun18shuffle1_1030000.h5': array([1483]),\n",
       " 'data/clean_data/mid_20181025_ant1_food1_565-1258/mid_20181025_ant1_food1_565-1258DeepCut_resnet50_small_arenaJun18shuffle1_1030000.h5': array([], dtype=int64),\n",
       " 'data/clean_data/mid_20181005_PP_food2_282-1692/mid_20181005_PP_food2_282-1692DeepCut_resnet50_small_arenaJun18shuffle1_1030000.h5': array([], dtype=int64),\n",
       " 'data/clean_data/mid_20181029_dL_food1_3052-3530/mid_20181029_dL_food1_3052-3530DeepCut_resnet50_small_arenaJun18shuffle1_1030000.h5': array([], dtype=int64),\n",
       " 'data/clean_data/mid_20181018_ant1_food2_834-1664/mid_20181018_ant1_food2_834-1664DeepCut_resnet50_small_arenaJun18shuffle1_1030000.h5': array([], dtype=int64),\n",
       " 'data/clean_data/mid_20181029_dW_trail1_461-4162/mid_20181029_dW_trail1_461-4162DeepCut_resnet50_small_arenaJun18shuffle1_1030000.h5': array([], dtype=int64),\n",
       " 'data/clean_data/mid_20181005_PP_trail1_196-1436/mid_20181005_PP_trail1_196-1436DeepCut_resnet50_small_arenaJun18shuffle1_1030000.h5': array([], dtype=int64),\n",
       " 'data/clean_data/mid_20181029_dL_free_1130-3095/mid_20181029_dL_free_1130-3095DeepCut_resnet50_small_arenaJun18shuffle1_1030000.h5': array([], dtype=int64),\n",
       " 'data/clean_data/mid_20181029_dL_food1_3941-4266/mid_20181029_dL_food1_3941-4266DeepCut_resnet50_small_arenaJun18shuffle1_1030000.h5': array([], dtype=int64),\n",
       " 'data/clean_data/mid_20181029_dL_food1_2203-3043/mid_20181029_dL_food1_2203-3043DeepCut_resnet50_small_arenaJun18shuffle1_1030000.h5': array([], dtype=int64),\n",
       " 'data/clean_data/maj_20181018_ant3_trail1_2671-3979/maj_20181018_ant3_trail1_2671-3979DeepCut_resnet50_small_arenaJun18shuffle1_1030000.h5': array([], dtype=int64),\n",
       " 'data/clean_data/mid_20181029_ant3_trail1_100-1712/mid_20181029_ant3_trail1_100-1712DeepCut_resnet50_small_arenaJun18shuffle1_1030000.h5': array([], dtype=int64),\n",
       " 'data/clean_data/mid_20181019_ant1_free_44-854/mid_20181019_ant1_free_44-854DeepCut_resnet50_small_arenaJun18shuffle1_1030000.h5': array([ 98, 100, 101, 103, 104, 105, 106, 108, 109]),\n",
       " 'data/clean_data/mid_20181018_ant5_food2_1374-1768/mid_20181018_ant5_food2_1374-1768DeepCut_resnet50_small_arenaJun18shuffle1_1030000.h5': array([], dtype=int64),\n",
       " 'data/clean_data/maj_20181005_dP_food1_1090-1916/maj_20181005_dP_food1_1090-1916DeepCut_resnet50_small_arenaJun18shuffle1_1030000.h5': array([408, 665, 666, 667]),\n",
       " 'data/clean_data/mid_20181029_dL_food1_23-213/mid_20181029_dL_food1_23-213DeepCut_resnet50_small_arenaJun18shuffle1_1030000.h5': array([], dtype=int64),\n",
       " 'data/clean_data/maj_20181101_XX_trail2_6658-7759/maj_20181101_XX_trail2_6658-7759DeepCut_resnet50_small_arenaJun18shuffle1_1030000.h5': array([917]),\n",
       " 'data/clean_data/mid_20181005_PP_trail1_1484-2711/mid_20181005_PP_trail1_1484-2711DeepCut_resnet50_small_arenaJun18shuffle1_1030000.h5': array([ 503, 1072]),\n",
       " 'data/clean_data/mid_20181029_ant3_trail1_6345-7136/mid_20181029_ant3_trail1_6345-7136DeepCut_resnet50_small_arenaJun18shuffle1_1030000.h5': array([], dtype=int64),\n",
       " 'data/clean_data/maj_20181005_dP_free_175-1827/maj_20181005_dP_free_175-1827DeepCut_resnet50_small_arenaJun18shuffle1_1030000.h5': array([], dtype=int64),\n",
       " 'data/clean_data/maj_20181029_LL_trail_170-546/maj_20181029_LL_trail_170-546DeepCut_resnet50_small_arenaJun18shuffle1_1030000.h5': array([], dtype=int64),\n",
       " 'data/clean_data/20181005_PP_food5_grooming/20181005_PP_food5_groomingDeepCut_resnet50_small_arenaJun18shuffle1_1030000.h5': array([ 253,  254,  257,  280,  281,  289,  290,  291,  292,  293,  294,\n",
       "         295,  296,  298,  300,  301,  302,  303,  304,  305,  306,  307,\n",
       "         308,  309,  310,  311,  312,  313,  314,  315,  316,  317,  318,\n",
       "         319,  320,  321,  322,  324,  325,  326,  327,  328,  329,  330,\n",
       "         331,  332,  333,  379,  380,  381,  382,  384,  385,  386,  387,\n",
       "         388,  389,  390,  391,  392,  393,  394,  395,  396,  397,  398,\n",
       "         399,  400,  401,  402,  403,  407,  408,  409,  410,  411,  415,\n",
       "         419,  420,  521,  566,  569,  581,  582,  594,  596,  602,  605,\n",
       "         606,  607,  899,  900, 1241, 1243, 1249, 1251, 1252, 1254, 1255,\n",
       "        1256, 1257, 1258, 1259, 1260, 1261, 1262, 1263, 1264, 1265, 1266,\n",
       "        1270, 1308, 1309, 1310, 1311, 1312, 1313, 1314, 1316, 1318, 1329,\n",
       "        1364, 1366, 1367, 1379, 1383, 1385, 1386, 1387, 1388, 1390, 1392,\n",
       "        1424, 1463, 1475, 1477, 1479, 1480, 1481, 1482, 1483, 1484, 1485,\n",
       "        1486, 1490, 1491, 1492, 1493, 1494, 1496, 1497, 1499, 1500, 1520,\n",
       "        1521, 1539, 1541, 1542, 1656, 1658, 1695, 1696, 1697, 1702, 1803,\n",
       "        1813, 1926, 1927, 1956, 1977, 1985, 1994, 1995, 2139, 2267, 2269,\n",
       "        2270, 2271, 2273, 2274, 2323, 2324, 2334, 2344, 2348, 2355, 2565,\n",
       "        2566, 2567, 2568, 2586, 2587, 2588, 2589, 2590, 2591, 2592, 2594,\n",
       "        2595, 2596, 2597, 2598, 2599, 2600, 2602]),\n",
       " 'data/clean_data/mid_20181018_ant5_food2_306-885/mid_20181018_ant5_food2_306-885DeepCut_resnet50_small_arenaJun18shuffle1_1030000.h5': array([], dtype=int64),\n",
       " 'data/clean_data/maj_20181018_ant3_trail1_6417-7700/maj_20181018_ant3_trail1_6417-7700DeepCut_resnet50_small_arenaJun18shuffle1_1030000.h5': array([1130]),\n",
       " 'data/clean_data/maj_20181101_XX_trail2_1-6347/maj_20181101_XX_trail2_1-6347DeepCut_resnet50_small_arenaJun18shuffle1_1030000.h5': array([4587, 4588, 4596, 4598, 4709]),\n",
       " 'data/clean_data/20181101_XX_trail2_side_walk_8500-8823/20181101_XX_trail2_side_walk_8500-8823DeepCut_resnet50_small_arenaJun18shuffle1_1030000.h5': array([], dtype=int64),\n",
       " 'data/clean_data/mid_20181029_dL_free_72-273/mid_20181029_dL_free_72-273DeepCut_resnet50_small_arenaJun18shuffle1_1030000.h5': array([], dtype=int64),\n",
       " 'data/clean_data/20181018_ant1_food2_156-1320_grooming/20181018_ant1_food2_156-1320_groomingDeepCut_resnet50_small_arenaJun18shuffle1_1030000.h5': array([671, 681, 822, 823, 824, 825, 826, 827, 828, 880, 881, 882, 883,\n",
       "        887, 912]),\n",
       " 'data/clean_data/mid_20181029_dL_food1_4914-5318/mid_20181029_dL_food1_4914-5318DeepCut_resnet50_small_arenaJun18shuffle1_1030000.h5': array([99]),\n",
       " 'data/clean_data/mid_20181005_PP_trail1_9410-10796/mid_20181005_PP_trail1_9410-10796DeepCut_resnet50_small_arenaJun18shuffle1_1030000.h5': array([201]),\n",
       " 'data/clean_data/mid_20181029_dW_trail2_262-2335/mid_20181029_dW_trail2_262-2335DeepCut_resnet50_small_arenaJun18shuffle1_1030000.h5': array([1450]),\n",
       " 'data/clean_data/maj_20181005_dP_food1_2867-3220/maj_20181005_dP_food1_2867-3220DeepCut_resnet50_small_arenaJun18shuffle1_1030000.h5': array([], dtype=int64),\n",
       " 'data/clean_data/mid_20181029_ant3_trail1_3803-4691/mid_20181029_ant3_trail1_3803-4691DeepCut_resnet50_small_arenaJun18shuffle1_1030000.h5': array([], dtype=int64),\n",
       " 'data/clean_data/mid_20181018_ant5_food2_4700-6432/mid_20181018_ant5_food2_4700-6432DeepCut_resnet50_small_arenaJun18shuffle1_1030000.h5': array([], dtype=int64),\n",
       " 'data/clean_data/min_20181029_PP_trail1_115-293/min_20181029_PP_trail1_115-293DeepCut_resnet50_small_arenaJun18shuffle1_1030000.h5': array([], dtype=int64),\n",
       " 'data/clean_data/maj_20181005_dP_food1_2192-2800/maj_20181005_dP_food1_2192-2800DeepCut_resnet50_small_arenaJun18shuffle1_1030000.h5': array([], dtype=int64),\n",
       " 'data/clean_data/mid_20181019_ant1_free_1838-2086/mid_20181019_ant1_free_1838-2086DeepCut_resnet50_small_arenaJun18shuffle1_1030000.h5': array([], dtype=int64),\n",
       " 'data/clean_data/maj_20181126_ant2_trail1_1300-927/maj_20181126_ant2_trail1_1300-927DeepCut_resnet50_small_arenaJun18shuffle1_1030000.h5': array([], dtype=int64),\n",
       " 'data/clean_data/mid_20181025_dY_trail1_28-3947/mid_20181025_dY_trail1_28-3947DeepCut_resnet50_small_arenaJun18shuffle1_1030000.h5': array([1934]),\n",
       " 'data/clean_data/maj_20181005_dP_food1_3509-4284/maj_20181005_dP_food1_3509-4284DeepCut_resnet50_small_arenaJun18shuffle1_1030000.h5': array([599]),\n",
       " 'data/clean_data/maj_20181005_dP_food1_60-838/maj_20181005_dP_food1_60-838DeepCut_resnet50_small_arenaJun18shuffle1_1030000.h5': array([352]),\n",
       " 'data/clean_data/20181101_XX_trail2_10386-11100_grooming/20181101_XX_trail2_10386-11100_groomingDeepCut_resnet50_small_arenaJun18shuffle1_1030000.h5': array([129, 131, 132, 134, 225, 238, 239, 240, 275, 279, 281, 332, 333,\n",
       "        334, 336, 373, 374, 375, 379, 380, 382, 383, 384, 385, 386, 387,\n",
       "        398, 399, 400, 401, 407, 409, 410, 422, 423, 424, 442, 443, 444,\n",
       "        445, 446, 447, 448, 449, 450, 451, 452, 453, 455, 456, 457, 458,\n",
       "        459, 460, 466, 467, 468, 469, 470, 496, 497, 498, 501, 519, 520,\n",
       "        606, 607, 608, 609, 611, 612, 613, 614, 616, 617, 619, 637, 638,\n",
       "        675]),\n",
       " 'data/clean_data/min_20181029_PP_trail1_456-1706/min_20181029_PP_trail1_456-1706DeepCut_resnet50_small_arenaJun18shuffle1_1030000.h5': array([], dtype=int64),\n",
       " 'data/clean_data/maj_20181005_dP_free_1862-2419/maj_20181005_dP_free_1862-2419DeepCut_resnet50_small_arenaJun18shuffle1_1030000.h5': array([], dtype=int64),\n",
       " 'data/clean_data/mid_20181005_PP_trail1_6757-9186/mid_20181005_PP_trail1_6757-9186DeepCut_resnet50_small_arenaJun18shuffle1_1030000.h5': array([1260]),\n",
       " 'data/clean_data/mid_20181029_dL_free2/mid_20181029_dL_free2DeepCut_resnet50_small_arenaJun18shuffle1_1030000.h5': array([], dtype=int64),\n",
       " 'data/clean_data/mid_20181029_dW_trail1_4209-6130/mid_20181029_dW_trail1_4209-6130DeepCut_resnet50_small_arenaJun18shuffle1_1030000.h5': array([906]),\n",
       " 'data/clean_data/20181101_XX_trail2_8824-10201_grooming/20181101_XX_trail2_8824-10201_groomingDeepCut_resnet50_small_arenaJun18shuffle1_1030000.h5': array([  60,   61,   62,   63,   65,   67,   69,   71,   72,   73,  102,\n",
       "         132,  133,  134,  135,  137,  138,  139,  140,  351,  352,  448,\n",
       "         453,  494,  495,  496,  497,  499,  500,  501,  502,  503,  532,\n",
       "         533,  542,  543,  551,  552,  553,  554,  555,  593,  594,  595,\n",
       "         610,  614,  616,  617,  618,  619,  620,  621,  623,  650,  651,\n",
       "         652,  676,  677,  678,  682,  683,  684,  716,  717,  718,  719,\n",
       "         720,  721,  722,  723,  724,  725,  726,  728,  729,  760,  794,\n",
       "         795,  798,  804,  806,  807,  808,  809,  810,  811,  812,  813,\n",
       "         814,  815,  816,  817,  818,  819,  820,  821,  822,  823,  824,\n",
       "         825,  826,  827,  828,  829,  830,  832,  833,  834,  835,  836,\n",
       "         837,  838,  839,  840,  841,  842,  843,  844,  845,  847,  848,\n",
       "         849,  850,  851,  852,  853,  854,  855,  856,  857,  858,  859,\n",
       "         860,  861,  862,  863,  864,  865,  866,  867,  868,  869,  870,\n",
       "         871,  872,  873,  874,  875,  876,  877,  878,  879,  880,  881,\n",
       "         882,  883,  884,  885,  886,  887,  888,  889,  890,  891,  892,\n",
       "         893,  894,  895,  896,  897,  898,  899,  900,  901,  902,  903,\n",
       "         904,  905,  906,  907,  908,  909,  918,  919,  920,  921,  922,\n",
       "         923,  928,  929,  930,  931,  932,  933,  934,  935,  936,  937,\n",
       "         938,  939,  940,  941,  942,  943,  944,  945,  946,  947,  948,\n",
       "         949,  950,  951,  952,  953,  954,  955,  956,  957,  966,  971,\n",
       "         972,  975,  982,  983,  987,  988,  989,  990,  991,  992,  995,\n",
       "         996,  997,  998,  999, 1000, 1001, 1002, 1003, 1004, 1005, 1006,\n",
       "        1008, 1009, 1010, 1011, 1012, 1013, 1014, 1015, 1016, 1017, 1018,\n",
       "        1019, 1020, 1021, 1022, 1023, 1025, 1028, 1029, 1030, 1031, 1032,\n",
       "        1033, 1034, 1035, 1036, 1037, 1038, 1039, 1040, 1041, 1042, 1043,\n",
       "        1044, 1045, 1046, 1047, 1048, 1049, 1050, 1051, 1052, 1053, 1054,\n",
       "        1056, 1057, 1058, 1061, 1062, 1063, 1064, 1065, 1066, 1067, 1068,\n",
       "        1069, 1070, 1071, 1072, 1073, 1074, 1075, 1076, 1077, 1078, 1079,\n",
       "        1080, 1081, 1082, 1083, 1084, 1085, 1086, 1087, 1088, 1089, 1090,\n",
       "        1092, 1093, 1098, 1099, 1352]),\n",
       " 'data/clean_data/mid_20181019_ant1_free_1179-1388/mid_20181019_ant1_free_1179-1388DeepCut_resnet50_small_arenaJun18shuffle1_1030000.h5': array([111]),\n",
       " 'data/clean_data/min_20181029_PP_trail1_305-441/min_20181029_PP_trail1_305-441DeepCut_resnet50_small_arenaJun18shuffle1_1030000.h5': array([], dtype=int64),\n",
       " 'data/clean_data/mid_20181029_dW_trail2_2708-3707/mid_20181029_dW_trail2_2708-3707DeepCut_resnet50_small_arenaJun18shuffle1_1030000.h5': array([], dtype=int64),\n",
       " 'data/clean_data/mid_20181019_ant1_free_1442-1619/mid_20181019_ant1_free_1442-1619DeepCut_resnet50_small_arenaJun18shuffle1_1030000.h5': array([], dtype=int64),\n",
       " 'data/clean_data/mid_20181018_ant5_food2_2458-2940/mid_20181018_ant5_food2_2458-2940DeepCut_resnet50_small_arenaJun18shuffle1_1030000.h5': array([], dtype=int64)}"
      ]
     },
     "execution_count": 83,
     "metadata": {},
     "output_type": "execute_result"
    }
   ],
   "source": [
    "bad_frames_ref"
   ]
  },
  {
   "cell_type": "code",
   "execution_count": 5,
   "metadata": {
    "scrolled": true
   },
   "outputs": [
    {
     "name": "stdout",
     "output_type": "stream",
     "text": [
      "data/clean_data/mid_20181018_ant5_food2_2458-2940/mid_20181018_ant5_food2_2458-2940DeepCut_resnet50_small_arenaJun18shuffle1_1030000.h5\n",
      "[ 951  952  952  953  954  956  958  960  962  963  963  964  993 1023\n",
      " 1023 1024 1024 1025 1025 1026 1028 1029 1030 1031 1242 1243 1339 1344\n",
      " 1385 1386 1387 1388 1388 1390 1391 1391 1392 1393 1394 1423 1424 1424\n",
      " 1433 1434 1442 1443 1444 1445 1446 1484 1485 1486 1501 1505 1507 1508\n",
      " 1509 1509 1510 1510 1511 1512 1514 1541 1542 1542 1543 1567 1568 1569\n",
      " 1573 1574 1575 1607 1608 1609 1609 1610 1610 1611 1611 1612 1612 1613\n",
      " 1614 1615 1616 1617 1619 1619 1620 1651 1685 1686 1689 1695 1697 1698\n",
      " 1699 1700 1700 1701 1701 1702 1702 1703 1703 1704 1704 1705 1705 1706\n",
      " 1706 1707 1707 1708 1709 1710 1711 1712 1712 1713 1714 1715 1716 1717\n",
      " 1718 1719 1720 1721 1723 1724 1725 1726 1727 1728 1729 1730 1731 1732\n",
      " 1733 1734 1735 1736 1738 1739 1740 1741 1742 1743 1744 1745 1746 1747\n",
      " 1748 1749 1750 1751 1752 1753 1754 1755 1756 1757 1758 1759 1760 1761\n",
      " 1762 1763 1764 1765 1766 1767 1768 1769 1770 1771 1772 1773 1774 1775\n",
      " 1776 1777 1778 1779 1780 1781 1782 1783 1784 1785 1786 1787 1788 1789\n",
      " 1790 1791 1792 1793 1794 1795 1796 1797 1798 1799 1800 1809 1810 1811\n",
      " 1812 1813 1814 1819 1820 1821 1822 1823 1824 1825 1826 1827 1828 1829\n",
      " 1830 1831 1832 1833 1834 1835 1836 1837 1838 1839 1840 1841 1842 1843\n",
      " 1844 1845 1846 1847 1848 1857 1862 1863 1866 1873 1874 1878 1879 1880\n",
      " 1881 1882 1883 1886 1887 1888 1889 1890 1891 1892 1893 1894 1895 1896\n",
      " 1897 1899 1900 1901 1902 1903 1904 1905 1906 1907 1908 1909 1910 1911\n",
      " 1912 1913 1914 1916 1919 1920 1921 1922 1923 1924 1925 1926 1927 1928\n",
      " 1929 1930 1931 1932 1933 1934 1935 1936 1937 1938 1939 1940 1941 1942\n",
      " 1943 1944 1945 1947 1948 1949 1952 1953 1954 1955 1956 1957 1958 1959\n",
      " 1960 1961 1962 1963 1964 1965 1966 1967 1968 1969 1970 1971 1972 1973\n",
      " 1974 1975 1976 1977 1978 1979 1980 1981 1983 1984 1989 1990 2243 2337\n",
      " 2582 2584 2585 2587 2678 2691 2692 2693 2728 2732 2732 2734 2785 2786\n",
      " 2787 2789 2826 2827 2828 2832 2833 2835 2836 2837 2838 2839 2840 2851\n",
      " 2852 2853 2854 2860 2862 2863 2875 2875 2876 2876 2877 2895 2896 2897\n",
      " 2898 2899 2900 2901 2902 2903 2903 2904 2905 2906 2908 2909 2909 2910\n",
      " 2910 2911 2912 2913 2919 2920 2921 2922 2923 2949 2950 2951 2951 2954\n",
      " 2972 2973 3059 3060 3061 3062 3064 3065 3066 3067 3069 3070 3072 3090\n",
      " 3091 3128]\n",
      "[ 9  8  9  8  8  9  9  8  9  8  9  8  9  8  9  8  9  8  9  8  9  9  9  9\n",
      "  8  8  8  8  8  8  8  8  9  9  8  9  9  9  9  8  8  9 21 21  8  8  8  8\n",
      "  8  8  8  8  8  9  9  8  8  9  8  9  8  8  8  9  9 21 21  8  8  8  8  8\n",
      "  8  8  8  8  9  8  9  8  9  8  9  9  9  9  9  9  8  9  8  8  8  8  8  8\n",
      "  9  9  9  8  9  8  9  8  9  8  9  8  9  8  9  8  9  8  9  9  9  9  9  8\n",
      "  9  9  9  9  9  9  9  9  9  9  9  9  9  9  9  9  9  9  9  9  9  9  9  9\n",
      "  9  9  9  9  9  9  9  9  9  9  9  9  9  9  9  9  9  9  9  9  9  9  9  9\n",
      "  9  9  9  9  9  9  9  9  9  9  9  9  9  9  9  9  9  9  9  9  9  9  9  9\n",
      "  9  9  9  9  9  9  9  9  9  9  9  9  9  9  9  9  9  9  9  9  9  9  9  9\n",
      "  9  9  9  9  9  9  9  9  9  9  9  9  9  9  9  9  9  9  9  9  9  9  9  9\n",
      "  9  9  9  9  9  9  9  9  9  9  9  9  9  9  9  9  9  9  9  9  9  9  9  9\n",
      "  9  9  9  9  9  9  9  9  9  9  9  9  9  9  9  9  9  9  9  9  9  9  9  9\n",
      "  9  9  9  9  9  9  9  9  9  9  9  9  9  9  9  9  9  9  9  9  9  9  9  9\n",
      "  9  9  9  9  9  9  9  9  9  9  9  9  9  9  9  9  9  9  9  9  9  9  9  9\n",
      "  9  9  9  9  9  9  9  9  9  9  9  9 21  8 21 21 21 21 22 21 21 21 22 21\n",
      " 22 21 22 22 22 21 21 21 21 21 21 21 21 21 21 21 21 21 21 21 21 21 21 21\n",
      " 21 22 21 22 22 22 22 22 22 22 22 22 22 21 22 22 22 22 22 21 22 21 22 22\n",
      " 21 21 22 22 22 22 22 22 22 21 22 21 21 21 21 21 21 21 21 21 21 21 21 21\n",
      " 21 21 21 21]\n"
     ]
    }
   ],
   "source": [
    "filename = \"data/clean_data/maj_20181101_XX_trail2_7933-14983/maj_20181101_XX_trail2_7933-14983DeepCut_resnet50_small_arenaJun18shuffle1_1030000.h5\"\n",
    "\n",
    "# Import\n",
    "store = pd.HDFStore(filename, mode='a')\n",
    "df = store['df_with_missing']\n",
    "x_data = df.xs('x', level=\"coords\", axis=1).to_numpy()\n",
    "y_data = df.xs('y', level=\"coords\", axis=1).to_numpy()\n",
    "likelihood = df.xs('likelihood', level=\"coords\", axis=1).to_numpy()\n",
    "store.close()\n",
    "\n",
    "# Bodypoints Used for Analysis\n",
    "bp_analyze = []\n",
    "for angle_points in config[\"angles\"]:\n",
    "    bp_analyze.extend(angle_points.values())\n",
    "bp_analyze.append(config[\"bp_rotate\"])\n",
    "bp_analyze.extend(config[\"bp_scale\"])\n",
    "bp_analyze.append(config[\"bp_center\"])\n",
    "bp_analyze = np.unique(bp_analyze)\n",
    "\n",
    "# Check Likelihood\n",
    "below_thresh = np.where(likelihood[:, bp_analyze] < .2)\n",
    "fr_bad = np.unique(below_thresh[0])\n",
    "print(path)\n",
    "print(bp_analyze[below_thresh[1]])\n",
    "\n",
    "# Center\n",
    "x_center = x_data[:,config['bp_center']]\n",
    "y_center = y_data[:,config['bp_center']]\n",
    "x_data -= x_center[:,np.newaxis]\n",
    "y_data -= y_center[:,np.newaxis]\n",
    "\n",
    "# Format\n",
    "DLC_data = np.concatenate((\n",
    "    np.expand_dims(x_data, axis=-1), \n",
    "    np.expand_dims(y_data, axis=-1)), axis=-1)\n",
    "\n",
    "# Scale\n",
    "x_d = DLC_data[:,config['bp_scale'][0],0] - DLC_data[:,config['bp_scale'][1],0]\n",
    "y_d = DLC_data[:,config['bp_scale'][0],1] - DLC_data[:,config['bp_scale'][1],1]\n",
    "dist = np.sqrt(x_d**2+y_d**2)\n",
    "norm = np.median(dist)\n",
    "scale_list.append(norm)\n",
    "DLC_data /= norm\n",
    "\n",
    "# Rotate\n",
    "ROT_data, body_angle = _rotational(data=DLC_data, axis_bp=config['bp_rotate'])\n",
    "bp_list.append(ROT_data)\n",
    "\n",
    "# Angles\n",
    "angles = angle_calc(ROT_data, config['angles'])\n",
    "angles -= np.mean(angles, axis=0)\n",
    "angles_list.append(angles)"
   ]
  },
  {
   "cell_type": "code",
   "execution_count": 220,
   "metadata": {},
   "outputs": [
    {
     "data": {
      "text/plain": [
       "545"
      ]
     },
     "execution_count": 220,
     "metadata": {},
     "output_type": "execute_result"
    }
   ],
   "source": [
    "len(np.where(likelihood[:, bp_analyze] < .5)[0])"
   ]
  },
  {
   "cell_type": "code",
   "execution_count": 199,
   "metadata": {},
   "outputs": [
    {
     "data": {
      "text/plain": [
       "(7051, 30, 2)"
      ]
     },
     "execution_count": 199,
     "metadata": {},
     "output_type": "execute_result"
    }
   ],
   "source": [
    "DLC_data.shape"
   ]
  },
  {
   "cell_type": "code",
   "execution_count": 232,
   "metadata": {},
   "outputs": [
    {
     "data": {
      "image/png": "[encoded data removed]",
      "text/plain": [
       "<Figure size 360x576 with 1 Axes>"
      ]
     },
     "metadata": {
      "needs_background": "light"
     },
     "output_type": "display_data"
    }
   ],
   "source": [
    "frame=3060\n",
    "\n",
    "fig, ax = plt.subplots(figsize=(5,8))\n",
    "ax.scatter(ROT_data[frame,:,0], ROT_data[frame,:,1], s=15, c='k')\n",
    "plt.plot(ROT_data[frame,0:4,0], ROT_data[frame,0:4,1])\n",
    "plt.plot(ROT_data[frame,4:8,0], ROT_data[frame,4:8,1])\n",
    "plt.plot(ROT_data[frame,8:11,0], ROT_data[frame,8:11,1])\n",
    "plt.plot(ROT_data[frame,11:14,0], ROT_data[frame,11:14,1])\n",
    "plt.plot(ROT_data[frame,14:17,0], ROT_data[frame,14:17,1])\n",
    "plt.plot(ROT_data[frame,17:21,0], ROT_data[frame,17:21,1])\n",
    "plt.plot(ROT_data[frame,21:24,0], ROT_data[frame,21:24,1])\n",
    "plt.plot(ROT_data[frame,24:27,0], ROT_data[frame,24:27,1])\n",
    "plt.plot(ROT_data[frame,27:30,0], ROT_data[frame,27:30,1])\n",
    "ax.set(xlim=(-7,7), ylim=(-9,9))\n",
    "plt.show()"
   ]
  },
  {
   "cell_type": "code",
   "execution_count": null,
   "metadata": {},
   "outputs": [],
   "source": []
  },
  {
   "cell_type": "code",
   "execution_count": null,
   "metadata": {},
   "outputs": [],
   "source": []
  },
  {
   "cell_type": "code",
   "execution_count": null,
   "metadata": {},
   "outputs": [],
   "source": []
  },
  {
   "cell_type": "code",
   "execution_count": null,
   "metadata": {},
   "outputs": [],
   "source": [
    "for angles in angles_list:\n",
    "    # Normalize Angles\n",
    "    angles -= np.mean(tot_angles, axis=0)\n",
    "    # Morlet Wavelet\n",
    "    num_fr, num_ang = angles.shape\n",
    "    power = np.zeros((num_ang, config['f_bin'], num_fr))\n",
    "    max_freq, min_freq = config['fps']/2, 1 # Nyquist Frequency\n",
    "    freq = max_freq*2**(-1*np.log2(max_freq/min_freq)*\n",
    "        (np.arange(config['f_bin'],0,-1)-1)/(config['f_bin']-1))\n",
    "    widths = config['w']*config['fps'] / (2*freq*np.pi)\n",
    "    # Normalization Factor\n",
    "    s = (config['w'] + np.sqrt(2+config['w']**2))/(4*np.pi*freq)\n",
    "    C = np.pi**(-0.25)*np.exp(0.25*(config['w']-np.sqrt(config['w']**2+2))**2)/np.sqrt(2*s)\n",
    "    for i in range(num_ang):\n",
    "        cwtm = cwt(angles[:,i], morlet2, widths, dtype=None, w=config['w'])\n",
    "        power[i] = (np.abs(cwtm)**2)\n",
    "#         power[i] = np.abs(cwtm/np.expand_dims(np.sqrt(s),1))\n",
    "        power[i] = (np.abs(cwtm/np.expand_dims(np.sqrt(s),1)))/np.expand_dims(C, axis=(0,2))\n",
    "    power_list.append(power)\n",
    "\n",
    "tot_pwr = np.concatenate(power_list, axis=2)"
   ]
  },
  {
   "cell_type": "code",
   "execution_count": null,
   "metadata": {},
   "outputs": [],
   "source": []
  },
  {
   "cell_type": "code",
   "execution_count": 128,
   "metadata": {},
   "outputs": [],
   "source": [
    "min_trail, min_food, min_free = 0,0,0\n",
    "mid_trail, mid_food, mid_free = 0,0,0\n",
    "maj_trail, maj_food, maj_free = 0,0,0\n",
    "\n",
    "for key, fr_range in files_ref.items():\n",
    "    # Caste Condition\n",
    "    if key.find(\"min_\") is not -1:\n",
    "        # Environmental Conditions\n",
    "        if key.find(\"trail\") is not -1:\n",
    "            min_trail += fr_range[1]-fr_range[0]\n",
    "        if key.find(\"food\") is not -1:\n",
    "            min_food += fr_range[1]-fr_range[0]\n",
    "        if key.find(\"free\") is not -1:\n",
    "            min_free += fr_range[1]-fr_range[0]\n",
    "    \n",
    "    if key.find(\"mid_\") is not -1:\n",
    "        caste_data[\"mid\"].extend(range(fr_range[0], fr_range[1]))\n",
    "        # Environmental Conditions\n",
    "        if key.find(\"trail\") is not -1:\n",
    "            mid_trail += fr_range[1]-fr_range[0]\n",
    "        if key.find(\"food\") is not -1:\n",
    "            mid_food += fr_range[1]-fr_range[0]\n",
    "        if key.find(\"free\") is not -1:\n",
    "            mid_free += fr_range[1]-fr_range[0]\n",
    "            \n",
    "    if key.find(\"maj_\") is not -1:\n",
    "        caste_data[\"maj\"].extend(range(fr_range[0], fr_range[1]))\n",
    "        # Environmental Conditions\n",
    "        if key.find(\"trail\") is not -1:\n",
    "            maj_trail += fr_range[1]-fr_range[0]\n",
    "        if key.find(\"food\") is not -1:\n",
    "            maj_food += fr_range[1]-fr_range[0]\n",
    "        if key.find(\"free\") is not -1:\n",
    "            maj_free += fr_range[1]-fr_range[0]\n",
    "    \n",
    "    "
   ]
  },
  {
   "cell_type": "code",
   "execution_count": 145,
   "metadata": {},
   "outputs": [
    {
     "data": {
      "text/plain": [
       "25.508666666666667"
      ]
     },
     "execution_count": 145,
     "metadata": {},
     "output_type": "execute_result"
    }
   ],
   "source": [
    "76526/50/60"
   ]
  },
  {
   "cell_type": "code",
   "execution_count": 144,
   "metadata": {},
   "outputs": [
    {
     "data": {
      "text/plain": [
       "(2, 20, 76526)"
      ]
     },
     "execution_count": 144,
     "metadata": {},
     "output_type": "execute_result"
    }
   ],
   "source": [
    "tot_pwr.shape"
   ]
  },
  {
   "cell_type": "code",
   "execution_count": null,
   "metadata": {},
   "outputs": [],
   "source": []
  }
 ],
 "metadata": {
  "kernelspec": {
   "display_name": "Python 3",
   "language": "python",
   "name": "python3"
  },
  "language_info": {
   "codemirror_mode": {
    "name": "ipython",
    "version": 3
   },
   "file_extension": ".py",
   "mimetype": "text/x-python",
   "name": "python",
   "nbconvert_exporter": "python",
   "pygments_lexer": "ipython3",
   "version": "3.7.3"
  }
 },
 "nbformat": 4,
 "nbformat_minor": 4
}
