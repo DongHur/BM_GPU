{
 "cells": [
  {
   "cell_type": "code",
   "execution_count": 1,
   "metadata": {},
   "outputs": [],
   "source": [
    "SMALL_SIZE, MEDIUM_SIZE = 9, 12\n",
    "PROJECT_PATH = \"/Users/donghur/Desktop/Research/Murthy/BM_GPU\"\n",
    "# PROJECT_PATH = \"/rapids/notebooks/host\""
   ]
  },
  {
   "cell_type": "code",
   "execution_count": 2,
   "metadata": {},
   "outputs": [],
   "source": [
    "import sys\n",
    "import numpy as np\n",
    "from glob import glob\n",
    "import random, matplotlib\n",
    "from tqdm.notebook import tqdm\n",
    "import matplotlib.pyplot as plt\n",
    "\n",
    "sys.path.append(PROJECT_PATH)\n",
    "from utils.data import Dataset\n"
   ]
  },
  {
   "cell_type": "code",
   "execution_count": 3,
   "metadata": {},
   "outputs": [],
   "source": [
    "import utils.figure as ufigure\n",
    "%load_ext autoreload\n",
    "%autoreload 1\n",
    "%aimport utils.data\n",
    "%aimport utils.figure"
   ]
  },
  {
   "cell_type": "code",
   "execution_count": 4,
   "metadata": {},
   "outputs": [
    {
     "name": "stdout",
     "output_type": "stream",
     "text": [
      "Loading INFO.yaml ...\n",
      "Finished loading INFO\n",
      "Loading config.yaml ...\n"
     ]
    },
    {
     "name": "stderr",
     "output_type": "stream",
     "text": [
      "  2%|▏         | 3/141 [00:00<00:05, 24.00it/s]"
     ]
    },
    {
     "name": "stdout",
     "output_type": "stream",
     "text": [
      "Finished loading config\n"
     ]
    },
    {
     "name": "stderr",
     "output_type": "stream",
     "text": [
      "100%|██████████| 141/141 [00:06<00:00, 23.23it/s]\n"
     ]
    }
   ],
   "source": [
    "Data = Dataset(PROJECT_PATH, 'final')\n",
    "Data.load_data()"
   ]
  },
  {
   "cell_type": "code",
   "execution_count": 6,
   "metadata": {},
   "outputs": [],
   "source": [
    "# configuration\n",
    "INFO = Data.info\n",
    "INFO_values = Data.info_values\n",
    "config = Data.config\n",
    "skeleton = config['skeleton']\n",
    "skeleton_color= config['skeleton_color']\n",
    "\n",
    "# features\n",
    "bp = Data.data_obj['bodypoints']\n",
    "rot_bp = Data.data_obj['rotated_bodypoints']\n",
    "angles = Data.data_obj['angles']\n",
    "limbs = Data.data_obj['limbs']\n",
    "angle_power = Data.data_obj['angle_power']\n",
    "limb_power = Data.data_obj['limb_power']\n",
    "\n",
    "# embeddings\n",
    "all_embed = Data.data_obj['all_embeddings']\n",
    "all_postural_embed = Data.data_obj['all_postural_embeddings']\n",
    "all_kinematic_embed = Data.data_obj['all_kinematic_embeddings']"
   ]
  },
  {
   "cell_type": "markdown",
   "metadata": {},
   "source": [
    "<hr><hr>"
   ]
  },
  {
   "cell_type": "code",
   "execution_count": 92,
   "metadata": {},
   "outputs": [],
   "source": [
    "bad_fr, bad_bp, bad_ax = np.where(np.isnan(bp))"
   ]
  },
  {
   "cell_type": "code",
   "execution_count": 93,
   "metadata": {},
   "outputs": [],
   "source": [
    "unique_bad_fr = np.unique(bad_fr)"
   ]
  },
  {
   "cell_type": "code",
   "execution_count": 95,
   "metadata": {},
   "outputs": [
    {
     "data": {
      "text/plain": [
       "174253"
      ]
     },
     "execution_count": 95,
     "metadata": {},
     "output_type": "execute_result"
    }
   ],
   "source": [
    "len(unique_bad_fr)"
   ]
  },
  {
   "cell_type": "markdown",
   "metadata": {},
   "source": [
    "<hr><hr>"
   ]
  },
  {
   "cell_type": "code",
   "execution_count": 21,
   "metadata": {},
   "outputs": [],
   "source": [
    "nan_fr, nan_bp, nan_ax = np.where(np.isnan(bp))\n",
    "inf_fr, inf_bp, inf_ax = np.where(np.isinf(bp))"
   ]
  },
  {
   "cell_type": "code",
   "execution_count": 32,
   "metadata": {},
   "outputs": [],
   "source": [
    "good_fr, good_ax = np.where(~np.isnan(bp[:,config['bp_center'],0:2]))\n",
    "good_unique_fr = np.unique(good_fr)"
   ]
  },
  {
   "cell_type": "code",
   "execution_count": 31,
   "metadata": {},
   "outputs": [
    {
     "data": {
      "text/plain": [
       "array([   4991,    4992,    4993, ..., 1869436, 1869437, 1869438])"
      ]
     },
     "execution_count": 31,
     "metadata": {},
     "output_type": "execute_result"
    }
   ],
   "source": [
    "\n",
    "bp[good_unique_fr,:,0:2] -= bp[good_unique_fr,config['bp_center'],0:2][:,np.newaxis,:]"
   ]
  },
  {
   "cell_type": "code",
   "execution_count": 35,
   "metadata": {},
   "outputs": [
    {
     "data": {
      "text/plain": [
       "(array([], dtype=int64), array([], dtype=int64))"
      ]
     },
     "execution_count": 35,
     "metadata": {},
     "output_type": "execute_result"
    }
   ],
   "source": [
    "np.where(np.isnan(bp[good_unique_fr,config['bp_center'],0:2]))"
   ]
  },
  {
   "cell_type": "markdown",
   "metadata": {},
   "source": [
    "<hr><hr>"
   ]
  },
  {
   "cell_type": "code",
   "execution_count": 54,
   "metadata": {},
   "outputs": [],
   "source": [
    "num_fr,_,_ = bp.shape\n",
    "DLC_data = np.copy(bp)\n"
   ]
  },
  {
   "cell_type": "code",
   "execution_count": 71,
   "metadata": {},
   "outputs": [
    {
     "name": "stdout",
     "output_type": "stream",
     "text": [
      "[[[ 75.1   97.5    1.  ]\n",
      "  [ 75.44  87.06   1.  ]\n",
      "  [ 81.56  65.9    1.  ]\n",
      "  ...\n",
      "  [ 64.25  46.03   1.  ]\n",
      "  [ 68.6   62.5    1.  ]\n",
      "  [ 77.7   66.56   1.  ]]\n",
      "\n",
      " [[ 76.8   92.9    1.  ]\n",
      "  [ 73.2   83.5    1.  ]\n",
      "  [ 79.5   60.66   1.  ]\n",
      "  ...\n",
      "  [ 64.9   33.16   1.  ]\n",
      "  [ 68.25  56.06   1.  ]\n",
      "  [ 78.1   61.47   1.  ]]\n",
      "\n",
      " [[ 75.5   92.     1.  ]\n",
      "  [ 72.6   85.1    1.  ]\n",
      "  [ 76.25  60.72   1.  ]\n",
      "  ...\n",
      "  [ 63.06  34.     1.  ]\n",
      "  [ 65.56  55.56   1.  ]\n",
      "  [ 75.    61.72   1.  ]]\n",
      "\n",
      " ...\n",
      "\n",
      " [[ 55.94  73.9    1.  ]\n",
      "  [ 63.5   74.25   1.  ]\n",
      "  [ 81.75  76.25   1.  ]\n",
      "  ...\n",
      "  [102.    59.34   1.  ]\n",
      "  [ 91.25  67.3    1.  ]\n",
      "  [ 82.94  72.06   1.  ]]\n",
      "\n",
      " [[ 57.22  74.94   1.  ]\n",
      "  [ 64.6   70.8    1.  ]\n",
      "  [ 83.1   75.75   1.  ]\n",
      "  ...\n",
      "  [102.7   59.34   1.  ]\n",
      "  [ 92.6   67.6    1.  ]\n",
      "  [ 84.44  72.56   1.  ]]\n",
      "\n",
      " [[ 55.2   75.06   1.  ]\n",
      "  [ 62.34  75.1    1.  ]\n",
      "  [ 80.8   75.8    1.  ]\n",
      "  ...\n",
      "  [103.75  58.84   1.  ]\n",
      "  [ 90.75  66.3    1.  ]\n",
      "  [ 82.    71.2    1.  ]]]\n"
     ]
    }
   ],
   "source": [
    "print(DLC_data)\n",
    "bp_axis = DLC_data[:,config['bp_scale'],0:2]\n",
    "bad_fr, bad_bp, bad_ax = np.where(np.isnan(bp_axis))\n",
    "unique_bad_fr = np.unique(bad_fr)\n",
    "\n",
    "good_idx = np.array([True]*num_fr)\n",
    "good_idx[unique_bad_fr] = False\n",
    "good_bp_axis = bp_axis[good_idx,:,:]\n",
    "\n",
    "x_d = good_bp_axis[0,0] - good_bp_axis[1,0]\n",
    "y_d = good_bp_axis[0,1] - good_bp_axis[1,1]\n",
    "dist = np.sqrt(x_d**2+y_d**2)\n",
    "scale_factor = np.median(dist)\n",
    "DLC_data[:,:,0:2] /= scale_factor"
   ]
  },
  {
   "cell_type": "code",
   "execution_count": 72,
   "metadata": {},
   "outputs": [
    {
     "data": {
      "text/plain": [
       "array([[[16.03 , 20.8  ,  1.   ],\n",
       "        [16.1  , 18.58 ,  1.   ],\n",
       "        [17.4  , 14.055,  1.   ],\n",
       "        ...,\n",
       "        [13.7  ,  9.82 ,  1.   ],\n",
       "        [14.64 , 13.336,  1.   ],\n",
       "        [16.58 , 14.2  ,  1.   ]],\n",
       "\n",
       "       [[16.39 , 19.81 ,  1.   ],\n",
       "        [15.62 , 17.81 ,  1.   ],\n",
       "        [16.95 , 12.94 ,  1.   ],\n",
       "        ...,\n",
       "        [13.84 ,  7.074,  1.   ],\n",
       "        [14.56 , 11.96 ,  1.   ],\n",
       "        [16.67 , 13.12 ,  1.   ]],\n",
       "\n",
       "       [[16.11 , 19.62 ,  1.   ],\n",
       "        [15.49 , 18.16 ,  1.   ],\n",
       "        [16.27 , 12.95 ,  1.   ],\n",
       "        ...,\n",
       "        [13.45 ,  7.254,  1.   ],\n",
       "        [13.984, 11.85 ,  1.   ],\n",
       "        [16.   , 13.164,  1.   ]],\n",
       "\n",
       "       ...,\n",
       "\n",
       "       [[11.93 , 15.76 ,  1.   ],\n",
       "        [13.55 , 15.84 ,  1.   ],\n",
       "        [17.44 , 16.27 ,  1.   ],\n",
       "        ...,\n",
       "        [21.77 , 12.66 ,  1.   ],\n",
       "        [19.47 , 14.36 ,  1.   ],\n",
       "        [17.69 , 15.375,  1.   ]],\n",
       "\n",
       "       [[12.2  , 15.984,  1.   ],\n",
       "        [13.79 , 15.11 ,  1.   ],\n",
       "        [17.73 , 16.16 ,  1.   ],\n",
       "        ...,\n",
       "        [21.9  , 12.66 ,  1.   ],\n",
       "        [19.77 , 14.43 ,  1.   ],\n",
       "        [18.02 , 15.48 ,  1.   ]],\n",
       "\n",
       "       [[11.77 , 16.02 ,  1.   ],\n",
       "        [13.3  , 16.03 ,  1.   ],\n",
       "        [17.23 , 16.17 ,  1.   ],\n",
       "        ...,\n",
       "        [22.14 , 12.555,  1.   ],\n",
       "        [19.36 , 14.15 ,  1.   ],\n",
       "        [17.5  , 15.19 ,  1.   ]]], dtype=float16)"
      ]
     },
     "execution_count": 72,
     "metadata": {},
     "output_type": "execute_result"
    }
   ],
   "source": [
    "DLC_data"
   ]
  },
  {
   "cell_type": "code",
   "execution_count": 64,
   "metadata": {},
   "outputs": [],
   "source": []
  },
  {
   "cell_type": "code",
   "execution_count": 70,
   "metadata": {},
   "outputs": [
    {
     "data": {
      "text/plain": [
       "(array([], dtype=int64),)"
      ]
     },
     "execution_count": 70,
     "metadata": {},
     "output_type": "execute_result"
    }
   ],
   "source": [
    "\n",
    "np.where(np.isnan(dist))\n"
   ]
  },
  {
   "cell_type": "code",
   "execution_count": null,
   "metadata": {},
   "outputs": [],
   "source": []
  }
 ],
 "metadata": {
  "kernelspec": {
   "display_name": "notebook_analysis",
   "language": "python",
   "name": "notebook_analysis"
  },
  "language_info": {
   "codemirror_mode": {
    "name": "ipython",
    "version": 3
   },
   "file_extension": ".py",
   "mimetype": "text/x-python",
   "name": "python",
   "nbconvert_exporter": "python",
   "pygments_lexer": "ipython3",
   "version": "3.7.3"
  }
 },
 "nbformat": 4,
 "nbformat_minor": 4
}
