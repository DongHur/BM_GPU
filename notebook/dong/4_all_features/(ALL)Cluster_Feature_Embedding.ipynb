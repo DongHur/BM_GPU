{
 "cells": [
  {
   "cell_type": "markdown",
   "metadata": {},
   "source": [
    "# Import Data"
   ]
  },
  {
   "cell_type": "code",
   "execution_count": 1,
   "metadata": {},
   "outputs": [],
   "source": [
    "PROJECT_PATH = \"/Users/donghur/Desktop/Research/Murthy/BM_GPU\"\n",
    "PROJECT_PATH_BMGPU = \"/Users/donghur/Desktop/Research/Murthy/BM_GPU\""
   ]
  },
  {
   "cell_type": "code",
   "execution_count": 2,
   "metadata": {},
   "outputs": [],
   "source": [
    "import sys, os, random, matplotlib, pickle, yaml, hdbscan\n",
    "import numpy as np\n",
    "from sklearn.utils import shuffle\n",
    "import seaborn as sns\n",
    "from tqdm.notebook import tqdm\n",
    "import matplotlib.pyplot as plt\n",
    "from glob2 import glob\n",
    "\n",
    "sys.path.append(PROJECT_PATH)\n",
    "sys.path.append(PROJECT_PATH_BMGPU)\n",
    "\n",
    "from utils.data import Dataset\n",
    "from utils.figure import plot_HDBSCAN\n",
    "from cluster import HDBSCAN\n",
    "%load_ext autoreload\n",
    "%autoreload 1\n",
    "%aimport helper\n",
    "%aimport utils.data\n",
    "%aimport utils.figure"
   ]
  },
  {
   "cell_type": "code",
   "execution_count": 3,
   "metadata": {},
   "outputs": [
    {
     "name": "stdout",
     "output_type": "stream",
     "text": [
      "Loading config.yaml ...\n",
      "Finished loading config\n",
      "Loading INFO.yaml ...\n"
     ]
    },
    {
     "name": "stderr",
     "output_type": "stream",
     "text": [
      "  1%|▏         | 2/141 [00:00<00:07, 17.71it/s]"
     ]
    },
    {
     "name": "stdout",
     "output_type": "stream",
     "text": [
      "Finished loading INFO\n"
     ]
    },
    {
     "name": "stderr",
     "output_type": "stream",
     "text": [
      "100%|██████████| 141/141 [00:31<00:00,  4.52it/s]\n"
     ]
    }
   ],
   "source": [
    "config_path = f\"{PROJECT_PATH_BMGPU}/config_ant.yaml\"\n",
    "Data = Dataset(PROJECT_PATH, config_path)\n",
    "Data.load_data()\n",
    "\n",
    "# configuration\n",
    "INFO = Data.info\n",
    "INFO_values = Data.info_values\n",
    "config = Data.config\n",
    "skeleton = config['skeleton']\n",
    "skeleton_color= config['skeleton_color']\n",
    "\n",
    "# features\n",
    "bp = Data.data_obj['bodypoints']\n",
    "rot_bp = Data.data_obj['rotated_bodypoints']\n",
    "angles = Data.data_obj['angles']\n",
    "limbs = Data.data_obj['limbs']\n",
    "angle_power = Data.data_obj['angle_power']\n",
    "limb_power = Data.data_obj['limb_power']\n",
    "\n",
    "# embeddings\n",
    "all_embed = Data.data_obj['all_embeddings']\n",
    "all_postural_embed = Data.data_obj['all_postural_embeddings']\n",
    "all_kinematic_embed = Data.data_obj['all_kinematic_embeddings']\n",
    "angle_kinematic_embed = Data.data_obj['angle_kinematic_embeddings']"
   ]
  },
  {
   "cell_type": "markdown",
   "metadata": {},
   "source": [
    "# Find Undefined Frames"
   ]
  },
  {
   "cell_type": "code",
   "execution_count": 4,
   "metadata": {},
   "outputs": [],
   "source": [
    "bp_nan_fr = np.unique( np.where(np.isnan(bp))[0] )\n",
    "angles_nan_fr = np.unique( np.where(np.isnan(angles))[0] )\n",
    "limbs_nan_fr = np.unique( np.where(np.isnan(limbs))[0] )"
   ]
  },
  {
   "cell_type": "code",
   "execution_count": 5,
   "metadata": {},
   "outputs": [],
   "source": [
    "angle_power_nan_fr = np.unique( np.where(np.isnan(angle_power))[0] )\n",
    "limb_power_nan_fr = np.unique( np.where(np.isnan(limb_power))[0] )"
   ]
  },
  {
   "cell_type": "code",
   "execution_count": 7,
   "metadata": {},
   "outputs": [],
   "source": [
    "from helper import locate_bad_fr"
   ]
  },
  {
   "cell_type": "code",
   "execution_count": 8,
   "metadata": {},
   "outputs": [
    {
     "data": {
      "application/vnd.jupyter.widget-view+json": {
       "model_id": "a745e0fe06944e8d8514cc14d0f0a81b",
       "version_major": 2,
       "version_minor": 0
      },
      "text/plain": [
       "HBox(children=(HTML(value=''), FloatProgress(value=0.0, max=141.0), HTML(value='')))"
      ]
     },
     "metadata": {},
     "output_type": "display_data"
    },
    {
     "name": "stdout",
     "output_type": "stream",
     "text": [
      "\n"
     ]
    }
   ],
   "source": [
    "INFO_items = list(INFO.items())\n",
    "INFO_items.sort(key=lambda x: x[1]['order'])\n",
    "start_fr = 0   \n",
    "test = []\n",
    "for key, file in tqdm(INFO_items):\n",
    "    save_path = file['directory']\n",
    "    bp = np.load(f\"{PROJECT_PATH}/{save_path}/rotated_bodypoints.npy\")\n",
    "    num_fr, _, _ = bp.shape\n",
    "    # locate the good frames\n",
    "    good_fr, bad_fr, disregard_fr = locate_bad_fr(config, bp)\n",
    "    num_good_fr = len(good_fr)\n",
    "    start_fr += num_good_fr"
   ]
  },
  {
   "cell_type": "code",
   "execution_count": 11,
   "metadata": {},
   "outputs": [
    {
     "data": {
      "text/plain": [
       "563273"
      ]
     },
     "execution_count": 11,
     "metadata": {},
     "output_type": "execute_result"
    }
   ],
   "source": [
    "start_fr-num_good_fr"
   ]
  },
  {
   "cell_type": "code",
   "execution_count": 13,
   "metadata": {},
   "outputs": [
    {
     "data": {
      "text/plain": [
       "559988"
      ]
     },
     "execution_count": 13,
     "metadata": {},
     "output_type": "execute_result"
    }
   ],
   "source": [
    "tot_good_fr, tot_bad_fr, tot_disregard_fr = locate_bad_fr(config, rot_bp)\n",
    "len(tot_good_fr)"
   ]
  },
  {
   "cell_type": "code",
   "execution_count": 25,
   "metadata": {},
   "outputs": [
    {
     "data": {
      "application/vnd.jupyter.widget-view+json": {
       "model_id": "61b17a16374744e581f25402069c9cd3",
       "version_major": 2,
       "version_minor": 0
      },
      "text/plain": [
       "HBox(children=(HTML(value=''), FloatProgress(value=0.0, max=141.0), HTML(value='')))"
      ]
     },
     "metadata": {},
     "output_type": "display_data"
    },
    {
     "name": "stdout",
     "output_type": "stream",
     "text": [
      "\n"
     ]
    }
   ],
   "source": [
    "good_fr_count = 0   \n",
    "for key, file in tqdm(INFO_items):\n",
    "    start_fr, stop_fr = file[\"global_start_fr\"], file[\"global_stop_fr\"]\n",
    "    good_fr, bad_fr, disregard_fr = locate_bad_fr(config, rot_bp[start_fr:stop_fr])\n",
    "    num_good_fr = len(good_fr)\n",
    "    good_fr_count += num_good_fr"
   ]
  },
  {
   "cell_type": "code",
   "execution_count": 26,
   "metadata": {},
   "outputs": [
    {
     "data": {
      "text/plain": [
       "563668"
      ]
     },
     "execution_count": 26,
     "metadata": {},
     "output_type": "execute_result"
    }
   ],
   "source": [
    "good_fr_count"
   ]
  },
  {
   "cell_type": "code",
   "execution_count": 36,
   "metadata": {
    "scrolled": true
   },
   "outputs": [
    {
     "data": {
      "application/vnd.jupyter.widget-view+json": {
       "model_id": "b6730904ee1c4912b4795f600784f823",
       "version_major": 2,
       "version_minor": 0
      },
      "text/plain": [
       "HBox(children=(HTML(value=''), FloatProgress(value=0.0, max=141.0), HTML(value='')))"
      ]
     },
     "metadata": {},
     "output_type": "display_data"
    },
    {
     "name": "stdout",
     "output_type": "stream",
     "text": [
      "\n"
     ]
    }
   ],
   "source": [
    "\n",
    "\n",
    "    \n"
   ]
  },
  {
   "cell_type": "code",
   "execution_count": 37,
   "metadata": {},
   "outputs": [],
   "source": [
    "tot_good_fr= np.concatenate(tot_good_fr)"
   ]
  },
  {
   "cell_type": "code",
   "execution_count": 38,
   "metadata": {},
   "outputs": [
    {
     "name": "stdout",
     "output_type": "stream",
     "text": [
      "563668\n",
      "(563668,)\n",
      "(563668,)\n"
     ]
    }
   ],
   "source": [
    "print(good_fr_count)\n",
    "print(tot_good_fr.shape)\n",
    "print(np.unique(tot_good_fr).shape)"
   ]
  },
  {
   "cell_type": "code",
   "execution_count": null,
   "metadata": {},
   "outputs": [],
   "source": []
  },
  {
   "cell_type": "markdown",
   "metadata": {
    "heading_collapsed": "true"
   },
   "source": [
    "# Analysis"
   ]
  },
  {
   "cell_type": "code",
   "execution_count": null,
   "metadata": {},
   "outputs": [],
   "source": [
    "# Figure Information\n",
    "max_freq_idx = np.argmax(angle_power[:,:,:], axis=1)\n",
    "max_freq = freq[max_freq_idx]\n",
    "num_freq = len(freq)\n",
    "\n",
    "# Freq Color Scheme\n",
    "freq_color_palette = sns.color_palette('mako_r', num_freq)\n",
    "cmap1, norm1 = colors.from_levels_and_colors(freq, freq_color_palette, extend=\"max\")\n",
    "\n",
    "# Figures\n",
    "fig, ax = plt.subplots(3,4, figsize=(20,15))\n",
    "for angle_idx in tqdm(range(12)):\n",
    "    fig_title = f\"{config['angle_labels'][angle_idx]} Frequency\"\n",
    "    freq_cluster_colors = np.array([freq_color_palette[f] for f in max_freq_idx[:,angle_idx]])\n",
    "\n",
    "    ax[angle_idx%3, angle_idx//3].scatter(all_embed[:,0], all_embed[:,1], color=freq_cluster_colors, alpha=0.005, s=1.5)  \n",
    "    ax[angle_idx%3, angle_idx//3].set(xlabel='Component 1', ylabel='Component 2', title=fig_title, xlim=region_x_lim, ylim=region_y_lim)\n",
    "\n",
    "plt.show()"
   ]
  },
  {
   "cell_type": "code",
   "execution_count": null,
   "metadata": {},
   "outputs": [],
   "source": [
    "max_freq, min_freq = config['fps']/2, 1 # Nyquist Frequency\n",
    "freq = max_freq*2**(-1*np.log2(max_freq/min_freq)*\n",
    "    (np.arange(config['f_bin'],0,-1)-1)/(config['f_bin']-1))"
   ]
  },
  {
   "cell_type": "code",
   "execution_count": null,
   "metadata": {},
   "outputs": [],
   "source": [
    "# Figure Information\n",
    "max_freq_idx = np.argmax(angle_power[:,:,:], axis=1)\n",
    "max_freq = freq[max_freq_idx]\n",
    "num_freq = len(freq)\n",
    "\n",
    "# Freq Color Scheme\n",
    "freq_color_palette = sns.color_palette('mako_r', num_freq)\n",
    "cmap1, norm1 = colors.from_levels_and_colors(freq, freq_color_palette, extend=\"max\")\n",
    "\n",
    "# Figures\n",
    "fig, ax = plt.subplots(3,4, figsize=(28,21))\n",
    "for angle_idx in tqdm(range(12)):\n",
    "    fig_title = f\"{config['angle_labels'][angle_idx]} Frequency\"\n",
    "    freq_cluster_colors = np.array([freq_color_palette[f] for f in max_freq_idx[:,angle_idx]])\n",
    "\n",
    "    ax[angle_idx%3, angle_idx//3].scatter(all_embed[:,0], all_embed[:,1], color=freq_cluster_colors, alpha=0.005, s=0.5)  \n",
    "    ax[angle_idx%3, angle_idx//3].set(xlabel='Component 1', ylabel='Component 2', title=fig_title, xlim=region_x_lim, ylim=region_y_lim)\n",
    "\n",
    "plt.show()"
   ]
  },
  {
   "cell_type": "code",
   "execution_count": null,
   "metadata": {},
   "outputs": [],
   "source": [
    "# Figure Information\n",
    "max_freq_idx = np.argmax(limb_power[:,:,:], axis=1)\n",
    "max_freq = freq[max_freq_idx]\n",
    "num_freq = len(freq)\n",
    "\n",
    "# Freq Color Scheme\n",
    "freq_color_palette = sns.color_palette('mako_r', num_freq)\n",
    "cmap1, norm1 = colors.from_levels_and_colors(freq, freq_color_palette, extend=\"max\")\n",
    "\n",
    "# Figures\n",
    "fig, ax = plt.subplots(3,4, figsize=(28,21))\n",
    "for angle_idx in tqdm(range(12)):\n",
    "    fig_title = f\"{config['angle_labels'][angle_idx]} Frequency\"\n",
    "    freq_cluster_colors = np.array([freq_color_palette[f] for f in max_freq_idx[:,angle_idx]])\n",
    "\n",
    "    ax[angle_idx%3, angle_idx//3].scatter(all_embed[:,0], all_embed[:,1], color=freq_cluster_colors, alpha=0.005, s=0.5)  \n",
    "    ax[angle_idx%3, angle_idx//3].set(xlabel='Component 1', ylabel='Component 2', title=fig_title, xlim=region_x_lim, ylim=region_y_lim)\n",
    "plt.show()"
   ]
  }
 ],
 "metadata": {
  "kernelspec": {
   "display_name": "Python 3",
   "language": "python",
   "name": "python3"
  },
  "language_info": {
   "codemirror_mode": {
    "name": "ipython",
    "version": 3
   },
   "file_extension": ".py",
   "mimetype": "text/x-python",
   "name": "python",
   "nbconvert_exporter": "python",
   "pygments_lexer": "ipython3",
   "version": "3.7.3"
  }
 },
 "nbformat": 4,
 "nbformat_minor": 4
}
