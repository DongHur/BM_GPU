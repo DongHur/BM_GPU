{
 "cells": [
  {
   "cell_type": "markdown",
   "metadata": {},
   "source": [
    "# Import Data"
   ]
  },
  {
   "cell_type": "code",
   "execution_count": 1,
   "metadata": {},
   "outputs": [],
   "source": [
    "PROJECT_PATH = \"/Users/donghur/Desktop/Research/Murthy/BM_GPU\"\n",
    "PROJECT_PATH_BMGPU = \"/Users/donghur/Desktop/Research/Murthy/BM_GPU\""
   ]
  },
  {
   "cell_type": "code",
   "execution_count": 2,
   "metadata": {},
   "outputs": [],
   "source": [
    "import sys, os, random, matplotlib, pickle, yaml, hdbscan\n",
    "import numpy as np\n",
    "from sklearn.utils import shuffle\n",
    "import seaborn as sns\n",
    "from tqdm.notebook import tqdm\n",
    "import matplotlib.pyplot as plt\n",
    "from glob2 import glob\n",
    "\n",
    "sys.path.append(PROJECT_PATH)\n",
    "sys.path.append(PROJECT_PATH_BMGPU)\n",
    "\n",
    "from utils.data import Dataset\n",
    "from utils.figure import plot_HDBSCAN\n",
    "from cluster import HDBSCAN\n",
    "%load_ext autoreload\n",
    "%autoreload 1\n",
    "%aimport helper\n",
    "%aimport utils.data\n",
    "%aimport utils.figure"
   ]
  },
  {
   "cell_type": "code",
   "execution_count": 22,
   "metadata": {},
   "outputs": [
    {
     "name": "stdout",
     "output_type": "stream",
     "text": [
      "Loading config.yaml ...\n",
      "Finished loading config\n",
      "Loading INFO.yaml ...\n"
     ]
    },
    {
     "name": "stderr",
     "output_type": "stream",
     "text": [
      "  1%|▏         | 2/141 [00:00<00:10, 13.23it/s]"
     ]
    },
    {
     "name": "stdout",
     "output_type": "stream",
     "text": [
      "Finished loading INFO\n"
     ]
    },
    {
     "name": "stderr",
     "output_type": "stream",
     "text": [
      "100%|██████████| 141/141 [00:37<00:00,  3.74it/s]\n"
     ]
    },
    {
     "name": "stdout",
     "output_type": "stream",
     "text": [
      "bodypoints\n",
      "scaled_bodypoints\n",
      "rotated_bodypoints\n",
      "angles\n",
      "limbs\n",
      "angle_power\n",
      "limb_power\n",
      "all_embeddings\n",
      "all_postural_embeddings\n",
      "all_kinematic_embeddings\n",
      "cluster\n"
     ]
    }
   ],
   "source": [
    "config_path = f\"{PROJECT_PATH_BMGPU}/config_ant.yaml\"\n",
    "Data = Dataset(PROJECT_PATH, config_path)\n",
    "Data.load_data()\n",
    "\n",
    "# configuration\n",
    "INFO = Data.info\n",
    "INFO_values = Data.info_values\n",
    "config = Data.config\n",
    "skeleton = config['skeleton']\n",
    "skeleton_color= config['skeleton_color']\n",
    "\n",
    "# features\n",
    "bp = Data.data_obj['bodypoints']\n",
    "rot_bp = Data.data_obj['rotated_bodypoints']\n",
    "angles = Data.data_obj['angles']\n",
    "limbs = Data.data_obj['limbs']\n",
    "angle_power = Data.data_obj['angle_power']\n",
    "limb_power = Data.data_obj['limb_power']\n",
    "\n",
    "# embeddings\n",
    "all_embed = Data.data_obj['all_embeddings']\n",
    "all_postural_embed = Data.data_obj['all_postural_embeddings']\n",
    "all_kinematic_embed = Data.data_obj['all_kinematic_embeddings']\n",
    "angle_kinematic_embed = Data.data_obj['angle_kinematic_embeddings']"
   ]
  },
  {
   "cell_type": "markdown",
   "metadata": {},
   "source": [
    "# Find Undefined Frames"
   ]
  },
  {
   "cell_type": "code",
   "execution_count": 30,
   "metadata": {},
   "outputs": [],
   "source": [
    "bp_nan_fr = np.unique( np.where(np.isnan(bp))[0] )\n",
    "angles_nan_fr = np.unique( np.where(np.isnan(angles))[0] )\n",
    "limbs_nan_fr = np.unique( np.where(np.isnan(limbs))[0] )"
   ]
  },
  {
   "cell_type": "code",
   "execution_count": 32,
   "metadata": {},
   "outputs": [],
   "source": [
    "angle_power_nan_fr = np.unique( np.where(np.isnan(angle_power))[0] )\n",
    "limb_power_nan_fr = np.unique( np.where(np.isnan(limb_power))[0] )"
   ]
  },
  {
   "cell_type": "code",
   "execution_count": 34,
   "metadata": {},
   "outputs": [
    {
     "data": {
      "text/plain": [
       "662609"
      ]
     },
     "execution_count": 34,
     "metadata": {},
     "output_type": "execute_result"
    }
   ],
   "source": [
    "len(limb_power_nan_fr)"
   ]
  },
  {
   "cell_type": "code",
   "execution_count": null,
   "metadata": {},
   "outputs": [],
   "source": []
  },
  {
   "cell_type": "code",
   "execution_count": null,
   "metadata": {},
   "outputs": [],
   "source": []
  },
  {
   "cell_type": "markdown",
   "metadata": {
    "heading_collapsed": "true"
   },
   "source": [
    "# Analysis"
   ]
  },
  {
   "cell_type": "code",
   "execution_count": null,
   "metadata": {},
   "outputs": [],
   "source": [
    "# Figure Information\n",
    "max_freq_idx = np.argmax(angle_power[:,:,:], axis=1)\n",
    "max_freq = freq[max_freq_idx]\n",
    "num_freq = len(freq)\n",
    "\n",
    "# Freq Color Scheme\n",
    "freq_color_palette = sns.color_palette('mako_r', num_freq)\n",
    "cmap1, norm1 = colors.from_levels_and_colors(freq, freq_color_palette, extend=\"max\")\n",
    "\n",
    "# Figures\n",
    "fig, ax = plt.subplots(3,4, figsize=(20,15))\n",
    "for angle_idx in tqdm(range(12)):\n",
    "    fig_title = f\"{config['angle_labels'][angle_idx]} Frequency\"\n",
    "    freq_cluster_colors = np.array([freq_color_palette[f] for f in max_freq_idx[:,angle_idx]])\n",
    "\n",
    "    ax[angle_idx%3, angle_idx//3].scatter(all_embed[:,0], all_embed[:,1], color=freq_cluster_colors, alpha=0.005, s=1.5)  \n",
    "    ax[angle_idx%3, angle_idx//3].set(xlabel='Component 1', ylabel='Component 2', title=fig_title, xlim=region_x_lim, ylim=region_y_lim)\n",
    "\n",
    "plt.show()"
   ]
  },
  {
   "cell_type": "code",
   "execution_count": null,
   "metadata": {},
   "outputs": [],
   "source": [
    "max_freq, min_freq = config['fps']/2, 1 # Nyquist Frequency\n",
    "freq = max_freq*2**(-1*np.log2(max_freq/min_freq)*\n",
    "    (np.arange(config['f_bin'],0,-1)-1)/(config['f_bin']-1))"
   ]
  },
  {
   "cell_type": "code",
   "execution_count": null,
   "metadata": {},
   "outputs": [],
   "source": [
    "# Figure Information\n",
    "max_freq_idx = np.argmax(angle_power[:,:,:], axis=1)\n",
    "max_freq = freq[max_freq_idx]\n",
    "num_freq = len(freq)\n",
    "\n",
    "# Freq Color Scheme\n",
    "freq_color_palette = sns.color_palette('mako_r', num_freq)\n",
    "cmap1, norm1 = colors.from_levels_and_colors(freq, freq_color_palette, extend=\"max\")\n",
    "\n",
    "# Figures\n",
    "fig, ax = plt.subplots(3,4, figsize=(28,21))\n",
    "for angle_idx in tqdm(range(12)):\n",
    "    fig_title = f\"{config['angle_labels'][angle_idx]} Frequency\"\n",
    "    freq_cluster_colors = np.array([freq_color_palette[f] for f in max_freq_idx[:,angle_idx]])\n",
    "\n",
    "    ax[angle_idx%3, angle_idx//3].scatter(all_embed[:,0], all_embed[:,1], color=freq_cluster_colors, alpha=0.005, s=0.5)  \n",
    "    ax[angle_idx%3, angle_idx//3].set(xlabel='Component 1', ylabel='Component 2', title=fig_title, xlim=region_x_lim, ylim=region_y_lim)\n",
    "\n",
    "plt.show()"
   ]
  },
  {
   "cell_type": "code",
   "execution_count": null,
   "metadata": {},
   "outputs": [],
   "source": [
    "# Figure Information\n",
    "max_freq_idx = np.argmax(limb_power[:,:,:], axis=1)\n",
    "max_freq = freq[max_freq_idx]\n",
    "num_freq = len(freq)\n",
    "\n",
    "# Freq Color Scheme\n",
    "freq_color_palette = sns.color_palette('mako_r', num_freq)\n",
    "cmap1, norm1 = colors.from_levels_and_colors(freq, freq_color_palette, extend=\"max\")\n",
    "\n",
    "# Figures\n",
    "fig, ax = plt.subplots(3,4, figsize=(28,21))\n",
    "for angle_idx in tqdm(range(12)):\n",
    "    fig_title = f\"{config['angle_labels'][angle_idx]} Frequency\"\n",
    "    freq_cluster_colors = np.array([freq_color_palette[f] for f in max_freq_idx[:,angle_idx]])\n",
    "\n",
    "    ax[angle_idx%3, angle_idx//3].scatter(all_embed[:,0], all_embed[:,1], color=freq_cluster_colors, alpha=0.005, s=0.5)  \n",
    "    ax[angle_idx%3, angle_idx//3].set(xlabel='Component 1', ylabel='Component 2', title=fig_title, xlim=region_x_lim, ylim=region_y_lim)\n",
    "plt.show()"
   ]
  }
 ],
 "metadata": {
  "kernelspec": {
   "display_name": "Python 3",
   "language": "python",
   "name": "python3"
  },
  "language_info": {
   "codemirror_mode": {
    "name": "ipython",
    "version": 3
   },
   "file_extension": ".py",
   "mimetype": "text/x-python",
   "name": "python",
   "nbconvert_exporter": "python",
   "pygments_lexer": "ipython3",
   "version": "3.7.3"
  }
 },
 "nbformat": 4,
 "nbformat_minor": 4
}
