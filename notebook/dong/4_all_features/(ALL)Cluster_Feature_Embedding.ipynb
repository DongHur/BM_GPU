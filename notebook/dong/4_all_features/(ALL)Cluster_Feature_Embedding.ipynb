{
 "cells": [
  {
   "cell_type": "code",
   "execution_count": 1,
   "metadata": {},
   "outputs": [],
   "source": [
    "import os, random, matplotlib, pickle, yaml, hdbscan\n",
    "import numpy as np\n",
    "from sklearn.utils import shuffle\n",
    "import seaborn as sns\n",
    "from tqdm.notebook import tqdm\n",
    "import matplotlib.pyplot as plt\n",
    "import matplotlib.colors as colors\n",
    "import matplotlib as mpl\n",
    "from matplotlib.ticker import FormatStrFormatter\n",
    "from matplotlib.colors import ListedColormap\n",
    "from glob2 import glob"
   ]
  },
  {
   "cell_type": "code",
   "execution_count": 2,
   "metadata": {},
   "outputs": [],
   "source": [
    "skeleton = [\n",
    "    [0,1,2,3],\n",
    "    [4,5,6,7],\n",
    "    [8,9,10],\n",
    "    [11,12,13],\n",
    "    [14,15,16],\n",
    "    [17,18,19,20],\n",
    "    [21,22,23],\n",
    "    [24,25,26],\n",
    "    [27,28,29]\n",
    "]\n",
    "skeleton_color=['tab:blue','tab:orange','tab:green','tab:red','tab:purple','tab:brown','tab:pink','tab:gray','tab:olive', 'tab:cyan']"
   ]
  },
  {
   "cell_type": "code",
   "execution_count": 3,
   "metadata": {},
   "outputs": [],
   "source": [
    "result_path = \"../results/round3\"\n",
    "with open(f\"{result_path}/INFO.yaml\") as f:\n",
    "    INFO = yaml.load(f, Loader=yaml.FullLoader)\n",
    "    INFO_values = list(INFO.values())\n",
    "    INFO_values.sort(key=lambda x: x['order'])"
   ]
  },
  {
   "cell_type": "code",
   "execution_count": null,
   "metadata": {},
   "outputs": [],
   "source": [
    "config_path = \"..\"\n",
    "with open(f\"{config_path}/config.yaml\") as f:\n",
    "    config = yaml.load(f, Loader=yaml.FullLoader)"
   ]
  },
  {
   "cell_type": "code",
   "execution_count": null,
   "metadata": {},
   "outputs": [],
   "source": [
    "root_path = \"..\"\n",
    "rot_bp, angles, limbs = [], [], []\n",
    "angle_power, limb_power = [], []\n",
    "all_embed = []\n",
    "all_postural_embed, marker_postural_embed, angle_postural_embed, limb_postural_embed = [], [], [], []\n",
    "all_kinematic_embed, marker_kinematic_embed, limb_kinematic_embed, angle_kinematic_embed = [], [], [], []\n",
    "\n",
    "for file in tqdm(INFO_values):\n",
    "    rot_bp.append( np.load(f\"{root_path}/{file['directory']}/rotated_bodypoints.npy\") )\n",
    "    angles.append( np.load(f\"{root_path}/{file['directory']}/angles.npy\") )\n",
    "    limbs.append( np.load(f\"{root_path}/{file['directory']}/limbs.npy\") )\n",
    "    angle_power.append( np.load(f\"{root_path}/{file['directory']}/angle_power.npy\") )\n",
    "    limb_power.append( np.load(f\"{root_path}/{file['directory']}/limb_power.npy\") )\n",
    "    \n",
    "    all_embed.append( np.load(f\"{root_path}/{file['directory']}/all_embeddings.npy\") )\n",
    "    \n",
    "    all_postural_embed.append( np.load(f\"{root_path}/{file['directory']}/all_postural_embeddings.npy\") )\n",
    "#     marker_postural_embed.append( np.load(f\"{root_path}/{file['directory']}/marker_postural_embeddings.npy\") )\n",
    "#     angle_postural_embed.append( np.load(f\"{root_path}/{file['directory']}/angle_postural_embeddings.npy\") )\n",
    "#     limb_postural_embed.append( np.load(f\"{root_path}/{file['directory']}/limb_postural_embeddings.npy\") )\n",
    "    \n",
    "    all_kinematic_embed.append( np.load(f\"{root_path}/{file['directory']}/all_kinematic_embeddings.npy\") )\n",
    "#     marker_kinematic_embed.append( np.load(f\"{root_path}/{file['directory']}/marker_kinematic_embeddings.npy\") )\n",
    "#     limb_kinematic_embed.append( np.load(f\"{root_path}/{file['directory']}/marker_limb_embeddings.npy\") )\n",
    "#     angle_kinematic_embed.append( np.load(f\"{root_path}/{file['directory']}/marker_angle_embeddings.npy\") )\n",
    "    \n",
    "rot_bp = np.concatenate(rot_bp)\n",
    "angles = np.concatenate(angles)\n",
    "limbs = np.concatenate(limbs)\n",
    "angle_power = np.concatenate(angle_power)\n",
    "limb_power = np.concatenate(limb_power)\n",
    "\n",
    "all_embed = np.concatenate(all_embed)\n",
    "\n",
    "all_postural_embed = np.concatenate(all_postural_embed)\n",
    "# marker_postural_embed = np.concatenate(marker_postural_embed)\n",
    "# angle_postural_embed = np.concatenate(angle_postural_embed)\n",
    "# alllimb_postural_embed_embed = np.concatenate(limb_postural_embed)\n",
    "\n",
    "all_kinematic_embed = np.concatenate(all_kinematic_embed)\n",
    "# marker_kinematic_embed = np.concatenate(marker_kinematic_embed)\n",
    "# limb_kinematic_embed = np.concatenate(limb_kinematic_embed)\n",
    "# angle_kinematic_embed = np.concatenate(angle_kinematic_embed)"
   ]
  },
  {
   "cell_type": "markdown",
   "metadata": {},
   "source": [
    "<hr>\n",
    "<hr>"
   ]
  },
  {
   "cell_type": "code",
   "execution_count": null,
   "metadata": {},
   "outputs": [],
   "source": [
    "# Figure Information\n",
    "max_freq_idx = np.argmax(angle_power[:,:,:], axis=1)\n",
    "max_freq = freq[max_freq_idx]\n",
    "num_freq = len(freq)\n",
    "\n",
    "# Freq Color Scheme\n",
    "freq_color_palette = sns.color_palette('mako_r', num_freq)\n",
    "cmap1, norm1 = colors.from_levels_and_colors(freq, freq_color_palette, extend=\"max\")\n",
    "\n",
    "# Figures\n",
    "fig, ax = plt.subplots(3,4, figsize=(20,15))\n",
    "for angle_idx in tqdm(range(12)):\n",
    "    fig_title = f\"{config['angle_labels'][angle_idx]} Frequency\"\n",
    "    freq_cluster_colors = np.array([freq_color_palette[f] for f in max_freq_idx[:,angle_idx]])\n",
    "\n",
    "    ax[angle_idx%3, angle_idx//3].scatter(all_embed[:,0], all_embed[:,1], color=freq_cluster_colors, alpha=0.005, s=1.5)  \n",
    "    ax[angle_idx%3, angle_idx//3].set(xlabel='Component 1', ylabel='Component 2', title=fig_title, xlim=region_x_lim, ylim=region_y_lim)\n",
    "\n",
    "plt.show()"
   ]
  },
  {
   "cell_type": "code",
   "execution_count": null,
   "metadata": {},
   "outputs": [],
   "source": [
    "max_freq, min_freq = config['fps']/2, 1 # Nyquist Frequency\n",
    "freq = max_freq*2**(-1*np.log2(max_freq/min_freq)*\n",
    "    (np.arange(config['f_bin'],0,-1)-1)/(config['f_bin']-1))"
   ]
  },
  {
   "cell_type": "code",
   "execution_count": null,
   "metadata": {},
   "outputs": [],
   "source": [
    "# Figure Information\n",
    "max_freq_idx = np.argmax(angle_power[:,:,:], axis=1)\n",
    "max_freq = freq[max_freq_idx]\n",
    "num_freq = len(freq)\n",
    "\n",
    "# Freq Color Scheme\n",
    "freq_color_palette = sns.color_palette('mako_r', num_freq)\n",
    "cmap1, norm1 = colors.from_levels_and_colors(freq, freq_color_palette, extend=\"max\")\n",
    "\n",
    "# Figures\n",
    "fig, ax = plt.subplots(3,4, figsize=(28,21))\n",
    "for angle_idx in tqdm(range(12)):\n",
    "    fig_title = f\"{config['angle_labels'][angle_idx]} Frequency\"\n",
    "    freq_cluster_colors = np.array([freq_color_palette[f] for f in max_freq_idx[:,angle_idx]])\n",
    "\n",
    "    ax[angle_idx%3, angle_idx//3].scatter(all_embed[:,0], all_embed[:,1], color=freq_cluster_colors, alpha=0.005, s=0.5)  \n",
    "    ax[angle_idx%3, angle_idx//3].set(xlabel='Component 1', ylabel='Component 2', title=fig_title, xlim=region_x_lim, ylim=region_y_lim)\n",
    "\n",
    "plt.show()"
   ]
  },
  {
   "cell_type": "code",
   "execution_count": null,
   "metadata": {},
   "outputs": [],
   "source": [
    "# Figure Information\n",
    "max_freq_idx = np.argmax(limb_power[:,:,:], axis=1)\n",
    "max_freq = freq[max_freq_idx]\n",
    "num_freq = len(freq)\n",
    "\n",
    "# Freq Color Scheme\n",
    "freq_color_palette = sns.color_palette('mako_r', num_freq)\n",
    "cmap1, norm1 = colors.from_levels_and_colors(freq, freq_color_palette, extend=\"max\")\n",
    "\n",
    "# Figures\n",
    "fig, ax = plt.subplots(3,4, figsize=(28,21))\n",
    "for angle_idx in tqdm(range(12)):\n",
    "    fig_title = f\"{config['angle_labels'][angle_idx]} Frequency\"\n",
    "    freq_cluster_colors = np.array([freq_color_palette[f] for f in max_freq_idx[:,angle_idx]])\n",
    "\n",
    "    ax[angle_idx%3, angle_idx//3].scatter(all_embed[:,0], all_embed[:,1], color=freq_cluster_colors, alpha=0.005, s=0.5)  \n",
    "    ax[angle_idx%3, angle_idx//3].set(xlabel='Component 1', ylabel='Component 2', title=fig_title, xlim=region_x_lim, ylim=region_y_lim)\n",
    "plt.show()"
   ]
  }
 ],
 "metadata": {
  "kernelspec": {
   "display_name": "Python 3",
   "language": "python",
   "name": "python3"
  },
  "language_info": {
   "codemirror_mode": {
    "name": "ipython",
    "version": 3
   },
   "file_extension": ".py",
   "mimetype": "text/x-python",
   "name": "python",
   "nbconvert_exporter": "python",
   "pygments_lexer": "ipython3",
   "version": "3.7.3"
  }
 },
 "nbformat": 4,
 "nbformat_minor": 4
}
