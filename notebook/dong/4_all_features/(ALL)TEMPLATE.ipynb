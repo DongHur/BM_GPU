{
 "cells": [
  {
   "cell_type": "code",
   "execution_count": null,
   "metadata": {},
   "outputs": [],
   "source": [
    "import os, random, matplotlib, pickle, yaml, hdbscan\n",
    "import numpy as np\n",
    "from sklearn.utils import shuffle\n",
    "import seaborn as sns\n",
    "from tqdm.notebook import tqdm\n",
    "import matplotlib.pyplot as plt\n",
    "import matplotlib.colors as colors\n",
    "import matplotlib as mpl\n",
    "from matplotlib.ticker import FormatStrFormatter\n",
    "from matplotlib.colors import ListedColormap\n",
    "from glob2 import glob"
   ]
  },
  {
   "cell_type": "code",
   "execution_count": null,
   "metadata": {},
   "outputs": [],
   "source": [
    "result_path = \"../results/round3\"\n",
    "with open(f\"{result_path}/INFO.yaml\") as f:\n",
    "    INFO = yaml.load(f, Loader=yaml.FullLoader)\n",
    "    INFO_values = list(INFO.values())\n",
    "    INFO_values.sort(key=lambda x: x['order'])"
   ]
  },
  {
   "cell_type": "code",
   "execution_count": null,
   "metadata": {},
   "outputs": [],
   "source": [
    "config_path = \"..\"\n",
    "with open(f\"{config_path}/config.yaml\") as f:\n",
    "    config = yaml.load(f, Loader=yaml.FullLoader)\n",
    "skeleton = config['skeleton']\n",
    "skeleton_color = config['skeleton_color']"
   ]
  },
  {
   "cell_type": "code",
   "execution_count": null,
   "metadata": {},
   "outputs": [],
   "source": [
    "root_path = \"..\"\n",
    "rot_bp, angles, limbs = [], [], []\n",
    "angle_power, limb_power = [], []\n",
    "all_embed = []\n",
    "all_postural_embed, marker_postural_embed, angle_postural_embed, limb_postural_embed = [], [], [], []\n",
    "all_kinematic_embed, marker_kinematic_embed, limb_kinematic_embed, angle_kinematic_embed = [], [], [], []\n",
    "\n",
    "for file in tqdm(INFO_values):\n",
    "    rot_bp.append( np.load(f\"{root_path}/{file['directory']}/rotated_bodypoints.npy\") )\n",
    "    angles.append( np.load(f\"{root_path}/{file['directory']}/angles.npy\") )\n",
    "    limbs.append( np.load(f\"{root_path}/{file['directory']}/limbs.npy\") )\n",
    "    angle_power.append( np.load(f\"{root_path}/{file['directory']}/angle_power.npy\") )\n",
    "    limb_power.append( np.load(f\"{root_path}/{file['directory']}/limb_power.npy\") )\n",
    "    \n",
    "    all_embed.append( np.load(f\"{root_path}/{file['directory']}/all_embeddings.npy\") )\n",
    "    \n",
    "    all_postural_embed.append( np.load(f\"{root_path}/{file['directory']}/all_postural_embeddings.npy\") )\n",
    "#     marker_postural_embed.append( np.load(f\"{root_path}/{file['directory']}/marker_postural_embeddings.npy\") )\n",
    "#     angle_postural_embed.append( np.load(f\"{root_path}/{file['directory']}/angle_postural_embeddings.npy\") )\n",
    "#     limb_postural_embed.append( np.load(f\"{root_path}/{file['directory']}/limb_postural_embeddings.npy\") )\n",
    "    \n",
    "    all_kinematic_embed.append( np.load(f\"{root_path}/{file['directory']}/all_kinematic_embeddings.npy\") )\n",
    "#     marker_kinematic_embed.append( np.load(f\"{root_path}/{file['directory']}/marker_kinematic_embeddings.npy\") )\n",
    "#     limb_kinematic_embed.append( np.load(f\"{root_path}/{file['directory']}/marker_limb_embeddings.npy\") )\n",
    "#     angle_kinematic_embed.append( np.load(f\"{root_path}/{file['directory']}/marker_angle_embeddings.npy\") )\n",
    "    \n",
    "rot_bp = np.concatenate(rot_bp)\n",
    "angles = np.concatenate(angles)\n",
    "limbs = np.concatenate(limbs)\n",
    "angle_power = np.concatenate(angle_power)\n",
    "limb_power = np.concatenate(limb_power)\n",
    "\n",
    "all_embed = np.concatenate(all_embed)\n",
    "\n",
    "all_postural_embed = np.concatenate(all_postural_embed)\n",
    "# marker_postural_embed = np.concatenate(marker_postural_embed)\n",
    "# angle_postural_embed = np.concatenate(angle_postural_embed)\n",
    "# alllimb_postural_embed_embed = np.concatenate(limb_postural_embed)\n",
    "\n",
    "all_kinematic_embed = np.concatenate(all_kinematic_embed)\n",
    "# marker_kinematic_embed = np.concatenate(marker_kinematic_embed)\n",
    "# limb_kinematic_embed = np.concatenate(limb_kinematic_embed)\n",
    "# angle_kinematic_embed = np.concatenate(angle_kinematic_embed)"
   ]
  },
  {
   "cell_type": "markdown",
   "metadata": {},
   "source": [
    "<hr>\n",
    "<hr>"
   ]
  },
  {
   "cell_type": "code",
   "execution_count": null,
   "metadata": {},
   "outputs": [],
   "source": [
    "%matplotlib inline\n",
    "\n",
    "num_fig_width, num_fig_height = 6,5\n",
    "fig, ax = plt.subplots(num_fig_height, num_fig_width, figsize=(num_fig_width*4, num_fig_height*6))\n",
    "\n",
    "for i in np.arange(num_clusters):\n",
    "    fr_i = np.where(labels == i)[0]\n",
    "    fr_i = fr_i[:20]\n",
    "    ax[int(i//num_fig_width), int(i%num_fig_width)].scatter(rot_bp[fr_i,:,0], rot_bp[fr_i,:,1], s=2, alpha=0.05)\n",
    "    ax[int(i//num_fig_width), int(i%num_fig_width)].set(title= f\"Sample Set {int(i)}\", xlim=(-2.5,2.5), ylim=(-2.5,3.0))\n",
    "    \n",
    "    # build skeleton\n",
    "    for fr in fr_i:\n",
    "        for skeleton_i, color_i in zip(skeleton, skeleton_color):\n",
    "            ax[int(i//num_fig_width), int(i%num_fig_width)].plot(rot_bp[fr,skeleton_i,0], rot_bp[fr,skeleton_i,1], alpha=0.5, c=color_i)\n",
    "plt.show()"
   ]
  }
 ],
 "metadata": {
  "kernelspec": {
   "display_name": "Python 3",
   "language": "python",
   "name": "python3"
  },
  "language_info": {
   "codemirror_mode": {
    "name": "ipython",
    "version": 3
   },
   "file_extension": ".py",
   "mimetype": "text/x-python",
   "name": "python",
   "nbconvert_exporter": "python",
   "pygments_lexer": "ipython3",
   "version": "3.7.3"
  }
 },
 "nbformat": 4,
 "nbformat_minor": 4
}
