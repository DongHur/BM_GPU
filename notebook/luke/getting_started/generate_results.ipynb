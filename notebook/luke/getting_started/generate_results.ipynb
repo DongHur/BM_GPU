{
 "cells": [
  {
   "cell_type": "code",
   "execution_count": 1,
   "metadata": {},
   "outputs": [],
   "source": [
    "import sys\n",
    "\n",
    "PROJECT_PATH = \"/Users/lukefoster/Documents/CompEtho/BM_GPU\"\n",
    "sys.path.append(PROJECT_PATH)"
   ]
  },
  {
   "cell_type": "code",
   "execution_count": 2,
   "metadata": {},
   "outputs": [],
   "source": [
    "# run preprocessing.py to generate results folder containing bodypoints.npy,\n",
    "# rotated_bodypoints.npy, and scaled_bodypoints.npy data as well as INFO.yaml\n",
    "# from the DLC .h5 data\n",
    "\n",
    "import preprocessing"
   ]
  },
  {
   "cell_type": "code",
   "execution_count": 3,
   "metadata": {
    "scrolled": true
   },
   "outputs": [
    {
     "name": "stderr",
     "output_type": "stream",
     "text": [
      "0it [00:00, ?it/s]/Users/lukefoster/Documents/CompEtho/BM_GPU/helper.py:37: RuntimeWarning: divide by zero encountered in true_divide\n",
      "  angle_list = np.sign(axis_vector[:,0]) * np.pi/2 - np.arctan( axis_vector[:,1]/axis_vector[:,0] ) # angle rotated per frame\n",
      "4it [00:01,  2.52it/s]/Users/lukefoster/Documents/CompEtho/BM_GPU/preprocessing.py:84: RuntimeWarning: overflow encountered in square\n",
      "  dist = np.sqrt(x_d**2+y_d**2)\n",
      "7it [00:02,  2.90it/s]/Users/lukefoster/Documents/CompEtho/BM_GPU/preprocessing.py:84: RuntimeWarning: overflow encountered in add\n",
      "  dist = np.sqrt(x_d**2+y_d**2)\n",
      "31it [00:08,  2.81it/s]/Users/lukefoster/Documents/CompEtho/BM_GPU/helper.py:37: RuntimeWarning: invalid value encountered in true_divide\n",
      "  angle_list = np.sign(axis_vector[:,0]) * np.pi/2 - np.arctan( axis_vector[:,1]/axis_vector[:,0] ) # angle rotated per frame\n",
      "141it [00:42,  3.31it/s]"
     ]
    },
    {
     "name": "stdout",
     "output_type": "stream",
     "text": [
      "::: Data Preprocessing ::: Computation Time: 42.603315114974976\n"
     ]
    },
    {
     "name": "stderr",
     "output_type": "stream",
     "text": [
      "\n"
     ]
    }
   ],
   "source": [
    "sys.argv[1] = f\"{PROJECT_PATH}/config_prac.yaml\"\n",
    "\n",
    "preprocessing.main()"
   ]
  },
  {
   "cell_type": "code",
   "execution_count": 4,
   "metadata": {},
   "outputs": [],
   "source": [
    "# run features_gpu.py to generate features .npy data within the results folder\n",
    "\n",
    "import features_gpu"
   ]
  },
  {
   "cell_type": "code",
   "execution_count": 5,
   "metadata": {},
   "outputs": [
    {
     "name": "stderr",
     "output_type": "stream",
     "text": [
      "  0%|          | 0/141 [00:00<?, ?it/s]/Users/lukefoster/Documents/CompEtho/BM_GPU/helper.py:63: RuntimeWarning: invalid value encountered in true_divide\n",
      "  bc_norm = bc / np.linalg.norm(bc,axis=1,keepdims=True)\n",
      "  1%|          | 1/141 [00:00<00:14,  9.48it/s]/Users/lukefoster/Documents/CompEtho/BM_GPU/helper.py:63: RuntimeWarning: invalid value encountered in true_divide\n",
      "  bc_norm = bc / np.linalg.norm(bc,axis=1,keepdims=True)\n",
      "/Users/lukefoster/Documents/CompEtho/BM_GPU/helper.py:62: RuntimeWarning: invalid value encountered in true_divide\n",
      "  ba_norm = ba / np.linalg.norm(ba,axis=1,keepdims=True)\n",
      "/Users/lukefoster/Documents/CompEtho/BM_GPU/helper.py:63: RuntimeWarning: invalid value encountered in true_divide\n",
      "  bc_norm = bc / np.linalg.norm(bc,axis=1,keepdims=True)\n",
      "  2%|▏         | 3/141 [00:00<00:13, 10.10it/s]/Users/lukefoster/Documents/CompEtho/BM_GPU/helper.py:63: RuntimeWarning: invalid value encountered in true_divide\n",
      "  bc_norm = bc / np.linalg.norm(bc,axis=1,keepdims=True)\n",
      "/Users/lukefoster/Documents/CompEtho/BM_GPU/helper.py:62: RuntimeWarning: invalid value encountered in true_divide\n",
      "  ba_norm = ba / np.linalg.norm(ba,axis=1,keepdims=True)\n",
      "  5%|▍         | 7/141 [00:00<00:14,  9.07it/s]/Users/lukefoster/Documents/CompEtho/BM_GPU/helper.py:63: RuntimeWarning: invalid value encountered in true_divide\n",
      "  bc_norm = bc / np.linalg.norm(bc,axis=1,keepdims=True)\n",
      "/Users/lukefoster/Documents/CompEtho/BM_GPU/helper.py:62: RuntimeWarning: invalid value encountered in true_divide\n",
      "  ba_norm = ba / np.linalg.norm(ba,axis=1,keepdims=True)\n",
      "  6%|▌         | 8/141 [00:00<00:15,  8.59it/s]/Users/lukefoster/Documents/CompEtho/BM_GPU/helper.py:63: RuntimeWarning: invalid value encountered in true_divide\n",
      "  bc_norm = bc / np.linalg.norm(bc,axis=1,keepdims=True)\n",
      "/Users/lukefoster/Documents/CompEtho/BM_GPU/helper.py:62: RuntimeWarning: invalid value encountered in true_divide\n",
      "  ba_norm = ba / np.linalg.norm(ba,axis=1,keepdims=True)\n",
      "  6%|▋         | 9/141 [00:01<00:27,  4.83it/s]/Users/lukefoster/Documents/CompEtho/BM_GPU/helper.py:63: RuntimeWarning: invalid value encountered in true_divide\n",
      "  bc_norm = bc / np.linalg.norm(bc,axis=1,keepdims=True)\n",
      "/Users/lukefoster/Documents/CompEtho/BM_GPU/helper.py:62: RuntimeWarning: invalid value encountered in true_divide\n",
      "  ba_norm = ba / np.linalg.norm(ba,axis=1,keepdims=True)\n",
      "  9%|▊         | 12/141 [00:01<00:21,  6.11it/s]/Users/lukefoster/Documents/CompEtho/BM_GPU/helper.py:63: RuntimeWarning: invalid value encountered in true_divide\n",
      "  bc_norm = bc / np.linalg.norm(bc,axis=1,keepdims=True)\n",
      "/Users/lukefoster/Documents/CompEtho/BM_GPU/helper.py:62: RuntimeWarning: invalid value encountered in true_divide\n",
      "  ba_norm = ba / np.linalg.norm(ba,axis=1,keepdims=True)\n",
      "  9%|▉         | 13/141 [00:01<00:23,  5.45it/s]/Users/lukefoster/Documents/CompEtho/BM_GPU/helper.py:63: RuntimeWarning: invalid value encountered in true_divide\n",
      "  bc_norm = bc / np.linalg.norm(bc,axis=1,keepdims=True)\n",
      "/Users/lukefoster/Documents/CompEtho/BM_GPU/helper.py:63: RuntimeWarning: invalid value encountered in true_divide\n",
      "  bc_norm = bc / np.linalg.norm(bc,axis=1,keepdims=True)\n",
      "/Users/lukefoster/Documents/CompEtho/BM_GPU/helper.py:62: RuntimeWarning: invalid value encountered in true_divide\n",
      "  ba_norm = ba / np.linalg.norm(ba,axis=1,keepdims=True)\n",
      " 11%|█▏        | 16/141 [00:01<00:17,  7.22it/s]/Users/lukefoster/Documents/CompEtho/BM_GPU/helper.py:63: RuntimeWarning: invalid value encountered in true_divide\n",
      "  bc_norm = bc / np.linalg.norm(bc,axis=1,keepdims=True)\n",
      "/Users/lukefoster/Documents/CompEtho/BM_GPU/helper.py:63: RuntimeWarning: invalid value encountered in true_divide\n",
      "  bc_norm = bc / np.linalg.norm(bc,axis=1,keepdims=True)\n",
      "/Users/lukefoster/Documents/CompEtho/BM_GPU/helper.py:62: RuntimeWarning: invalid value encountered in true_divide\n",
      "  ba_norm = ba / np.linalg.norm(ba,axis=1,keepdims=True)\n",
      " 13%|█▎        | 18/141 [00:01<00:15,  8.05it/s]/Users/lukefoster/Documents/CompEtho/BM_GPU/helper.py:63: RuntimeWarning: invalid value encountered in true_divide\n",
      "  bc_norm = bc / np.linalg.norm(bc,axis=1,keepdims=True)\n",
      "/Users/lukefoster/Documents/CompEtho/BM_GPU/helper.py:62: RuntimeWarning: invalid value encountered in true_divide\n",
      "  ba_norm = ba / np.linalg.norm(ba,axis=1,keepdims=True)\n",
      " 14%|█▍        | 20/141 [00:02<00:14,  8.12it/s]/Users/lukefoster/Documents/CompEtho/BM_GPU/helper.py:63: RuntimeWarning: invalid value encountered in true_divide\n",
      "  bc_norm = bc / np.linalg.norm(bc,axis=1,keepdims=True)\n",
      " 16%|█▌        | 22/141 [00:02<00:12,  9.47it/s]/Users/lukefoster/Documents/CompEtho/BM_GPU/helper.py:63: RuntimeWarning: invalid value encountered in true_divide\n",
      "  bc_norm = bc / np.linalg.norm(bc,axis=1,keepdims=True)\n",
      "/Users/lukefoster/Documents/CompEtho/BM_GPU/helper.py:63: RuntimeWarning: invalid value encountered in true_divide\n",
      "  bc_norm = bc / np.linalg.norm(bc,axis=1,keepdims=True)\n",
      " 17%|█▋        | 24/141 [00:02<00:11, 10.30it/s]/Users/lukefoster/Documents/CompEtho/BM_GPU/helper.py:63: RuntimeWarning: invalid value encountered in true_divide\n",
      "  bc_norm = bc / np.linalg.norm(bc,axis=1,keepdims=True)\n",
      "/Users/lukefoster/Documents/CompEtho/BM_GPU/helper.py:62: RuntimeWarning: invalid value encountered in true_divide\n",
      "  ba_norm = ba / np.linalg.norm(ba,axis=1,keepdims=True)\n",
      " 18%|█▊        | 26/141 [00:02<00:11, 10.01it/s]/Users/lukefoster/Documents/CompEtho/BM_GPU/helper.py:63: RuntimeWarning: invalid value encountered in true_divide\n",
      "  bc_norm = bc / np.linalg.norm(bc,axis=1,keepdims=True)\n",
      " 20%|█▉        | 28/141 [00:03<00:13,  8.46it/s]/Users/lukefoster/Documents/CompEtho/BM_GPU/helper.py:63: RuntimeWarning: invalid value encountered in true_divide\n",
      "  bc_norm = bc / np.linalg.norm(bc,axis=1,keepdims=True)\n",
      "/Users/lukefoster/Documents/CompEtho/BM_GPU/helper.py:62: RuntimeWarning: invalid value encountered in true_divide\n",
      "  ba_norm = ba / np.linalg.norm(ba,axis=1,keepdims=True)\n",
      "/Users/lukefoster/Documents/CompEtho/BM_GPU/helper.py:63: RuntimeWarning: invalid value encountered in true_divide\n",
      "  bc_norm = bc / np.linalg.norm(bc,axis=1,keepdims=True)\n",
      "/Users/lukefoster/Documents/CompEtho/BM_GPU/helper.py:62: RuntimeWarning: invalid value encountered in true_divide\n",
      "  ba_norm = ba / np.linalg.norm(ba,axis=1,keepdims=True)\n",
      " 21%|██▏       | 30/141 [00:03<00:12,  8.88it/s]/Users/lukefoster/Documents/CompEtho/BM_GPU/helper.py:62: RuntimeWarning: invalid value encountered in true_divide\n",
      "  ba_norm = ba / np.linalg.norm(ba,axis=1,keepdims=True)\n",
      "/Users/lukefoster/Documents/CompEtho/BM_GPU/helper.py:63: RuntimeWarning: invalid value encountered in true_divide\n",
      "  bc_norm = bc / np.linalg.norm(bc,axis=1,keepdims=True)\n",
      "/Users/lukefoster/Documents/CompEtho/BM_GPU/helper.py:63: RuntimeWarning: invalid value encountered in true_divide\n",
      "  bc_norm = bc / np.linalg.norm(bc,axis=1,keepdims=True)\n",
      "/Users/lukefoster/Documents/CompEtho/BM_GPU/helper.py:62: RuntimeWarning: invalid value encountered in true_divide\n",
      "  ba_norm = ba / np.linalg.norm(ba,axis=1,keepdims=True)\n",
      " 23%|██▎       | 32/141 [00:03<00:13,  8.25it/s]/Users/lukefoster/Documents/CompEtho/BM_GPU/helper.py:63: RuntimeWarning: invalid value encountered in true_divide\n",
      "  bc_norm = bc / np.linalg.norm(bc,axis=1,keepdims=True)\n",
      " 23%|██▎       | 33/141 [00:03<00:13,  8.27it/s]/Users/lukefoster/Documents/CompEtho/BM_GPU/helper.py:63: RuntimeWarning: invalid value encountered in true_divide\n",
      "  bc_norm = bc / np.linalg.norm(bc,axis=1,keepdims=True)\n",
      "/Users/lukefoster/Documents/CompEtho/BM_GPU/helper.py:63: RuntimeWarning: invalid value encountered in true_divide\n",
      "  bc_norm = bc / np.linalg.norm(bc,axis=1,keepdims=True)\n",
      " 25%|██▍       | 35/141 [00:03<00:13,  7.62it/s]/Users/lukefoster/Documents/CompEtho/BM_GPU/helper.py:63: RuntimeWarning: invalid value encountered in true_divide\n",
      "  bc_norm = bc / np.linalg.norm(bc,axis=1,keepdims=True)\n",
      "/Users/lukefoster/Documents/CompEtho/BM_GPU/helper.py:62: RuntimeWarning: invalid value encountered in true_divide\n",
      "  ba_norm = ba / np.linalg.norm(ba,axis=1,keepdims=True)\n",
      " 27%|██▋       | 38/141 [00:04<00:11,  8.59it/s]/Users/lukefoster/Documents/CompEtho/BM_GPU/helper.py:63: RuntimeWarning: invalid value encountered in true_divide\n",
      "  bc_norm = bc / np.linalg.norm(bc,axis=1,keepdims=True)\n",
      " 28%|██▊       | 39/141 [00:04<00:12,  7.98it/s]/Users/lukefoster/Documents/CompEtho/BM_GPU/helper.py:62: RuntimeWarning: invalid value encountered in true_divide\n",
      "  ba_norm = ba / np.linalg.norm(ba,axis=1,keepdims=True)\n",
      "/Users/lukefoster/Documents/CompEtho/BM_GPU/helper.py:63: RuntimeWarning: invalid value encountered in true_divide\n",
      "  bc_norm = bc / np.linalg.norm(bc,axis=1,keepdims=True)\n",
      "/Users/lukefoster/Documents/CompEtho/BM_GPU/helper.py:63: RuntimeWarning: invalid value encountered in true_divide\n",
      "  bc_norm = bc / np.linalg.norm(bc,axis=1,keepdims=True)\n",
      " 30%|██▉       | 42/141 [00:04<00:10,  9.87it/s]/Users/lukefoster/Documents/CompEtho/BM_GPU/helper.py:63: RuntimeWarning: invalid value encountered in true_divide\n",
      "  bc_norm = bc / np.linalg.norm(bc,axis=1,keepdims=True)\n",
      "/Users/lukefoster/Documents/CompEtho/BM_GPU/helper.py:62: RuntimeWarning: invalid value encountered in true_divide\n",
      "  ba_norm = ba / np.linalg.norm(ba,axis=1,keepdims=True)\n",
      " 31%|███       | 44/141 [00:04<00:10,  9.52it/s]/Users/lukefoster/Documents/CompEtho/BM_GPU/helper.py:63: RuntimeWarning: invalid value encountered in true_divide\n",
      "  bc_norm = bc / np.linalg.norm(bc,axis=1,keepdims=True)\n",
      "/Users/lukefoster/Documents/CompEtho/BM_GPU/helper.py:62: RuntimeWarning: invalid value encountered in true_divide\n",
      "  ba_norm = ba / np.linalg.norm(ba,axis=1,keepdims=True)\n",
      "/Users/lukefoster/Documents/CompEtho/BM_GPU/helper.py:63: RuntimeWarning: invalid value encountered in true_divide\n",
      "  bc_norm = bc / np.linalg.norm(bc,axis=1,keepdims=True)\n",
      " 33%|███▎      | 46/141 [00:05<00:12,  7.61it/s]/Users/lukefoster/Documents/CompEtho/BM_GPU/helper.py:63: RuntimeWarning: invalid value encountered in true_divide\n",
      "  bc_norm = bc / np.linalg.norm(bc,axis=1,keepdims=True)\n",
      "/Users/lukefoster/Documents/CompEtho/BM_GPU/helper.py:62: RuntimeWarning: invalid value encountered in true_divide\n",
      "  ba_norm = ba / np.linalg.norm(ba,axis=1,keepdims=True)\n",
      " 35%|███▍      | 49/141 [00:05<00:10,  8.70it/s]/Users/lukefoster/Documents/CompEtho/BM_GPU/helper.py:63: RuntimeWarning: invalid value encountered in true_divide\n",
      "  bc_norm = bc / np.linalg.norm(bc,axis=1,keepdims=True)\n",
      "/Users/lukefoster/Documents/CompEtho/BM_GPU/helper.py:62: RuntimeWarning: invalid value encountered in true_divide\n",
      "  ba_norm = ba / np.linalg.norm(ba,axis=1,keepdims=True)\n",
      " 36%|███▌      | 51/141 [00:05<00:09,  9.50it/s]/Users/lukefoster/Documents/CompEtho/BM_GPU/helper.py:62: RuntimeWarning: invalid value encountered in true_divide\n",
      "  ba_norm = ba / np.linalg.norm(ba,axis=1,keepdims=True)\n",
      "/Users/lukefoster/Documents/CompEtho/BM_GPU/helper.py:63: RuntimeWarning: invalid value encountered in true_divide\n",
      "  bc_norm = bc / np.linalg.norm(bc,axis=1,keepdims=True)\n",
      "/Users/lukefoster/Documents/CompEtho/BM_GPU/helper.py:63: RuntimeWarning: invalid value encountered in true_divide\n",
      "  bc_norm = bc / np.linalg.norm(bc,axis=1,keepdims=True)\n",
      " 38%|███▊      | 53/141 [00:05<00:11,  7.70it/s]/Users/lukefoster/Documents/CompEtho/BM_GPU/helper.py:62: RuntimeWarning: invalid value encountered in true_divide\n",
      "  ba_norm = ba / np.linalg.norm(ba,axis=1,keepdims=True)\n",
      "/Users/lukefoster/Documents/CompEtho/BM_GPU/helper.py:63: RuntimeWarning: invalid value encountered in true_divide\n",
      "  bc_norm = bc / np.linalg.norm(bc,axis=1,keepdims=True)\n",
      " 38%|███▊      | 54/141 [00:06<00:12,  6.97it/s]/Users/lukefoster/Documents/CompEtho/BM_GPU/helper.py:63: RuntimeWarning: invalid value encountered in true_divide\n",
      "  bc_norm = bc / np.linalg.norm(bc,axis=1,keepdims=True)\n",
      "/Users/lukefoster/Documents/CompEtho/BM_GPU/helper.py:62: RuntimeWarning: invalid value encountered in true_divide\n",
      "  ba_norm = ba / np.linalg.norm(ba,axis=1,keepdims=True)\n",
      "/Users/lukefoster/Documents/CompEtho/BM_GPU/helper.py:63: RuntimeWarning: invalid value encountered in true_divide\n",
      "  bc_norm = bc / np.linalg.norm(bc,axis=1,keepdims=True)\n",
      " 40%|███▉      | 56/141 [00:06<00:11,  7.39it/s]/Users/lukefoster/Documents/CompEtho/BM_GPU/helper.py:63: RuntimeWarning: invalid value encountered in true_divide\n",
      "  bc_norm = bc / np.linalg.norm(bc,axis=1,keepdims=True)\n",
      " 41%|████      | 58/141 [00:06<00:10,  8.12it/s]/Users/lukefoster/Documents/CompEtho/BM_GPU/helper.py:62: RuntimeWarning: invalid value encountered in true_divide\n",
      "  ba_norm = ba / np.linalg.norm(ba,axis=1,keepdims=True)\n",
      "/Users/lukefoster/Documents/CompEtho/BM_GPU/helper.py:63: RuntimeWarning: invalid value encountered in true_divide\n",
      "  bc_norm = bc / np.linalg.norm(bc,axis=1,keepdims=True)\n",
      " 42%|████▏     | 59/141 [00:06<00:11,  7.33it/s]/Users/lukefoster/Documents/CompEtho/BM_GPU/helper.py:62: RuntimeWarning: invalid value encountered in true_divide\n",
      "  ba_norm = ba / np.linalg.norm(ba,axis=1,keepdims=True)\n",
      "/Users/lukefoster/Documents/CompEtho/BM_GPU/helper.py:63: RuntimeWarning: invalid value encountered in true_divide\n",
      "  bc_norm = bc / np.linalg.norm(bc,axis=1,keepdims=True)\n",
      " 43%|████▎     | 60/141 [00:06<00:11,  7.00it/s]/Users/lukefoster/Documents/CompEtho/BM_GPU/helper.py:63: RuntimeWarning: invalid value encountered in true_divide\n",
      "  bc_norm = bc / np.linalg.norm(bc,axis=1,keepdims=True)\n",
      "/Users/lukefoster/Documents/CompEtho/BM_GPU/helper.py:62: RuntimeWarning: invalid value encountered in true_divide\n",
      "  ba_norm = ba / np.linalg.norm(ba,axis=1,keepdims=True)\n",
      " 43%|████▎     | 61/141 [00:06<00:13,  5.91it/s]/Users/lukefoster/Documents/CompEtho/BM_GPU/helper.py:63: RuntimeWarning: invalid value encountered in true_divide\n",
      "  bc_norm = bc / np.linalg.norm(bc,axis=1,keepdims=True)\n",
      " 45%|████▍     | 63/141 [00:07<00:11,  7.03it/s]/Users/lukefoster/Documents/CompEtho/BM_GPU/helper.py:62: RuntimeWarning: invalid value encountered in true_divide\n",
      "  ba_norm = ba / np.linalg.norm(ba,axis=1,keepdims=True)\n",
      " 46%|████▌     | 65/141 [00:07<00:12,  5.99it/s]/Users/lukefoster/Documents/CompEtho/BM_GPU/helper.py:63: RuntimeWarning: invalid value encountered in true_divide\n",
      "  bc_norm = bc / np.linalg.norm(bc,axis=1,keepdims=True)\n",
      " 48%|████▊     | 67/141 [00:07<00:11,  6.48it/s]/Users/lukefoster/Documents/CompEtho/BM_GPU/helper.py:63: RuntimeWarning: invalid value encountered in true_divide\n",
      "  bc_norm = bc / np.linalg.norm(bc,axis=1,keepdims=True)\n",
      "/Users/lukefoster/Documents/CompEtho/BM_GPU/helper.py:62: RuntimeWarning: invalid value encountered in true_divide\n",
      "  ba_norm = ba / np.linalg.norm(ba,axis=1,keepdims=True)\n",
      " 48%|████▊     | 68/141 [00:08<00:13,  5.42it/s]/Users/lukefoster/Documents/CompEtho/BM_GPU/helper.py:63: RuntimeWarning: invalid value encountered in true_divide\n",
      "  bc_norm = bc / np.linalg.norm(bc,axis=1,keepdims=True)\n",
      " 49%|████▉     | 69/141 [00:08<00:14,  5.12it/s]/Users/lukefoster/Documents/CompEtho/BM_GPU/helper.py:62: RuntimeWarning: invalid value encountered in true_divide\n",
      "  ba_norm = ba / np.linalg.norm(ba,axis=1,keepdims=True)\n",
      " 50%|████▉     | 70/141 [00:08<00:14,  4.79it/s]/Users/lukefoster/Documents/CompEtho/BM_GPU/helper.py:62: RuntimeWarning: invalid value encountered in true_divide\n",
      "  ba_norm = ba / np.linalg.norm(ba,axis=1,keepdims=True)\n",
      "/Users/lukefoster/Documents/CompEtho/BM_GPU/helper.py:63: RuntimeWarning: invalid value encountered in true_divide\n",
      "  bc_norm = bc / np.linalg.norm(bc,axis=1,keepdims=True)\n",
      "/Users/lukefoster/Documents/CompEtho/BM_GPU/helper.py:62: RuntimeWarning: invalid value encountered in true_divide\n",
      "  ba_norm = ba / np.linalg.norm(ba,axis=1,keepdims=True)\n",
      "/Users/lukefoster/Documents/CompEtho/BM_GPU/helper.py:63: RuntimeWarning: invalid value encountered in true_divide\n",
      "  bc_norm = bc / np.linalg.norm(bc,axis=1,keepdims=True)\n",
      " 51%|█████     | 72/141 [00:09<00:14,  4.63it/s]/Users/lukefoster/Documents/CompEtho/BM_GPU/helper.py:63: RuntimeWarning: invalid value encountered in true_divide\n",
      "  bc_norm = bc / np.linalg.norm(bc,axis=1,keepdims=True)\n",
      "/Users/lukefoster/Documents/CompEtho/BM_GPU/helper.py:62: RuntimeWarning: invalid value encountered in true_divide\n",
      "  ba_norm = ba / np.linalg.norm(ba,axis=1,keepdims=True)\n",
      " 53%|█████▎    | 75/141 [00:09<00:11,  5.76it/s]/Users/lukefoster/Documents/CompEtho/BM_GPU/helper.py:63: RuntimeWarning: invalid value encountered in true_divide\n",
      "  bc_norm = bc / np.linalg.norm(bc,axis=1,keepdims=True)\n",
      " 54%|█████▍    | 76/141 [00:09<00:11,  5.73it/s]/Users/lukefoster/Documents/CompEtho/BM_GPU/helper.py:63: RuntimeWarning: invalid value encountered in true_divide\n",
      "  bc_norm = bc / np.linalg.norm(bc,axis=1,keepdims=True)\n"
     ]
    },
    {
     "name": "stderr",
     "output_type": "stream",
     "text": [
      " 55%|█████▍    | 77/141 [00:09<00:11,  5.63it/s]/Users/lukefoster/Documents/CompEtho/BM_GPU/helper.py:63: RuntimeWarning: invalid value encountered in true_divide\n",
      "  bc_norm = bc / np.linalg.norm(bc,axis=1,keepdims=True)\n",
      "/Users/lukefoster/Documents/CompEtho/BM_GPU/helper.py:62: RuntimeWarning: invalid value encountered in true_divide\n",
      "  ba_norm = ba / np.linalg.norm(ba,axis=1,keepdims=True)\n",
      " 55%|█████▌    | 78/141 [00:09<00:11,  5.72it/s]/Users/lukefoster/Documents/CompEtho/BM_GPU/helper.py:63: RuntimeWarning: invalid value encountered in true_divide\n",
      "  bc_norm = bc / np.linalg.norm(bc,axis=1,keepdims=True)\n",
      "/Users/lukefoster/Documents/CompEtho/BM_GPU/helper.py:62: RuntimeWarning: invalid value encountered in true_divide\n",
      "  ba_norm = ba / np.linalg.norm(ba,axis=1,keepdims=True)\n",
      " 56%|█████▌    | 79/141 [00:09<00:10,  6.13it/s]/Users/lukefoster/Documents/CompEtho/BM_GPU/helper.py:63: RuntimeWarning: invalid value encountered in true_divide\n",
      "  bc_norm = bc / np.linalg.norm(bc,axis=1,keepdims=True)\n",
      " 57%|█████▋    | 80/141 [00:10<00:11,  5.10it/s]/Users/lukefoster/Documents/CompEtho/BM_GPU/helper.py:63: RuntimeWarning: invalid value encountered in true_divide\n",
      "  bc_norm = bc / np.linalg.norm(bc,axis=1,keepdims=True)\n",
      " 58%|█████▊    | 82/141 [00:10<00:09,  6.45it/s]/Users/lukefoster/Documents/CompEtho/BM_GPU/helper.py:63: RuntimeWarning: invalid value encountered in true_divide\n",
      "  bc_norm = bc / np.linalg.norm(bc,axis=1,keepdims=True)\n",
      "/Users/lukefoster/Documents/CompEtho/BM_GPU/helper.py:63: RuntimeWarning: invalid value encountered in true_divide\n",
      "  bc_norm = bc / np.linalg.norm(bc,axis=1,keepdims=True)\n",
      "/Users/lukefoster/Documents/CompEtho/BM_GPU/helper.py:62: RuntimeWarning: invalid value encountered in true_divide\n",
      "  ba_norm = ba / np.linalg.norm(ba,axis=1,keepdims=True)\n",
      " 60%|█████▉    | 84/141 [00:10<00:09,  6.23it/s]/Users/lukefoster/Documents/CompEtho/BM_GPU/helper.py:63: RuntimeWarning: invalid value encountered in true_divide\n",
      "  bc_norm = bc / np.linalg.norm(bc,axis=1,keepdims=True)\n",
      "/Users/lukefoster/Documents/CompEtho/BM_GPU/helper.py:63: RuntimeWarning: invalid value encountered in true_divide\n",
      "  bc_norm = bc / np.linalg.norm(bc,axis=1,keepdims=True)\n",
      " 61%|██████    | 86/141 [00:10<00:07,  7.65it/s]/Users/lukefoster/Documents/CompEtho/BM_GPU/helper.py:63: RuntimeWarning: invalid value encountered in true_divide\n",
      "  bc_norm = bc / np.linalg.norm(bc,axis=1,keepdims=True)\n",
      " 65%|██████▍   | 91/141 [00:11<00:05,  8.60it/s]/Users/lukefoster/Documents/CompEtho/BM_GPU/helper.py:63: RuntimeWarning: invalid value encountered in true_divide\n",
      "  bc_norm = bc / np.linalg.norm(bc,axis=1,keepdims=True)\n",
      "/Users/lukefoster/Documents/CompEtho/BM_GPU/helper.py:63: RuntimeWarning: invalid value encountered in true_divide\n",
      "  bc_norm = bc / np.linalg.norm(bc,axis=1,keepdims=True)\n",
      "/Users/lukefoster/Documents/CompEtho/BM_GPU/helper.py:62: RuntimeWarning: invalid value encountered in true_divide\n",
      "  ba_norm = ba / np.linalg.norm(ba,axis=1,keepdims=True)\n",
      " 66%|██████▌   | 93/141 [00:11<00:05,  9.01it/s]/Users/lukefoster/Documents/CompEtho/BM_GPU/helper.py:63: RuntimeWarning: invalid value encountered in true_divide\n",
      "  bc_norm = bc / np.linalg.norm(bc,axis=1,keepdims=True)\n",
      " 67%|██████▋   | 95/141 [00:11<00:04,  9.53it/s]/Users/lukefoster/Documents/CompEtho/BM_GPU/helper.py:62: RuntimeWarning: invalid value encountered in true_divide\n",
      "  ba_norm = ba / np.linalg.norm(ba,axis=1,keepdims=True)\n",
      "/Users/lukefoster/Documents/CompEtho/BM_GPU/helper.py:63: RuntimeWarning: invalid value encountered in true_divide\n",
      "  bc_norm = bc / np.linalg.norm(bc,axis=1,keepdims=True)\n",
      " 69%|██████▉   | 97/141 [00:11<00:04, 10.98it/s]/Users/lukefoster/Documents/CompEtho/BM_GPU/helper.py:63: RuntimeWarning: invalid value encountered in true_divide\n",
      "  bc_norm = bc / np.linalg.norm(bc,axis=1,keepdims=True)\n",
      "/Users/lukefoster/Documents/CompEtho/BM_GPU/helper.py:63: RuntimeWarning: invalid value encountered in true_divide\n",
      "  bc_norm = bc / np.linalg.norm(bc,axis=1,keepdims=True)\n",
      "/Users/lukefoster/Documents/CompEtho/BM_GPU/helper.py:62: RuntimeWarning: invalid value encountered in true_divide\n",
      "  ba_norm = ba / np.linalg.norm(ba,axis=1,keepdims=True)\n",
      " 70%|███████   | 99/141 [00:12<00:04,  8.54it/s]/Users/lukefoster/Documents/CompEtho/BM_GPU/helper.py:63: RuntimeWarning: invalid value encountered in true_divide\n",
      "  bc_norm = bc / np.linalg.norm(bc,axis=1,keepdims=True)\n",
      "/Users/lukefoster/Documents/CompEtho/BM_GPU/helper.py:62: RuntimeWarning: invalid value encountered in true_divide\n",
      "  ba_norm = ba / np.linalg.norm(ba,axis=1,keepdims=True)\n",
      "/Users/lukefoster/Documents/CompEtho/BM_GPU/helper.py:63: RuntimeWarning: invalid value encountered in true_divide\n",
      "  bc_norm = bc / np.linalg.norm(bc,axis=1,keepdims=True)\n",
      "/Users/lukefoster/Documents/CompEtho/BM_GPU/helper.py:63: RuntimeWarning: invalid value encountered in true_divide\n",
      "  bc_norm = bc / np.linalg.norm(bc,axis=1,keepdims=True)\n",
      " 72%|███████▏  | 102/141 [00:12<00:04,  9.16it/s]/Users/lukefoster/Documents/CompEtho/BM_GPU/helper.py:63: RuntimeWarning: invalid value encountered in true_divide\n",
      "  bc_norm = bc / np.linalg.norm(bc,axis=1,keepdims=True)\n",
      " 74%|███████▍  | 104/141 [00:12<00:03,  9.47it/s]/Users/lukefoster/Documents/CompEtho/BM_GPU/helper.py:62: RuntimeWarning: invalid value encountered in true_divide\n",
      "  ba_norm = ba / np.linalg.norm(ba,axis=1,keepdims=True)\n",
      "/Users/lukefoster/Documents/CompEtho/BM_GPU/helper.py:63: RuntimeWarning: invalid value encountered in true_divide\n",
      "  bc_norm = bc / np.linalg.norm(bc,axis=1,keepdims=True)\n",
      " 75%|███████▌  | 106/141 [00:12<00:04,  8.23it/s]/Users/lukefoster/Documents/CompEtho/BM_GPU/helper.py:62: RuntimeWarning: invalid value encountered in true_divide\n",
      "  ba_norm = ba / np.linalg.norm(ba,axis=1,keepdims=True)\n",
      " 76%|███████▌  | 107/141 [00:12<00:04,  8.07it/s]/Users/lukefoster/Documents/CompEtho/BM_GPU/helper.py:62: RuntimeWarning: invalid value encountered in true_divide\n",
      "  ba_norm = ba / np.linalg.norm(ba,axis=1,keepdims=True)\n",
      "/Users/lukefoster/Documents/CompEtho/BM_GPU/helper.py:63: RuntimeWarning: invalid value encountered in true_divide\n",
      "  bc_norm = bc / np.linalg.norm(bc,axis=1,keepdims=True)\n",
      " 77%|███████▋  | 108/141 [00:13<00:04,  6.91it/s]/Users/lukefoster/Documents/CompEtho/BM_GPU/helper.py:63: RuntimeWarning: invalid value encountered in true_divide\n",
      "  bc_norm = bc / np.linalg.norm(bc,axis=1,keepdims=True)\n",
      "/Users/lukefoster/Documents/CompEtho/BM_GPU/helper.py:62: RuntimeWarning: invalid value encountered in true_divide\n",
      "  ba_norm = ba / np.linalg.norm(ba,axis=1,keepdims=True)\n",
      " 78%|███████▊  | 110/141 [00:13<00:05,  6.12it/s]/Users/lukefoster/Documents/CompEtho/BM_GPU/helper.py:63: RuntimeWarning: invalid value encountered in true_divide\n",
      "  bc_norm = bc / np.linalg.norm(bc,axis=1,keepdims=True)\n",
      "/Users/lukefoster/Documents/CompEtho/BM_GPU/helper.py:62: RuntimeWarning: invalid value encountered in true_divide\n",
      "  ba_norm = ba / np.linalg.norm(ba,axis=1,keepdims=True)\n",
      " 79%|███████▊  | 111/141 [00:13<00:05,  5.76it/s]/Users/lukefoster/Documents/CompEtho/BM_GPU/helper.py:63: RuntimeWarning: invalid value encountered in true_divide\n",
      "  bc_norm = bc / np.linalg.norm(bc,axis=1,keepdims=True)\n",
      "/Users/lukefoster/Documents/CompEtho/BM_GPU/helper.py:62: RuntimeWarning: invalid value encountered in true_divide\n",
      "  ba_norm = ba / np.linalg.norm(ba,axis=1,keepdims=True)\n",
      " 80%|████████  | 113/141 [00:14<00:04,  6.14it/s]/Users/lukefoster/Documents/CompEtho/BM_GPU/helper.py:63: RuntimeWarning: invalid value encountered in true_divide\n",
      "  bc_norm = bc / np.linalg.norm(bc,axis=1,keepdims=True)\n",
      " 81%|████████  | 114/141 [00:14<00:04,  6.56it/s]/Users/lukefoster/Documents/CompEtho/BM_GPU/helper.py:62: RuntimeWarning: invalid value encountered in true_divide\n",
      "  ba_norm = ba / np.linalg.norm(ba,axis=1,keepdims=True)\n",
      "/Users/lukefoster/Documents/CompEtho/BM_GPU/helper.py:63: RuntimeWarning: invalid value encountered in true_divide\n",
      "  bc_norm = bc / np.linalg.norm(bc,axis=1,keepdims=True)\n",
      " 82%|████████▏ | 116/141 [00:14<00:03,  6.70it/s]/Users/lukefoster/Documents/CompEtho/BM_GPU/helper.py:63: RuntimeWarning: invalid value encountered in true_divide\n",
      "  bc_norm = bc / np.linalg.norm(bc,axis=1,keepdims=True)\n",
      "/Users/lukefoster/Documents/CompEtho/BM_GPU/helper.py:62: RuntimeWarning: invalid value encountered in true_divide\n",
      "  ba_norm = ba / np.linalg.norm(ba,axis=1,keepdims=True)\n"
     ]
    },
    {
     "name": "stderr",
     "output_type": "stream",
     "text": [
      "/Users/lukefoster/Documents/CompEtho/BM_GPU/helper.py:63: RuntimeWarning: invalid value encountered in true_divide\n",
      "  bc_norm = bc / np.linalg.norm(bc,axis=1,keepdims=True)\n",
      "/Users/lukefoster/Documents/CompEtho/BM_GPU/helper.py:62: RuntimeWarning: invalid value encountered in true_divide\n",
      "  ba_norm = ba / np.linalg.norm(ba,axis=1,keepdims=True)\n",
      " 84%|████████▎ | 118/141 [00:14<00:02,  8.31it/s]/Users/lukefoster/Documents/CompEtho/BM_GPU/helper.py:63: RuntimeWarning: invalid value encountered in true_divide\n",
      "  bc_norm = bc / np.linalg.norm(bc,axis=1,keepdims=True)\n",
      "/Users/lukefoster/Documents/CompEtho/BM_GPU/helper.py:62: RuntimeWarning: invalid value encountered in true_divide\n",
      "  ba_norm = ba / np.linalg.norm(ba,axis=1,keepdims=True)\n",
      " 86%|████████▌ | 121/141 [00:15<00:02,  7.33it/s]/Users/lukefoster/Documents/CompEtho/BM_GPU/helper.py:63: RuntimeWarning: invalid value encountered in true_divide\n",
      "  bc_norm = bc / np.linalg.norm(bc,axis=1,keepdims=True)\n",
      "/Users/lukefoster/Documents/CompEtho/BM_GPU/helper.py:62: RuntimeWarning: invalid value encountered in true_divide\n",
      "  ba_norm = ba / np.linalg.norm(ba,axis=1,keepdims=True)\n",
      " 87%|████████▋ | 122/141 [00:15<00:03,  5.37it/s]/Users/lukefoster/Documents/CompEtho/BM_GPU/helper.py:63: RuntimeWarning: invalid value encountered in true_divide\n",
      "  bc_norm = bc / np.linalg.norm(bc,axis=1,keepdims=True)\n",
      " 87%|████████▋ | 123/141 [00:15<00:02,  6.19it/s]/Users/lukefoster/Documents/CompEtho/BM_GPU/helper.py:63: RuntimeWarning: invalid value encountered in true_divide\n",
      "  bc_norm = bc / np.linalg.norm(bc,axis=1,keepdims=True)\n",
      "/Users/lukefoster/Documents/CompEtho/BM_GPU/helper.py:62: RuntimeWarning: invalid value encountered in true_divide\n",
      "  ba_norm = ba / np.linalg.norm(ba,axis=1,keepdims=True)\n",
      " 88%|████████▊ | 124/141 [00:15<00:03,  5.62it/s]/Users/lukefoster/Documents/CompEtho/BM_GPU/helper.py:62: RuntimeWarning: invalid value encountered in true_divide\n",
      "  ba_norm = ba / np.linalg.norm(ba,axis=1,keepdims=True)\n",
      "/Users/lukefoster/Documents/CompEtho/BM_GPU/helper.py:63: RuntimeWarning: invalid value encountered in true_divide\n",
      "  bc_norm = bc / np.linalg.norm(bc,axis=1,keepdims=True)\n",
      " 89%|████████▊ | 125/141 [00:15<00:02,  6.07it/s]/Users/lukefoster/Documents/CompEtho/BM_GPU/helper.py:63: RuntimeWarning: invalid value encountered in true_divide\n",
      "  bc_norm = bc / np.linalg.norm(bc,axis=1,keepdims=True)\n",
      "/Users/lukefoster/Documents/CompEtho/BM_GPU/helper.py:62: RuntimeWarning: invalid value encountered in true_divide\n",
      "  ba_norm = ba / np.linalg.norm(ba,axis=1,keepdims=True)\n",
      " 89%|████████▉ | 126/141 [00:16<00:03,  4.65it/s]/Users/lukefoster/Documents/CompEtho/BM_GPU/helper.py:62: RuntimeWarning: invalid value encountered in true_divide\n",
      "  ba_norm = ba / np.linalg.norm(ba,axis=1,keepdims=True)\n",
      "/Users/lukefoster/Documents/CompEtho/BM_GPU/helper.py:63: RuntimeWarning: invalid value encountered in true_divide\n",
      "  bc_norm = bc / np.linalg.norm(bc,axis=1,keepdims=True)\n",
      " 90%|█████████ | 127/141 [00:16<00:03,  4.44it/s]/Users/lukefoster/Documents/CompEtho/BM_GPU/helper.py:63: RuntimeWarning: invalid value encountered in true_divide\n",
      "  bc_norm = bc / np.linalg.norm(bc,axis=1,keepdims=True)\n",
      "/Users/lukefoster/Documents/CompEtho/BM_GPU/helper.py:62: RuntimeWarning: invalid value encountered in true_divide\n",
      "  ba_norm = ba / np.linalg.norm(ba,axis=1,keepdims=True)\n",
      " 91%|█████████ | 128/141 [00:16<00:02,  4.37it/s]/Users/lukefoster/Documents/CompEtho/BM_GPU/helper.py:62: RuntimeWarning: invalid value encountered in true_divide\n",
      "  ba_norm = ba / np.linalg.norm(ba,axis=1,keepdims=True)\n",
      "/Users/lukefoster/Documents/CompEtho/BM_GPU/helper.py:63: RuntimeWarning: invalid value encountered in true_divide\n",
      "  bc_norm = bc / np.linalg.norm(bc,axis=1,keepdims=True)\n",
      "/Users/lukefoster/Documents/CompEtho/BM_GPU/helper.py:63: RuntimeWarning: invalid value encountered in true_divide\n",
      "  bc_norm = bc / np.linalg.norm(bc,axis=1,keepdims=True)\n",
      " 92%|█████████▏| 130/141 [00:16<00:02,  4.72it/s]/Users/lukefoster/Documents/CompEtho/BM_GPU/helper.py:63: RuntimeWarning: invalid value encountered in true_divide\n",
      "  bc_norm = bc / np.linalg.norm(bc,axis=1,keepdims=True)\n",
      " 93%|█████████▎| 131/141 [00:17<00:01,  5.56it/s]/Users/lukefoster/Documents/CompEtho/BM_GPU/helper.py:63: RuntimeWarning: invalid value encountered in true_divide\n",
      "  bc_norm = bc / np.linalg.norm(bc,axis=1,keepdims=True)\n",
      " 94%|█████████▎| 132/141 [00:17<00:01,  5.52it/s]/Users/lukefoster/Documents/CompEtho/BM_GPU/helper.py:63: RuntimeWarning: invalid value encountered in true_divide\n",
      "  bc_norm = bc / np.linalg.norm(bc,axis=1,keepdims=True)\n",
      " 94%|█████████▍| 133/141 [00:17<00:01,  5.39it/s]/Users/lukefoster/Documents/CompEtho/BM_GPU/helper.py:63: RuntimeWarning: invalid value encountered in true_divide\n",
      "  bc_norm = bc / np.linalg.norm(bc,axis=1,keepdims=True)\n",
      "/Users/lukefoster/Documents/CompEtho/BM_GPU/helper.py:62: RuntimeWarning: invalid value encountered in true_divide\n",
      "  ba_norm = ba / np.linalg.norm(ba,axis=1,keepdims=True)\n",
      " 95%|█████████▌| 134/141 [00:17<00:01,  4.73it/s]/Users/lukefoster/Documents/CompEtho/BM_GPU/helper.py:63: RuntimeWarning: invalid value encountered in true_divide\n",
      "  bc_norm = bc / np.linalg.norm(bc,axis=1,keepdims=True)\n",
      "/Users/lukefoster/Documents/CompEtho/BM_GPU/helper.py:62: RuntimeWarning: invalid value encountered in true_divide\n",
      "  ba_norm = ba / np.linalg.norm(ba,axis=1,keepdims=True)\n",
      "/Users/lukefoster/Documents/CompEtho/BM_GPU/helper.py:62: RuntimeWarning: invalid value encountered in true_divide\n",
      "  ba_norm = ba / np.linalg.norm(ba,axis=1,keepdims=True)\n",
      "/Users/lukefoster/Documents/CompEtho/BM_GPU/helper.py:63: RuntimeWarning: invalid value encountered in true_divide\n",
      "  bc_norm = bc / np.linalg.norm(bc,axis=1,keepdims=True)\n",
      " 96%|█████████▋| 136/141 [00:17<00:00,  5.96it/s]/Users/lukefoster/Documents/CompEtho/BM_GPU/helper.py:62: RuntimeWarning: invalid value encountered in true_divide\n",
      "  ba_norm = ba / np.linalg.norm(ba,axis=1,keepdims=True)\n",
      "/Users/lukefoster/Documents/CompEtho/BM_GPU/helper.py:63: RuntimeWarning: invalid value encountered in true_divide\n",
      "  bc_norm = bc / np.linalg.norm(bc,axis=1,keepdims=True)\n",
      " 99%|█████████▊| 139/141 [00:18<00:00,  6.93it/s]/Users/lukefoster/Documents/CompEtho/BM_GPU/helper.py:62: RuntimeWarning: invalid value encountered in true_divide\n",
      "  ba_norm = ba / np.linalg.norm(ba,axis=1,keepdims=True)\n",
      "100%|██████████| 141/141 [00:18<00:00,  7.73it/s]\n",
      "  0%|          | 0/141 [00:00<?, ?it/s]"
     ]
    },
    {
     "name": "stdout",
     "output_type": "stream",
     "text": [
      "::: Postural Measurements ::: Computation Time: 18.25009512901306\n"
     ]
    },
    {
     "name": "stderr",
     "output_type": "stream",
     "text": [
      "100%|██████████| 141/141 [01:42<00:00,  1.37it/s]"
     ]
    },
    {
     "name": "stdout",
     "output_type": "stream",
     "text": [
      "::: Kinematic Measurements ::: Computation Time: 102.678631067276\n"
     ]
    },
    {
     "name": "stderr",
     "output_type": "stream",
     "text": [
      "\n"
     ]
    }
   ],
   "source": [
    "sys.argv[1] = f\"{PROJECT_PATH}/config_prac.yaml\"\n",
    "\n",
    "features_gpu.main()"
   ]
  },
  {
   "cell_type": "code",
   "execution_count": 6,
   "metadata": {},
   "outputs": [],
   "source": [
    "# run embed_gpu to generate important embeddings .npy data within the results folder\n",
    "\n",
    "import embed_gpu"
   ]
  },
  {
   "cell_type": "code",
   "execution_count": 8,
   "metadata": {},
   "outputs": [
    {
     "name": "stderr",
     "output_type": "stream",
     "text": [
      "\r",
      "  0%|          | 0/141 [00:00<?, ?it/s]"
     ]
    },
    {
     "name": "stdout",
     "output_type": "stream",
     "text": [
      "Loading config.yaml ...\n",
      "Finished loading config\n",
      "Loading INFO.yaml ...\n",
      "Finished loading INFO\n"
     ]
    },
    {
     "name": "stderr",
     "output_type": "stream",
     "text": [
      "100%|██████████| 141/141 [00:09<00:00, 15.03it/s]\n",
      "100%|██████████| 141/141 [00:09<00:00, 14.14it/s]\n"
     ]
    },
    {
     "name": "stdout",
     "output_type": "stream",
     "text": [
      "Number of Good Frames: 563668\n",
      "::: Angle & Limb Postural ::: START Timer\n"
     ]
    },
    {
     "ename": "ModuleNotFoundError",
     "evalue": "No module named 'cudf'",
     "output_type": "error",
     "traceback": [
      "\u001b[0;31m---------------------------------------------------------------------------\u001b[0m",
      "\u001b[0;31mModuleNotFoundError\u001b[0m                       Traceback (most recent call last)",
      "\u001b[0;32m<ipython-input-8-5389c56e590f>\u001b[0m in \u001b[0;36m<module>\u001b[0;34m\u001b[0m\n\u001b[1;32m      1\u001b[0m \u001b[0msys\u001b[0m\u001b[0;34m.\u001b[0m\u001b[0margv\u001b[0m\u001b[0;34m[\u001b[0m\u001b[0;36m1\u001b[0m\u001b[0;34m]\u001b[0m \u001b[0;34m=\u001b[0m \u001b[0;34mf\"{PROJECT_PATH}/config_prac.yaml\"\u001b[0m\u001b[0;34m\u001b[0m\u001b[0;34m\u001b[0m\u001b[0m\n\u001b[1;32m      2\u001b[0m \u001b[0;34m\u001b[0m\u001b[0m\n\u001b[0;32m----> 3\u001b[0;31m \u001b[0membed_gpu\u001b[0m\u001b[0;34m.\u001b[0m\u001b[0mmain\u001b[0m\u001b[0;34m(\u001b[0m\u001b[0;34m)\u001b[0m\u001b[0;34m\u001b[0m\u001b[0;34m\u001b[0m\u001b[0m\n\u001b[0m",
      "\u001b[0;32m~/Documents/CompEtho/BM_GPU/embed_gpu.py\u001b[0m in \u001b[0;36mmain\u001b[0;34m()\u001b[0m\n\u001b[1;32m     91\u001b[0m         \u001b[0mstart_timer\u001b[0m \u001b[0;34m=\u001b[0m \u001b[0mtime\u001b[0m\u001b[0;34m.\u001b[0m\u001b[0mtime\u001b[0m\u001b[0;34m(\u001b[0m\u001b[0;34m)\u001b[0m\u001b[0;34m\u001b[0m\u001b[0;34m\u001b[0m\u001b[0m\n\u001b[1;32m     92\u001b[0m         \u001b[0mprint\u001b[0m\u001b[0;34m(\u001b[0m\u001b[0;34mf\"::: Angle & Limb Postural ::: START Timer\"\u001b[0m\u001b[0;34m)\u001b[0m\u001b[0;34m\u001b[0m\u001b[0;34m\u001b[0m\u001b[0m\n\u001b[0;32m---> 93\u001b[0;31m         \u001b[0mp_angle_limb_embed\u001b[0m\u001b[0;34m(\u001b[0m\u001b[0mconfig\u001b[0m\u001b[0;34m,\u001b[0m \u001b[0mINFO_items\u001b[0m\u001b[0;34m,\u001b[0m \u001b[0mtot_angle\u001b[0m\u001b[0;34m,\u001b[0m \u001b[0mtot_limb\u001b[0m\u001b[0;34m)\u001b[0m\u001b[0;34m\u001b[0m\u001b[0;34m\u001b[0m\u001b[0m\n\u001b[0m\u001b[1;32m     94\u001b[0m         \u001b[0mprint\u001b[0m\u001b[0;34m(\u001b[0m\u001b[0;34mf\"::: Angle & Limb Postural ::: Time Stamp: {time.time()-start_timer}\"\u001b[0m\u001b[0;34m)\u001b[0m\u001b[0;34m\u001b[0m\u001b[0;34m\u001b[0m\u001b[0m\n\u001b[1;32m     95\u001b[0m \u001b[0;34m\u001b[0m\u001b[0m\n",
      "\u001b[0;32m~/Documents/CompEtho/BM_GPU/embed_gpu.py\u001b[0m in \u001b[0;36mp_angle_limb_embed\u001b[0;34m(config, INFO_items, tot_angle, tot_limb)\u001b[0m\n\u001b[1;32m    141\u001b[0m \u001b[0;32mdef\u001b[0m \u001b[0mp_angle_limb_embed\u001b[0m\u001b[0;34m(\u001b[0m\u001b[0mconfig\u001b[0m\u001b[0;34m,\u001b[0m \u001b[0mINFO_items\u001b[0m\u001b[0;34m,\u001b[0m \u001b[0mtot_angle\u001b[0m\u001b[0;34m,\u001b[0m \u001b[0mtot_limb\u001b[0m\u001b[0;34m)\u001b[0m\u001b[0;34m:\u001b[0m\u001b[0;34m\u001b[0m\u001b[0;34m\u001b[0m\u001b[0m\n\u001b[1;32m    142\u001b[0m     \u001b[0mpostural_features\u001b[0m \u001b[0;34m=\u001b[0m \u001b[0mnp\u001b[0m\u001b[0;34m.\u001b[0m\u001b[0mconcatenate\u001b[0m\u001b[0;34m(\u001b[0m\u001b[0;34m[\u001b[0m\u001b[0mtot_angle\u001b[0m\u001b[0;34m,\u001b[0m \u001b[0mtot_limb\u001b[0m\u001b[0;34m]\u001b[0m\u001b[0;34m,\u001b[0m \u001b[0maxis\u001b[0m\u001b[0;34m=\u001b[0m\u001b[0;36m1\u001b[0m\u001b[0;34m)\u001b[0m\u001b[0;34m\u001b[0m\u001b[0;34m\u001b[0m\u001b[0m\n\u001b[0;32m--> 143\u001b[0;31m     \u001b[0membeddings\u001b[0m \u001b[0;34m=\u001b[0m \u001b[0mcuml_umap\u001b[0m\u001b[0;34m(\u001b[0m\u001b[0mconfig\u001b[0m\u001b[0;34m,\u001b[0m \u001b[0mpostural_features\u001b[0m\u001b[0;34m)\u001b[0m\u001b[0;34m\u001b[0m\u001b[0;34m\u001b[0m\u001b[0m\n\u001b[0m\u001b[1;32m    144\u001b[0m     \u001b[0mplot_embeddings\u001b[0m\u001b[0;34m(\u001b[0m\u001b[0membeddings\u001b[0m\u001b[0;34m,\u001b[0m \u001b[0mtitle\u001b[0m\u001b[0;34m=\u001b[0m\u001b[0;34m\"Angle & Limb Postural\"\u001b[0m\u001b[0;34m,\u001b[0m \u001b[0mfname\u001b[0m\u001b[0;34m=\u001b[0m\u001b[0;34m\"angle_limb_postural_embeddings\"\u001b[0m\u001b[0;34m)\u001b[0m\u001b[0;34m\u001b[0m\u001b[0;34m\u001b[0m\u001b[0m\n\u001b[1;32m    145\u001b[0m     \u001b[0msave_embeddings\u001b[0m\u001b[0;34m(\u001b[0m\u001b[0mconfig\u001b[0m\u001b[0;34m,\u001b[0m \u001b[0mINFO_items\u001b[0m\u001b[0;34m,\u001b[0m \u001b[0membeddings\u001b[0m\u001b[0;34m,\u001b[0m \u001b[0mfname\u001b[0m\u001b[0;34m=\u001b[0m\u001b[0;34m\"all_postural_embeddings\"\u001b[0m\u001b[0;34m)\u001b[0m\u001b[0;34m\u001b[0m\u001b[0;34m\u001b[0m\u001b[0m\n",
      "\u001b[0;32m~/Documents/CompEtho/BM_GPU/helper.py\u001b[0m in \u001b[0;36mcuml_umap\u001b[0;34m(config, feature)\u001b[0m\n\u001b[1;32m    111\u001b[0m \u001b[0;32mdef\u001b[0m \u001b[0mcuml_umap\u001b[0m\u001b[0;34m(\u001b[0m\u001b[0mconfig\u001b[0m\u001b[0;34m,\u001b[0m \u001b[0mfeature\u001b[0m\u001b[0;34m)\u001b[0m\u001b[0;34m:\u001b[0m\u001b[0;34m\u001b[0m\u001b[0;34m\u001b[0m\u001b[0m\n\u001b[1;32m    112\u001b[0m     \u001b[0;31m# Import RAPIDS\u001b[0m\u001b[0;34m\u001b[0m\u001b[0;34m\u001b[0m\u001b[0;34m\u001b[0m\u001b[0m\n\u001b[0;32m--> 113\u001b[0;31m     \u001b[0;32mimport\u001b[0m \u001b[0mcudf\u001b[0m\u001b[0;34m,\u001b[0m \u001b[0mcuml\u001b[0m\u001b[0;34m\u001b[0m\u001b[0;34m\u001b[0m\u001b[0m\n\u001b[0m\u001b[1;32m    114\u001b[0m     \u001b[0mprint\u001b[0m\u001b[0;34m(\u001b[0m\u001b[0;34m\"INSIDE CUML_UMAP\"\u001b[0m\u001b[0;34m)\u001b[0m\u001b[0;34m\u001b[0m\u001b[0;34m\u001b[0m\u001b[0m\n\u001b[1;32m    115\u001b[0m     \u001b[0mprint\u001b[0m\u001b[0;34m(\u001b[0m\u001b[0mfeature\u001b[0m\u001b[0;34m.\u001b[0m\u001b[0mshape\u001b[0m\u001b[0;34m)\u001b[0m\u001b[0;34m\u001b[0m\u001b[0;34m\u001b[0m\u001b[0m\n",
      "\u001b[0;31mModuleNotFoundError\u001b[0m: No module named 'cudf'"
     ]
    }
   ],
   "source": [
    "sys.argv[1] = f\"{PROJECT_PATH}/config_prac.yaml\"\n",
    "\n",
    "embed_gpu.main()"
   ]
  },
  {
   "cell_type": "code",
   "execution_count": null,
   "metadata": {},
   "outputs": [],
   "source": [
    "# after running through the pipeline we are left with a full results folder which is\n",
    "# analyzed and used to create figures"
   ]
  }
 ],
 "metadata": {
  "kernelspec": {
   "display_name": "Python 3",
   "language": "python",
   "name": "python3"
  },
  "language_info": {
   "codemirror_mode": {
    "name": "ipython",
    "version": 3
   },
   "file_extension": ".py",
   "mimetype": "text/x-python",
   "name": "python",
   "nbconvert_exporter": "python",
   "pygments_lexer": "ipython3",
   "version": "3.8.5"
  },
  "toc": {
   "base_numbering": 1,
   "nav_menu": {},
   "number_sections": true,
   "sideBar": true,
   "skip_h1_title": false,
   "title_cell": "Table of Contents",
   "title_sidebar": "Contents",
   "toc_cell": false,
   "toc_position": {},
   "toc_section_display": true,
   "toc_window_display": false
  }
 },
 "nbformat": 4,
 "nbformat_minor": 4
}
